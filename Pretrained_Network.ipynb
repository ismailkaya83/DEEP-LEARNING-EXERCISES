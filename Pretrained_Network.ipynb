{
  "nbformat": 4,
  "nbformat_minor": 0,
  "metadata": {
    "colab": {
      "name": "Pretrained Network.ipynb",
      "provenance": [],
      "collapsed_sections": [],
      "mount_file_id": "1QoqhfFsGhBFyCGN4D6IgSEZfAia5xThC",
      "authorship_tag": "ABX9TyNqroFww1sXEva0O69hRmWU",
      "include_colab_link": true
    },
    "kernelspec": {
      "name": "python3",
      "display_name": "Python 3"
    },
    "accelerator": "GPU"
  },
  "cells": [
    {
      "cell_type": "markdown",
      "metadata": {
        "id": "view-in-github",
        "colab_type": "text"
      },
      "source": [
        "<a href=\"https://colab.research.google.com/github/ismailkaya83/MY-DEEP-LEARNING-NOTEBOOKS/blob/master/Pretrained_Network.ipynb\" target=\"_parent\"><img src=\"https://colab.research.google.com/assets/colab-badge.svg\" alt=\"Open In Colab\"/></a>"
      ]
    },
    {
      "cell_type": "markdown",
      "metadata": {
        "id": "oJK38Q0ovqKn"
      },
      "source": [
        "There are two ways to use a pretrained network: **feature extraction** and **fine-tuning**. We’ll cover both of them. Let’s start with feature extraction.\n",
        "\n",
        "## **Feature extraction**\n",
        "\n",
        "Feature extraction consists of using the representations learned by a previous network to extract interesting features from new samples. These features are then run through a new classifier, which is trained from scratch.\n",
        "\n",
        "In this case, because the ImageNet class set contains multiple dog and cat classes, it’s likely to be beneficial to reuse the information contained in the densely connected layers of the original model. But we’ll choose not to, in order to cover the more general case where the class set of the new problem doesn’t overlap the class set of the original model. Let’s put this in practice by using the convolutional base of the VGG16 network, trained on ImageNet, to extract interesting features from cat and dog images, and then train a dogs-versus-cats classifier on top of these features."
      ]
    },
    {
      "cell_type": "code",
      "metadata": {
        "colab": {
          "base_uri": "https://localhost:8080/"
        },
        "id": "KPIDaLeHTRd4",
        "outputId": "8e5bdd25-60e7-4d62-ba01-28e2005ff31d"
      },
      "source": [
        "#Instantiating the VGG16 convolutional base\n",
        "\n",
        "from keras.applications import VGG16\n",
        "\n",
        "conv_base = VGG16(weights='imagenet', #specifies the weight checkpoint from which to initialize the model.\n",
        "                  include_top=False, #refers to including (or not) the densely connected classifier on top of the network. By default, this densely connected classifier corresponds to the 1,000 classes from ImageNet. Because you intend to use your own densely connected classifier (with only two classes: cat and dog), you don’t need to include it.\n",
        "                  input_shape=(150, 150, 3)) #is the shape of the image tensors that you’ll feed to the network. This argument is purely optional: if you don’t pass it, the network will be able to process inputs of any size."
      ],
      "execution_count": 2,
      "outputs": [
        {
          "output_type": "stream",
          "text": [
            "Downloading data from https://storage.googleapis.com/tensorflow/keras-applications/vgg16/vgg16_weights_tf_dim_ordering_tf_kernels_notop.h5\n",
            "58892288/58889256 [==============================] - 0s 0us/step\n"
          ],
          "name": "stdout"
        }
      ]
    },
    {
      "cell_type": "code",
      "metadata": {
        "colab": {
          "base_uri": "https://localhost:8080/"
        },
        "id": "bzkKzkCWTsS5",
        "outputId": "978d4630-974b-45f6-9a54-b86f39f54e9f"
      },
      "source": [
        "conv_base.summary()"
      ],
      "execution_count": 3,
      "outputs": [
        {
          "output_type": "stream",
          "text": [
            "Model: \"vgg16\"\n",
            "_________________________________________________________________\n",
            "Layer (type)                 Output Shape              Param #   \n",
            "=================================================================\n",
            "input_1 (InputLayer)         [(None, 150, 150, 3)]     0         \n",
            "_________________________________________________________________\n",
            "block1_conv1 (Conv2D)        (None, 150, 150, 64)      1792      \n",
            "_________________________________________________________________\n",
            "block1_conv2 (Conv2D)        (None, 150, 150, 64)      36928     \n",
            "_________________________________________________________________\n",
            "block1_pool (MaxPooling2D)   (None, 75, 75, 64)        0         \n",
            "_________________________________________________________________\n",
            "block2_conv1 (Conv2D)        (None, 75, 75, 128)       73856     \n",
            "_________________________________________________________________\n",
            "block2_conv2 (Conv2D)        (None, 75, 75, 128)       147584    \n",
            "_________________________________________________________________\n",
            "block2_pool (MaxPooling2D)   (None, 37, 37, 128)       0         \n",
            "_________________________________________________________________\n",
            "block3_conv1 (Conv2D)        (None, 37, 37, 256)       295168    \n",
            "_________________________________________________________________\n",
            "block3_conv2 (Conv2D)        (None, 37, 37, 256)       590080    \n",
            "_________________________________________________________________\n",
            "block3_conv3 (Conv2D)        (None, 37, 37, 256)       590080    \n",
            "_________________________________________________________________\n",
            "block3_pool (MaxPooling2D)   (None, 18, 18, 256)       0         \n",
            "_________________________________________________________________\n",
            "block4_conv1 (Conv2D)        (None, 18, 18, 512)       1180160   \n",
            "_________________________________________________________________\n",
            "block4_conv2 (Conv2D)        (None, 18, 18, 512)       2359808   \n",
            "_________________________________________________________________\n",
            "block4_conv3 (Conv2D)        (None, 18, 18, 512)       2359808   \n",
            "_________________________________________________________________\n",
            "block4_pool (MaxPooling2D)   (None, 9, 9, 512)         0         \n",
            "_________________________________________________________________\n",
            "block5_conv1 (Conv2D)        (None, 9, 9, 512)         2359808   \n",
            "_________________________________________________________________\n",
            "block5_conv2 (Conv2D)        (None, 9, 9, 512)         2359808   \n",
            "_________________________________________________________________\n",
            "block5_conv3 (Conv2D)        (None, 9, 9, 512)         2359808   \n",
            "_________________________________________________________________\n",
            "block5_pool (MaxPooling2D)   (None, 4, 4, 512)         0         \n",
            "=================================================================\n",
            "Total params: 14,714,688\n",
            "Trainable params: 14,714,688\n",
            "Non-trainable params: 0\n",
            "_________________________________________________________________\n"
          ],
          "name": "stdout"
        }
      ]
    },
    {
      "cell_type": "markdown",
      "metadata": {
        "id": "AWEl8deMT0EF"
      },
      "source": [
        "The final feature map has shape (4, 4, 512). That’s the feature on top of which you’ll stick a densely connected classifier.\n",
        "\n",
        "At this point, there are two ways you could proceed:\n",
        "\n",
        "- Running the convolutional base over your dataset, recording its output to a Numpy array on disk, and then using this data as input to a standalone, densely connected classifier similar to those you saw in part 1 of this book. This solution is fast and cheap to run, because it only requires running the convolutional base once for every input image, and the convolutional base is by far the most expensive part of the pipeline. But for the same reason, this technique won’t allow you to use data augmentation.\n",
        "- Extending the model you have (conv_base) by adding Dense layers on top, and running the whole thing end to end on the input data. This will allow you to use data augmentation, because every input image goes through the convolutional base every time it’s seen by the model. But for the same reason, this technique is far more expensive than the first.\n",
        "\n",
        "**Fast feature extraction without data augmentation**\n",
        "\n",
        "You’ll start by running instances of the previously introduced ImageDataGenerator to extract images as Numpy arrays as well as their labels. You’ll extract features from these images by calling the predict method of the conv_base model."
      ]
    },
    {
      "cell_type": "code",
      "metadata": {
        "id": "zR4wGq8CUcVq"
      },
      "source": [
        "#Extracting features using the pretrained convolutional base\n",
        "\n",
        "import os\n",
        "import numpy as np\n",
        "from keras.preprocessing.image import ImageDataGenerator"
      ],
      "execution_count": 4,
      "outputs": []
    },
    {
      "cell_type": "code",
      "metadata": {
        "id": "W2IlAX5BUmTj"
      },
      "source": [
        "base_dir = '/content/drive/MyDrive/Colab_Notebooks/cats_and_dogs_small'\n",
        "train_dir = '/content/drive/MyDrive/Colab_Notebooks/cats_and_dogs_small/train'\n",
        "validation_dir = '/content/drive/MyDrive/Colab_Notebooks/cats_and_dogs_small/validation'\n",
        "test_dir = '/content/drive/MyDrive/Colab_Notebooks/cats_and_dogs_small/test'"
      ],
      "execution_count": 5,
      "outputs": []
    },
    {
      "cell_type": "code",
      "metadata": {
        "id": "HjP-u3QaU6gy"
      },
      "source": [
        "datagen = ImageDataGenerator(rescale=1./255)\n",
        "batch_size = 20"
      ],
      "execution_count": 6,
      "outputs": []
    },
    {
      "cell_type": "code",
      "metadata": {
        "id": "imwzxd8_U8tj"
      },
      "source": [
        "def extract_features(directory, sample_count):\n",
        "    features = np.zeros(shape=(sample_count, 4, 4, 512))\n",
        "    labels = np.zeros(shape=(sample_count))\n",
        "    generator = datagen.flow_from_directory(\n",
        "        directory,\n",
        "        target_size=(150, 150),\n",
        "        batch_size=batch_size,\n",
        "        class_mode='binary')\n",
        "    i = 0\n",
        "    for inputs_batch, labels_batch in generator:\n",
        "        features_batch = conv_base.predict(inputs_batch)\n",
        "        features[i * batch_size : (i + 1) * batch_size] = features_batch\n",
        "        labels[i * batch_size : (i + 1) * batch_size] = labels_batch\n",
        "        i += 1\n",
        "        if i * batch_size >= sample_count:\n",
        "            break #note that because generators yield data indefinitely in a loop, you must break after every image has been seen one\n",
        "    return features, labels"
      ],
      "execution_count": 7,
      "outputs": []
    },
    {
      "cell_type": "code",
      "metadata": {
        "colab": {
          "base_uri": "https://localhost:8080/"
        },
        "id": "dRUMfTbcVYaK",
        "outputId": "3e350dfe-8708-40f4-a433-7a7a98816443"
      },
      "source": [
        "train_features, train_labels = extract_features(train_dir, 2000)"
      ],
      "execution_count": 8,
      "outputs": [
        {
          "output_type": "stream",
          "text": [
            "Found 2000 images belonging to 2 classes.\n"
          ],
          "name": "stdout"
        }
      ]
    },
    {
      "cell_type": "code",
      "metadata": {
        "colab": {
          "base_uri": "https://localhost:8080/"
        },
        "id": "ohmKJ570YUJ2",
        "outputId": "6defbc17-d0b5-44e1-e809-dea42cdef6a4"
      },
      "source": [
        "test_features, test_labels = extract_features(test_dir, 1000)"
      ],
      "execution_count": 9,
      "outputs": [
        {
          "output_type": "stream",
          "text": [
            "Found 1000 images belonging to 2 classes.\n"
          ],
          "name": "stdout"
        }
      ]
    },
    {
      "cell_type": "code",
      "metadata": {
        "colab": {
          "base_uri": "https://localhost:8080/"
        },
        "id": "ZQNdPoXxYTGQ",
        "outputId": "fe6be0f0-3810-4397-ea73-fe591f266af5"
      },
      "source": [
        "validation_features, validation_labels = extract_features(validation_dir, 1000)"
      ],
      "execution_count": 10,
      "outputs": [
        {
          "output_type": "stream",
          "text": [
            "Found 1000 images belonging to 2 classes.\n"
          ],
          "name": "stdout"
        }
      ]
    },
    {
      "cell_type": "markdown",
      "metadata": {
        "id": "4a2QGAOCivo3"
      },
      "source": [
        "The extracted features are currently of shape (samples, 4, 4, 512). You’ll feed them to a densely connected classifier, so first you must flatten them to (samples, 8192):"
      ]
    },
    {
      "cell_type": "code",
      "metadata": {
        "id": "97L2R-bTiwZt"
      },
      "source": [
        "train_features = np.reshape(train_features, (2000, 4 * 4 * 512))\n",
        "validation_features = np.reshape(validation_features, (1000, 4 * 4 * 512))\n",
        "test_features = np.reshape(test_features, (1000, 4 * 4 * 512))"
      ],
      "execution_count": 11,
      "outputs": []
    },
    {
      "cell_type": "markdown",
      "metadata": {
        "id": "ch06rXZQi4dW"
      },
      "source": [
        "At this point, you can define your densely connected classifier (note the use of dropout for regularization) and train it on the data and labels that you just recorded."
      ]
    },
    {
      "cell_type": "code",
      "metadata": {
        "colab": {
          "base_uri": "https://localhost:8080/"
        },
        "id": "5upVd7hdi6DE",
        "outputId": "f9a5a88d-624d-415c-fd01-f005b051d9d7"
      },
      "source": [
        "from keras import models\n",
        "from keras import layers\n",
        "from keras import optimizers\n",
        "\n",
        "model = models.Sequential()\n",
        "model.add(layers.Dense(256, activation='relu', input_dim=4 * 4 * 512))\n",
        "model.add(layers.Dropout(0.5))\n",
        "model.add(layers.Dense(1, activation='sigmoid'))\n",
        "\n",
        "model.compile(optimizer=optimizers.RMSprop(lr=2e-5),\n",
        "              loss='binary_crossentropy',\n",
        "              metrics=['acc'])\n",
        "\n",
        "history = model.fit(train_features, train_labels,\n",
        "                    epochs=30,\n",
        "                    batch_size=20,\n",
        "                    validation_data=(validation_features, validation_labels))"
      ],
      "execution_count": 12,
      "outputs": [
        {
          "output_type": "stream",
          "text": [
            "Epoch 1/30\n",
            "100/100 [==============================] - 1s 5ms/step - loss: 0.6124 - acc: 0.6585 - val_loss: 0.4462 - val_acc: 0.8460\n",
            "Epoch 2/30\n",
            "100/100 [==============================] - 0s 4ms/step - loss: 0.4373 - acc: 0.8040 - val_loss: 0.3607 - val_acc: 0.8660\n",
            "Epoch 3/30\n",
            "100/100 [==============================] - 0s 4ms/step - loss: 0.3611 - acc: 0.8420 - val_loss: 0.3177 - val_acc: 0.8830\n",
            "Epoch 4/30\n",
            "100/100 [==============================] - 0s 4ms/step - loss: 0.3160 - acc: 0.8665 - val_loss: 0.2997 - val_acc: 0.8870\n",
            "Epoch 5/30\n",
            "100/100 [==============================] - 0s 4ms/step - loss: 0.2778 - acc: 0.8920 - val_loss: 0.2787 - val_acc: 0.8930\n",
            "Epoch 6/30\n",
            "100/100 [==============================] - 0s 4ms/step - loss: 0.2622 - acc: 0.8895 - val_loss: 0.2689 - val_acc: 0.8950\n",
            "Epoch 7/30\n",
            "100/100 [==============================] - 0s 4ms/step - loss: 0.2416 - acc: 0.9060 - val_loss: 0.2672 - val_acc: 0.8900\n",
            "Epoch 8/30\n",
            "100/100 [==============================] - 0s 4ms/step - loss: 0.2258 - acc: 0.9070 - val_loss: 0.2544 - val_acc: 0.9000\n",
            "Epoch 9/30\n",
            "100/100 [==============================] - 0s 4ms/step - loss: 0.2103 - acc: 0.9205 - val_loss: 0.2479 - val_acc: 0.9020\n",
            "Epoch 10/30\n",
            "100/100 [==============================] - 0s 4ms/step - loss: 0.2033 - acc: 0.9240 - val_loss: 0.2442 - val_acc: 0.9060\n",
            "Epoch 11/30\n",
            "100/100 [==============================] - 0s 4ms/step - loss: 0.1901 - acc: 0.9315 - val_loss: 0.2443 - val_acc: 0.9050\n",
            "Epoch 12/30\n",
            "100/100 [==============================] - 0s 4ms/step - loss: 0.1813 - acc: 0.9320 - val_loss: 0.2431 - val_acc: 0.9040\n",
            "Epoch 13/30\n",
            "100/100 [==============================] - 0s 4ms/step - loss: 0.1669 - acc: 0.9385 - val_loss: 0.2370 - val_acc: 0.9040\n",
            "Epoch 14/30\n",
            "100/100 [==============================] - 0s 4ms/step - loss: 0.1685 - acc: 0.9420 - val_loss: 0.2374 - val_acc: 0.9080\n",
            "Epoch 15/30\n",
            "100/100 [==============================] - 0s 4ms/step - loss: 0.1516 - acc: 0.9490 - val_loss: 0.2342 - val_acc: 0.9050\n",
            "Epoch 16/30\n",
            "100/100 [==============================] - 0s 4ms/step - loss: 0.1511 - acc: 0.9485 - val_loss: 0.2338 - val_acc: 0.9050\n",
            "Epoch 17/30\n",
            "100/100 [==============================] - 0s 4ms/step - loss: 0.1496 - acc: 0.9510 - val_loss: 0.2358 - val_acc: 0.9060\n",
            "Epoch 18/30\n",
            "100/100 [==============================] - 0s 4ms/step - loss: 0.1385 - acc: 0.9555 - val_loss: 0.2331 - val_acc: 0.9020\n",
            "Epoch 19/30\n",
            "100/100 [==============================] - 0s 4ms/step - loss: 0.1284 - acc: 0.9595 - val_loss: 0.2334 - val_acc: 0.9050\n",
            "Epoch 20/30\n",
            "100/100 [==============================] - 0s 4ms/step - loss: 0.1316 - acc: 0.9515 - val_loss: 0.2345 - val_acc: 0.9030\n",
            "Epoch 21/30\n",
            "100/100 [==============================] - 0s 4ms/step - loss: 0.1257 - acc: 0.9565 - val_loss: 0.2339 - val_acc: 0.9020\n",
            "Epoch 22/30\n",
            "100/100 [==============================] - 0s 4ms/step - loss: 0.1121 - acc: 0.9625 - val_loss: 0.2330 - val_acc: 0.9070\n",
            "Epoch 23/30\n",
            "100/100 [==============================] - 0s 4ms/step - loss: 0.1103 - acc: 0.9625 - val_loss: 0.2527 - val_acc: 0.8950\n",
            "Epoch 24/30\n",
            "100/100 [==============================] - 0s 4ms/step - loss: 0.1094 - acc: 0.9625 - val_loss: 0.2450 - val_acc: 0.9040\n",
            "Epoch 25/30\n",
            "100/100 [==============================] - 0s 4ms/step - loss: 0.1036 - acc: 0.9650 - val_loss: 0.2450 - val_acc: 0.9020\n",
            "Epoch 26/30\n",
            "100/100 [==============================] - 0s 4ms/step - loss: 0.1003 - acc: 0.9685 - val_loss: 0.2463 - val_acc: 0.9020\n",
            "Epoch 27/30\n",
            "100/100 [==============================] - 0s 4ms/step - loss: 0.0932 - acc: 0.9710 - val_loss: 0.2379 - val_acc: 0.9030\n",
            "Epoch 28/30\n",
            "100/100 [==============================] - 0s 4ms/step - loss: 0.0884 - acc: 0.9745 - val_loss: 0.2396 - val_acc: 0.9000\n",
            "Epoch 29/30\n",
            "100/100 [==============================] - 0s 4ms/step - loss: 0.0881 - acc: 0.9740 - val_loss: 0.2378 - val_acc: 0.9050\n",
            "Epoch 30/30\n",
            "100/100 [==============================] - 0s 4ms/step - loss: 0.0828 - acc: 0.9755 - val_loss: 0.2457 - val_acc: 0.8990\n"
          ],
          "name": "stdout"
        }
      ]
    },
    {
      "cell_type": "code",
      "metadata": {
        "colab": {
          "base_uri": "https://localhost:8080/",
          "height": 545
        },
        "id": "XCjP1zn4jKwC",
        "outputId": "1d7a6439-ecec-469d-bb49-71cc265356ce"
      },
      "source": [
        "import matplotlib.pyplot as plt\n",
        "\n",
        "acc = history.history['acc']\n",
        "val_acc = history.history['val_acc']\n",
        "loss = history.history['loss']\n",
        "val_loss = history.history['val_loss']\n",
        "\n",
        "epochs = range(1, len(acc) + 1)\n",
        "\n",
        "plt.plot(epochs, acc, 'bo', label='Training acc')\n",
        "plt.plot(epochs, val_acc, 'b', label='Validation acc')\n",
        "plt.title('Training and validation accuracy')\n",
        "plt.legend()\n",
        "\n",
        "plt.figure()\n",
        "\n",
        "plt.plot(epochs, loss, 'bo', label='Training loss')\n",
        "plt.plot(epochs, val_loss, 'b', label='Validation loss')\n",
        "plt.title('Training and validation loss')\n",
        "plt.legend()\n",
        "\n",
        "plt.show()"
      ],
      "execution_count": 13,
      "outputs": [
        {
          "output_type": "display_data",
          "data": {
            "image/png": "[encoded data removed]",
            "text/plain": [
              "<Figure size 432x288 with 1 Axes>"
            ]
          },
          "metadata": {
            "tags": [],
            "needs_background": "light"
          }
        },
        {
          "output_type": "display_data",
          "data": {
            "image/png": "[encoded data removed]",
            "text/plain": [
              "<Figure size 432x288 with 1 Axes>"
            ]
          },
          "metadata": {
            "tags": [],
            "needs_background": "light"
          }
        }
      ]
    },
    {
      "cell_type": "markdown",
      "metadata": {
        "id": "tmowc0pDjYbi"
      },
      "source": [
        "We reach a validation accuracy of about 90%—much better than you achieved in the previous section with the small model trained from scratch. But the plots also indicate that we’re overfitting almost from the start—despite using dropout with a fairly large rate. That’s because this technique doesn’t use data augmentation, which is essential for preventing overfitting with small image datasets.\n",
        "\n",
        "**Feature extraction with data augmentation**\n",
        "\n",
        "Now, let’s review the second technique I mentioned for doing feature extraction, which is much slower and more expensive, but which allows you to use data augmentation during training: extending the conv_base model and running it end to end on the inputs."
      ]
    },
    {
      "cell_type": "code",
      "metadata": {
        "id": "J1TLA9wCj86i"
      },
      "source": [
        "#Adding a densely connected classifier on top of the convolutional base\n",
        "\n",
        "from keras import models\n",
        "from keras import layers\n",
        "\n",
        "model = models.Sequential()\n",
        "model.add(conv_base)\n",
        "model.add(layers.Flatten())\n",
        "model.add(layers.Dense(256, activation='relu'))\n",
        "model.add(layers.Dense(1, activation='sigmoid'))"
      ],
      "execution_count": 14,
      "outputs": []
    },
    {
      "cell_type": "code",
      "metadata": {
        "colab": {
          "base_uri": "https://localhost:8080/"
        },
        "id": "Ujg80wKZkDHX",
        "outputId": "0ae23426-d7b7-4200-ea80-2f2161fbc296"
      },
      "source": [
        "model.summary()"
      ],
      "execution_count": 15,
      "outputs": [
        {
          "output_type": "stream",
          "text": [
            "Model: \"sequential_1\"\n",
            "_________________________________________________________________\n",
            "Layer (type)                 Output Shape              Param #   \n",
            "=================================================================\n",
            "vgg16 (Functional)           (None, 4, 4, 512)         14714688  \n",
            "_________________________________________________________________\n",
            "flatten (Flatten)            (None, 8192)              0         \n",
            "_________________________________________________________________\n",
            "dense_2 (Dense)              (None, 256)               2097408   \n",
            "_________________________________________________________________\n",
            "dense_3 (Dense)              (None, 1)                 257       \n",
            "=================================================================\n",
            "Total params: 16,812,353\n",
            "Trainable params: 16,812,353\n",
            "Non-trainable params: 0\n",
            "_________________________________________________________________\n"
          ],
          "name": "stdout"
        }
      ]
    },
    {
      "cell_type": "markdown",
      "metadata": {
        "id": "zLu1AQTWkNAb"
      },
      "source": [
        "Before you compile and train the model, it’s very important to freeze the convolutional base. Freezing a layer or set of layers means preventing their weights from being updated during training. If you don’t do this, then the representations that were previously learned by the convolutional base will be modified during training. Because the Dense layers on top are randomly initialized, very large weight updates would be propagated through the network, effectively destroying the representations previously learned.\n",
        "\n",
        "In Keras, you freeze a network by setting its trainable attribute to False:\n",
        "\n"
      ]
    },
    {
      "cell_type": "code",
      "metadata": {
        "colab": {
          "base_uri": "https://localhost:8080/"
        },
        "id": "SYJ_BbCEkP1V",
        "outputId": "ccce82e2-70b4-4e33-835b-012a3d3cd170"
      },
      "source": [
        "print('This is the number of trainable weights before freezing the conv base:', len(model.trainable_weights))\n",
        "\n",
        "conv_base.trainable = False\n",
        "\n",
        "print('This is the number of trainable weights after freezing the conv base:', len(model.trainable_weights))"
      ],
      "execution_count": 16,
      "outputs": [
        {
          "output_type": "stream",
          "text": [
            "This is the number of trainable weights before freezing the conv base: 30\n",
            "This is the number of trainable weights after freezing the conv base: 4\n"
          ],
          "name": "stdout"
        }
      ]
    },
    {
      "cell_type": "markdown",
      "metadata": {
        "id": "6J0TbGgskxie"
      },
      "source": [
        "With this setup, only the weights from the two Dense layers that you added will be trained. That’s a total of four weight tensors: two per layer (the main weight matrix and the bias vector). Note that in order for these changes to take effect, you must first compile the model. If you ever modify weight trainability after compilation, you should then recompile the model, or these changes will be ignored."
      ]
    },
    {
      "cell_type": "code",
      "metadata": {
        "colab": {
          "base_uri": "https://localhost:8080/"
        },
        "id": "xWnoj7o9kyvm",
        "outputId": "e5eeac5b-1eeb-468c-b5f0-afe7486371b9"
      },
      "source": [
        "#Training the model end to end with a frozen convolutional base\n",
        "\n",
        "from keras.preprocessing.image import ImageDataGenerator\n",
        "from keras import optimizers\n",
        "\n",
        "train_datagen = ImageDataGenerator(\n",
        "      rescale=1./255,\n",
        "      rotation_range=40,\n",
        "      width_shift_range=0.2,\n",
        "      height_shift_range=0.2,\n",
        "      shear_range=0.2,\n",
        "      zoom_range=0.2,\n",
        "      horizontal_flip=True,\n",
        "      fill_mode='nearest')\n",
        "\n",
        "test_datagen = ImageDataGenerator(rescale=1./255)\n",
        "\n",
        "train_generator = train_datagen.flow_from_directory(\n",
        "        train_dir,\n",
        "        target_size=(150, 150),\n",
        "        batch_size=20,\n",
        "        class_mode='binary')\n",
        "\n",
        "validation_generator = test_datagen.flow_from_directory(\n",
        "        validation_dir,\n",
        "        target_size=(150, 150),\n",
        "        batch_size=20,\n",
        "        class_mode='binary')\n",
        "\n",
        "model.compile(loss='binary_crossentropy',\n",
        "              optimizer=optimizers.RMSprop(lr=2e-5),\n",
        "              metrics=['acc'])\n",
        "\n",
        "history = model.fit(\n",
        "      train_generator,\n",
        "      steps_per_epoch=100,\n",
        "      epochs=30,\n",
        "      validation_data=validation_generator,\n",
        "      validation_steps=50)"
      ],
      "execution_count": 17,
      "outputs": [
        {
          "output_type": "stream",
          "text": [
            "Found 2000 images belonging to 2 classes.\n",
            "Found 1000 images belonging to 2 classes.\n",
            "Epoch 1/30\n",
            "100/100 [==============================] - 24s 242ms/step - loss: 0.5895 - acc: 0.7020 - val_loss: 0.4530 - val_acc: 0.8220\n",
            "Epoch 2/30\n",
            "100/100 [==============================] - 24s 237ms/step - loss: 0.4930 - acc: 0.7845 - val_loss: 0.3820 - val_acc: 0.8440\n",
            "Epoch 3/30\n",
            "100/100 [==============================] - 23s 233ms/step - loss: 0.4474 - acc: 0.7980 - val_loss: 0.3330 - val_acc: 0.8780\n",
            "Epoch 4/30\n",
            "100/100 [==============================] - 24s 236ms/step - loss: 0.4071 - acc: 0.8180 - val_loss: 0.3158 - val_acc: 0.8660\n",
            "Epoch 5/30\n",
            "100/100 [==============================] - 23s 232ms/step - loss: 0.3901 - acc: 0.8205 - val_loss: 0.3056 - val_acc: 0.8820\n",
            "Epoch 6/30\n",
            "100/100 [==============================] - 23s 233ms/step - loss: 0.3677 - acc: 0.8470 - val_loss: 0.2830 - val_acc: 0.8880\n",
            "Epoch 7/30\n",
            "100/100 [==============================] - 24s 240ms/step - loss: 0.3560 - acc: 0.8530 - val_loss: 0.2900 - val_acc: 0.8840\n",
            "Epoch 8/30\n",
            "100/100 [==============================] - 24s 236ms/step - loss: 0.3561 - acc: 0.8430 - val_loss: 0.2719 - val_acc: 0.8890\n",
            "Epoch 9/30\n",
            "100/100 [==============================] - 23s 234ms/step - loss: 0.3486 - acc: 0.8475 - val_loss: 0.2652 - val_acc: 0.8950\n",
            "Epoch 10/30\n",
            "100/100 [==============================] - 23s 233ms/step - loss: 0.3403 - acc: 0.8535 - val_loss: 0.2613 - val_acc: 0.8890\n",
            "Epoch 11/30\n",
            "100/100 [==============================] - 24s 236ms/step - loss: 0.3316 - acc: 0.8505 - val_loss: 0.2567 - val_acc: 0.8950\n",
            "Epoch 12/30\n",
            "100/100 [==============================] - 23s 231ms/step - loss: 0.3195 - acc: 0.8605 - val_loss: 0.2580 - val_acc: 0.8910\n",
            "Epoch 13/30\n",
            "100/100 [==============================] - 23s 232ms/step - loss: 0.3263 - acc: 0.8570 - val_loss: 0.2534 - val_acc: 0.9010\n",
            "Epoch 14/30\n",
            "100/100 [==============================] - 23s 232ms/step - loss: 0.3178 - acc: 0.8655 - val_loss: 0.2510 - val_acc: 0.8980\n",
            "Epoch 15/30\n",
            "100/100 [==============================] - 23s 230ms/step - loss: 0.3025 - acc: 0.8640 - val_loss: 0.2494 - val_acc: 0.8920\n",
            "Epoch 16/30\n",
            "100/100 [==============================] - 23s 231ms/step - loss: 0.3176 - acc: 0.8660 - val_loss: 0.2541 - val_acc: 0.8900\n",
            "Epoch 17/30\n",
            "100/100 [==============================] - 23s 232ms/step - loss: 0.3141 - acc: 0.8580 - val_loss: 0.2579 - val_acc: 0.8920\n",
            "Epoch 18/30\n",
            "100/100 [==============================] - 23s 233ms/step - loss: 0.3060 - acc: 0.8635 - val_loss: 0.2473 - val_acc: 0.8950\n",
            "Epoch 19/30\n",
            "100/100 [==============================] - 23s 230ms/step - loss: 0.3115 - acc: 0.8685 - val_loss: 0.2446 - val_acc: 0.9020\n",
            "Epoch 20/30\n",
            "100/100 [==============================] - 23s 232ms/step - loss: 0.2944 - acc: 0.8740 - val_loss: 0.2449 - val_acc: 0.8960\n",
            "Epoch 21/30\n",
            "100/100 [==============================] - 24s 238ms/step - loss: 0.3011 - acc: 0.8720 - val_loss: 0.2416 - val_acc: 0.8920\n",
            "Epoch 22/30\n",
            "100/100 [==============================] - 23s 231ms/step - loss: 0.2960 - acc: 0.8755 - val_loss: 0.2416 - val_acc: 0.9000\n",
            "Epoch 23/30\n",
            "100/100 [==============================] - 23s 231ms/step - loss: 0.3018 - acc: 0.8700 - val_loss: 0.2391 - val_acc: 0.8970\n",
            "Epoch 24/30\n",
            "100/100 [==============================] - 23s 234ms/step - loss: 0.2995 - acc: 0.8710 - val_loss: 0.2459 - val_acc: 0.8970\n",
            "Epoch 25/30\n",
            "100/100 [==============================] - 23s 231ms/step - loss: 0.2833 - acc: 0.8775 - val_loss: 0.2426 - val_acc: 0.8950\n",
            "Epoch 26/30\n",
            "100/100 [==============================] - 23s 230ms/step - loss: 0.3075 - acc: 0.8705 - val_loss: 0.2526 - val_acc: 0.8970\n",
            "Epoch 27/30\n",
            "100/100 [==============================] - 23s 232ms/step - loss: 0.2802 - acc: 0.8825 - val_loss: 0.2530 - val_acc: 0.8960\n",
            "Epoch 28/30\n",
            "100/100 [==============================] - 23s 232ms/step - loss: 0.2839 - acc: 0.8755 - val_loss: 0.2605 - val_acc: 0.8910\n",
            "Epoch 29/30\n",
            "100/100 [==============================] - 23s 229ms/step - loss: 0.2736 - acc: 0.8890 - val_loss: 0.2413 - val_acc: 0.8960\n",
            "Epoch 30/30\n",
            "100/100 [==============================] - 23s 231ms/step - loss: 0.2874 - acc: 0.8785 - val_loss: 0.2418 - val_acc: 0.9010\n"
          ],
          "name": "stdout"
        }
      ]
    },
    {
      "cell_type": "code",
      "metadata": {
        "colab": {
          "base_uri": "https://localhost:8080/",
          "height": 545
        },
        "id": "ONyFwfivqTio",
        "outputId": "55c611a8-ad28-4a52-ae05-023e1196295f"
      },
      "source": [
        "import matplotlib.pyplot as plt\n",
        "\n",
        "acc = history.history['acc']\n",
        "val_acc = history.history['val_acc']\n",
        "loss = history.history['loss']\n",
        "val_loss = history.history['val_loss']\n",
        "\n",
        "epochs = range(1, len(acc) + 1)\n",
        "\n",
        "plt.plot(epochs, acc, 'bo', label='Training acc')\n",
        "plt.plot(epochs, val_acc, 'b', label='Validation acc')\n",
        "plt.title('Training and validation accuracy')\n",
        "plt.legend()\n",
        "\n",
        "plt.figure()\n",
        "\n",
        "plt.plot(epochs, loss, 'bo', label='Training loss')\n",
        "plt.plot(epochs, val_loss, 'b', label='Validation loss')\n",
        "plt.title('Training and validation loss')\n",
        "plt.legend()\n",
        "\n",
        "plt.show()"
      ],
      "execution_count": 19,
      "outputs": [
        {
          "output_type": "display_data",
          "data": {
            "image/png": "[encoded data removed]",
            "text/plain": [
              "<Figure size 432x288 with 1 Axes>"
            ]
          },
          "metadata": {
            "tags": [],
            "needs_background": "light"
          }
        },
        {
          "output_type": "display_data",
          "data": {
            "image/png": "[encoded data removed]",
            "text/plain": [
              "<Figure size 432x288 with 1 Axes>"
            ]
          },
          "metadata": {
            "tags": [],
            "needs_background": "light"
          }
        }
      ]
    },
    {
      "cell_type": "markdown",
      "metadata": {
        "id": "f6JuUDU6x9b9"
      },
      "source": [
        "## **Fine-tuning**\n",
        "\n",
        "Another widely used technique for model reuse, complementary to feature extraction, is fine-tuning. Fine-tuning consists of unfreezing a few of the top layers of a frozen model base used for feature extraction, and jointly training both the newly added part of the model (in this case, the fully connected classifier) and these top layers. This is called fine-tuning because it slightly adjusts the more abstract representations of the model being reused, in order to make them more relevant for the problem at hand.\n",
        "\n",
        "It’s necessary to freeze the convolution base of VGG16 in order to be able to train a randomly initialized classifier on top. For the same reason, it’s only possible to fine-tune the top layers of the convolutional base once the classifier on top has already been trained. If the classifier isn’t already trained, then the error signal propagating through the network during training will be too large, and the representations previously learned by the layers being fine-tuned will be destroyed. Thus the steps for fine-tuning a network are as follow:\n",
        "\n",
        "- Add your custom network on top of an already-trained base network.\n",
        "- Freeze the base network.\n",
        "- Train the part you added.\n",
        "- Unfreeze some layers in the base network.\n",
        "- Jointly train both these layers and the part you added.\n",
        "\n",
        "You already completed the first three steps when doing feature extraction. Let’s proceed with step 4: you’ll unfreeze your conv_base and then freeze individual layers inside it."
      ]
    },
    {
      "cell_type": "code",
      "metadata": {
        "colab": {
          "base_uri": "https://localhost:8080/"
        },
        "id": "59kKawmY7UU5",
        "outputId": "281636bb-3070-4013-fe57-93fee0a3f513"
      },
      "source": [
        "conv_base.summary()"
      ],
      "execution_count": 20,
      "outputs": [
        {
          "output_type": "stream",
          "text": [
            "Model: \"vgg16\"\n",
            "_________________________________________________________________\n",
            "Layer (type)                 Output Shape              Param #   \n",
            "=================================================================\n",
            "input_1 (InputLayer)         [(None, 150, 150, 3)]     0         \n",
            "_________________________________________________________________\n",
            "block1_conv1 (Conv2D)        (None, 150, 150, 64)      1792      \n",
            "_________________________________________________________________\n",
            "block1_conv2 (Conv2D)        (None, 150, 150, 64)      36928     \n",
            "_________________________________________________________________\n",
            "block1_pool (MaxPooling2D)   (None, 75, 75, 64)        0         \n",
            "_________________________________________________________________\n",
            "block2_conv1 (Conv2D)        (None, 75, 75, 128)       73856     \n",
            "_________________________________________________________________\n",
            "block2_conv2 (Conv2D)        (None, 75, 75, 128)       147584    \n",
            "_________________________________________________________________\n",
            "block2_pool (MaxPooling2D)   (None, 37, 37, 128)       0         \n",
            "_________________________________________________________________\n",
            "block3_conv1 (Conv2D)        (None, 37, 37, 256)       295168    \n",
            "_________________________________________________________________\n",
            "block3_conv2 (Conv2D)        (None, 37, 37, 256)       590080    \n",
            "_________________________________________________________________\n",
            "block3_conv3 (Conv2D)        (None, 37, 37, 256)       590080    \n",
            "_________________________________________________________________\n",
            "block3_pool (MaxPooling2D)   (None, 18, 18, 256)       0         \n",
            "_________________________________________________________________\n",
            "block4_conv1 (Conv2D)        (None, 18, 18, 512)       1180160   \n",
            "_________________________________________________________________\n",
            "block4_conv2 (Conv2D)        (None, 18, 18, 512)       2359808   \n",
            "_________________________________________________________________\n",
            "block4_conv3 (Conv2D)        (None, 18, 18, 512)       2359808   \n",
            "_________________________________________________________________\n",
            "block4_pool (MaxPooling2D)   (None, 9, 9, 512)         0         \n",
            "_________________________________________________________________\n",
            "block5_conv1 (Conv2D)        (None, 9, 9, 512)         2359808   \n",
            "_________________________________________________________________\n",
            "block5_conv2 (Conv2D)        (None, 9, 9, 512)         2359808   \n",
            "_________________________________________________________________\n",
            "block5_conv3 (Conv2D)        (None, 9, 9, 512)         2359808   \n",
            "_________________________________________________________________\n",
            "block5_pool (MaxPooling2D)   (None, 4, 4, 512)         0         \n",
            "=================================================================\n",
            "Total params: 14,714,688\n",
            "Trainable params: 0\n",
            "Non-trainable params: 14,714,688\n",
            "_________________________________________________________________\n"
          ],
          "name": "stdout"
        }
      ]
    },
    {
      "cell_type": "markdown",
      "metadata": {
        "id": "nHyah0qe8Bs9"
      },
      "source": [
        "You’ll fine-tune the last three convolutional layers, which means all layers up to block4_pool should be frozen, and the layers block5_conv1, block5_conv2, and block5_conv3 should be trainable.\n",
        "\n",
        "Why not fine-tune more layers? Why not fine-tune the entire convolutional base? You could. But you need to consider the following:\n",
        "\n",
        "- Earlier layers in the convolutional base encode more-generic, reusable features, whereas layers higher up encode more-specialized features. It’s more useful to fine-tune the more specialized features, because these are the ones that need to be repurposed on your new problem. There would be fast-decreasing returns in fine-tuning lower layers.\n",
        "- The more parameters you’re training, the more you’re at risk of overfitting. The convolutional base has 15 million parameters, so it would be risky to attempt to train it on your small dataset."
      ]
    },
    {
      "cell_type": "markdown",
      "metadata": {
        "id": "SWtWhFQv8IJL"
      },
      "source": [
        "Thus, in this situation, it’s a good strategy to fine-tune only the top two or three layers in the convolutional base. Let’s set this up, starting from where you left off in the previous example."
      ]
    },
    {
      "cell_type": "code",
      "metadata": {
        "id": "1ZUbCAi38N-m"
      },
      "source": [
        "conv_base.trainable = True\n",
        "\n",
        "set_trainable = False\n",
        "for layer in conv_base.layers:\n",
        "    if layer.name == 'block5_conv1':\n",
        "        set_trainable = True\n",
        "    if set_trainable:\n",
        "        layer.trainable = True\n",
        "    else:\n",
        "        layer.trainable = False"
      ],
      "execution_count": 21,
      "outputs": []
    },
    {
      "cell_type": "markdown",
      "metadata": {
        "id": "w6etlV1V8UWp"
      },
      "source": [
        "Now you can begin fine-tuning the network. You’ll do this with the RMSProp optimizer, using a very low learning rate. The reason for using a low learning rate is that you want to limit the magnitude of the modifications you make to the representations of the three layers you’re fine-tuning. Updates that are too large may harm these representations."
      ]
    },
    {
      "cell_type": "code",
      "metadata": {
        "colab": {
          "base_uri": "https://localhost:8080/"
        },
        "id": "iLHBbOrf8U-U",
        "outputId": "a477717d-53dc-4331-b08c-e541dc15eea3"
      },
      "source": [
        "model.compile(loss='binary_crossentropy',\n",
        "              optimizer=optimizers.RMSprop(lr=1e-5),\n",
        "              metrics=['acc'])\n",
        "\n",
        "history = model.fit(\n",
        "      train_generator,\n",
        "      steps_per_epoch=100,\n",
        "      epochs=30,\n",
        "      validation_data=validation_generator,\n",
        "      validation_steps=50)"
      ],
      "execution_count": 22,
      "outputs": [
        {
          "output_type": "stream",
          "text": [
            "Epoch 1/100\n",
            "100/100 [==============================] - 24s 239ms/step - loss: 0.2922 - acc: 0.8800 - val_loss: 0.2239 - val_acc: 0.9110\n",
            "Epoch 2/100\n",
            "100/100 [==============================] - 24s 236ms/step - loss: 0.2713 - acc: 0.8835 - val_loss: 0.2089 - val_acc: 0.9180\n",
            "Epoch 3/100\n",
            "100/100 [==============================] - 24s 237ms/step - loss: 0.2408 - acc: 0.8970 - val_loss: 0.2106 - val_acc: 0.9170\n",
            "Epoch 4/100\n",
            "100/100 [==============================] - 24s 245ms/step - loss: 0.2063 - acc: 0.9115 - val_loss: 0.2121 - val_acc: 0.9150\n",
            "Epoch 5/100\n",
            "100/100 [==============================] - 23s 234ms/step - loss: 0.1994 - acc: 0.9140 - val_loss: 0.1961 - val_acc: 0.9220\n",
            "Epoch 6/100\n",
            "100/100 [==============================] - 23s 232ms/step - loss: 0.1972 - acc: 0.9170 - val_loss: 0.1977 - val_acc: 0.9290\n",
            "Epoch 7/100\n",
            "100/100 [==============================] - 23s 232ms/step - loss: 0.1864 - acc: 0.9260 - val_loss: 0.1912 - val_acc: 0.9270\n",
            "Epoch 8/100\n",
            "100/100 [==============================] - 23s 234ms/step - loss: 0.1675 - acc: 0.9285 - val_loss: 0.2046 - val_acc: 0.9230\n",
            "Epoch 9/100\n",
            "100/100 [==============================] - 23s 234ms/step - loss: 0.1680 - acc: 0.9265 - val_loss: 0.1791 - val_acc: 0.9310\n",
            "Epoch 10/100\n",
            "100/100 [==============================] - 23s 234ms/step - loss: 0.1507 - acc: 0.9420 - val_loss: 0.2793 - val_acc: 0.9020\n",
            "Epoch 11/100\n",
            "100/100 [==============================] - 24s 238ms/step - loss: 0.1445 - acc: 0.9390 - val_loss: 0.1824 - val_acc: 0.9250\n",
            "Epoch 12/100\n",
            "100/100 [==============================] - 23s 233ms/step - loss: 0.1321 - acc: 0.9475 - val_loss: 0.2042 - val_acc: 0.9250\n",
            "Epoch 13/100\n",
            "100/100 [==============================] - 23s 233ms/step - loss: 0.1463 - acc: 0.9395 - val_loss: 0.1777 - val_acc: 0.9350\n",
            "Epoch 14/100\n",
            "100/100 [==============================] - 23s 234ms/step - loss: 0.1344 - acc: 0.9440 - val_loss: 0.1951 - val_acc: 0.9350\n",
            "Epoch 15/100\n",
            "100/100 [==============================] - 23s 234ms/step - loss: 0.1338 - acc: 0.9440 - val_loss: 0.1876 - val_acc: 0.9300\n",
            "Epoch 16/100\n",
            "100/100 [==============================] - 23s 233ms/step - loss: 0.1211 - acc: 0.9515 - val_loss: 0.1858 - val_acc: 0.9270\n",
            "Epoch 17/100\n",
            "100/100 [==============================] - 24s 239ms/step - loss: 0.1033 - acc: 0.9570 - val_loss: 0.1888 - val_acc: 0.9270\n",
            "Epoch 18/100\n",
            "100/100 [==============================] - 23s 235ms/step - loss: 0.1147 - acc: 0.9560 - val_loss: 0.1855 - val_acc: 0.9310\n",
            "Epoch 19/100\n",
            "100/100 [==============================] - 23s 235ms/step - loss: 0.1124 - acc: 0.9510 - val_loss: 0.2386 - val_acc: 0.9210\n",
            "Epoch 20/100\n",
            "100/100 [==============================] - 23s 233ms/step - loss: 0.0979 - acc: 0.9640 - val_loss: 0.1763 - val_acc: 0.9390\n",
            "Epoch 21/100\n",
            "100/100 [==============================] - 23s 234ms/step - loss: 0.1015 - acc: 0.9620 - val_loss: 0.2438 - val_acc: 0.9150\n",
            "Epoch 22/100\n",
            "100/100 [==============================] - 23s 233ms/step - loss: 0.0971 - acc: 0.9610 - val_loss: 0.1851 - val_acc: 0.9290\n",
            "Epoch 23/100\n",
            "100/100 [==============================] - 23s 233ms/step - loss: 0.0846 - acc: 0.9695 - val_loss: 0.2229 - val_acc: 0.9260\n",
            "Epoch 24/100\n",
            "100/100 [==============================] - 23s 232ms/step - loss: 0.0771 - acc: 0.9725 - val_loss: 0.1884 - val_acc: 0.9300\n",
            "Epoch 25/100\n",
            "100/100 [==============================] - 24s 235ms/step - loss: 0.0847 - acc: 0.9670 - val_loss: 0.2074 - val_acc: 0.9310\n",
            "Epoch 26/100\n",
            "100/100 [==============================] - 23s 234ms/step - loss: 0.0858 - acc: 0.9680 - val_loss: 0.1903 - val_acc: 0.9310\n",
            "Epoch 27/100\n",
            "100/100 [==============================] - 23s 234ms/step - loss: 0.0717 - acc: 0.9710 - val_loss: 0.2069 - val_acc: 0.9320\n",
            "Epoch 28/100\n",
            "100/100 [==============================] - 23s 233ms/step - loss: 0.0636 - acc: 0.9760 - val_loss: 0.2283 - val_acc: 0.9190\n",
            "Epoch 29/100\n",
            "100/100 [==============================] - 23s 235ms/step - loss: 0.0611 - acc: 0.9735 - val_loss: 0.1930 - val_acc: 0.9360\n",
            "Epoch 30/100\n",
            "100/100 [==============================] - 24s 242ms/step - loss: 0.0677 - acc: 0.9695 - val_loss: 0.3715 - val_acc: 0.9010\n",
            "Epoch 31/100\n",
            "100/100 [==============================] - 24s 237ms/step - loss: 0.0607 - acc: 0.9710 - val_loss: 0.2041 - val_acc: 0.9280\n",
            "Epoch 32/100\n",
            "100/100 [==============================] - 24s 238ms/step - loss: 0.0712 - acc: 0.9745 - val_loss: 0.1980 - val_acc: 0.9340\n",
            "Epoch 33/100\n",
            "100/100 [==============================] - 24s 235ms/step - loss: 0.0748 - acc: 0.9700 - val_loss: 0.2319 - val_acc: 0.9280\n",
            "Epoch 34/100\n",
            "100/100 [==============================] - 24s 237ms/step - loss: 0.0651 - acc: 0.9770 - val_loss: 0.1966 - val_acc: 0.9290\n",
            "Epoch 35/100\n",
            "100/100 [==============================] - 24s 237ms/step - loss: 0.0500 - acc: 0.9795 - val_loss: 0.1959 - val_acc: 0.9320\n",
            "Epoch 36/100\n",
            "100/100 [==============================] - 24s 237ms/step - loss: 0.0549 - acc: 0.9805 - val_loss: 0.2089 - val_acc: 0.9290\n",
            "Epoch 37/100\n",
            "100/100 [==============================] - 24s 236ms/step - loss: 0.0499 - acc: 0.9785 - val_loss: 0.2149 - val_acc: 0.9290\n",
            "Epoch 38/100\n",
            "100/100 [==============================] - 24s 236ms/step - loss: 0.0610 - acc: 0.9780 - val_loss: 0.2195 - val_acc: 0.9360\n",
            "Epoch 39/100\n",
            "100/100 [==============================] - 24s 237ms/step - loss: 0.0594 - acc: 0.9785 - val_loss: 0.2938 - val_acc: 0.9180\n",
            "Epoch 40/100\n",
            "100/100 [==============================] - 23s 234ms/step - loss: 0.0575 - acc: 0.9765 - val_loss: 0.2297 - val_acc: 0.9280\n",
            "Epoch 41/100\n",
            "100/100 [==============================] - 23s 234ms/step - loss: 0.0474 - acc: 0.9850 - val_loss: 0.2177 - val_acc: 0.9360\n",
            "Epoch 42/100\n",
            "100/100 [==============================] - 23s 233ms/step - loss: 0.0457 - acc: 0.9815 - val_loss: 0.2333 - val_acc: 0.9300\n",
            "Epoch 43/100\n",
            "100/100 [==============================] - 24s 238ms/step - loss: 0.0548 - acc: 0.9825 - val_loss: 0.2040 - val_acc: 0.9370\n",
            "Epoch 44/100\n",
            "100/100 [==============================] - 23s 232ms/step - loss: 0.0355 - acc: 0.9865 - val_loss: 0.2127 - val_acc: 0.9400\n",
            "Epoch 45/100\n",
            "100/100 [==============================] - 24s 236ms/step - loss: 0.0427 - acc: 0.9840 - val_loss: 0.2094 - val_acc: 0.9360\n",
            "Epoch 46/100\n",
            "100/100 [==============================] - 23s 235ms/step - loss: 0.0441 - acc: 0.9840 - val_loss: 0.2177 - val_acc: 0.9370\n",
            "Epoch 47/100\n",
            "100/100 [==============================] - 23s 232ms/step - loss: 0.0448 - acc: 0.9825 - val_loss: 0.2111 - val_acc: 0.9340\n",
            "Epoch 48/100\n",
            "100/100 [==============================] - 23s 232ms/step - loss: 0.0454 - acc: 0.9845 - val_loss: 0.2568 - val_acc: 0.9350\n",
            "Epoch 49/100\n",
            "100/100 [==============================] - 24s 236ms/step - loss: 0.0459 - acc: 0.9820 - val_loss: 0.3149 - val_acc: 0.9280\n",
            "Epoch 50/100\n",
            "100/100 [==============================] - 23s 235ms/step - loss: 0.0413 - acc: 0.9840 - val_loss: 0.2187 - val_acc: 0.9330\n",
            "Epoch 51/100\n",
            "100/100 [==============================] - 23s 234ms/step - loss: 0.0324 - acc: 0.9895 - val_loss: 0.2209 - val_acc: 0.9330\n",
            "Epoch 52/100\n",
            "100/100 [==============================] - 23s 231ms/step - loss: 0.0380 - acc: 0.9875 - val_loss: 0.3552 - val_acc: 0.9150\n",
            "Epoch 53/100\n",
            "100/100 [==============================] - 23s 228ms/step - loss: 0.0368 - acc: 0.9900 - val_loss: 0.2914 - val_acc: 0.9310\n",
            "Epoch 54/100\n",
            "100/100 [==============================] - 23s 231ms/step - loss: 0.0464 - acc: 0.9835 - val_loss: 0.2409 - val_acc: 0.9360\n",
            "Epoch 55/100\n",
            "100/100 [==============================] - 23s 231ms/step - loss: 0.0406 - acc: 0.9860 - val_loss: 0.2231 - val_acc: 0.9340\n",
            "Epoch 56/100\n",
            "100/100 [==============================] - 24s 240ms/step - loss: 0.0325 - acc: 0.9870 - val_loss: 0.3011 - val_acc: 0.9270\n",
            "Epoch 57/100\n",
            "100/100 [==============================] - 23s 231ms/step - loss: 0.0352 - acc: 0.9895 - val_loss: 0.2456 - val_acc: 0.9370\n",
            "Epoch 58/100\n",
            "100/100 [==============================] - 23s 234ms/step - loss: 0.0265 - acc: 0.9905 - val_loss: 0.3342 - val_acc: 0.9260\n",
            "Epoch 59/100\n",
            "100/100 [==============================] - 23s 233ms/step - loss: 0.0492 - acc: 0.9835 - val_loss: 0.2366 - val_acc: 0.9270\n",
            "Epoch 60/100\n",
            "100/100 [==============================] - 23s 234ms/step - loss: 0.0404 - acc: 0.9835 - val_loss: 0.2252 - val_acc: 0.9390\n",
            "Epoch 61/100\n",
            "100/100 [==============================] - 23s 231ms/step - loss: 0.0296 - acc: 0.9905 - val_loss: 0.3523 - val_acc: 0.9200\n",
            "Epoch 62/100\n",
            "100/100 [==============================] - 23s 232ms/step - loss: 0.0335 - acc: 0.9880 - val_loss: 0.3364 - val_acc: 0.9250\n",
            "Epoch 63/100\n",
            "100/100 [==============================] - 23s 234ms/step - loss: 0.0292 - acc: 0.9885 - val_loss: 0.2221 - val_acc: 0.9430\n",
            "Epoch 64/100\n",
            "100/100 [==============================] - 23s 232ms/step - loss: 0.0189 - acc: 0.9940 - val_loss: 0.2814 - val_acc: 0.9330\n",
            "Epoch 65/100\n",
            "100/100 [==============================] - 23s 232ms/step - loss: 0.0245 - acc: 0.9930 - val_loss: 0.2482 - val_acc: 0.9400\n",
            "Epoch 66/100\n",
            "100/100 [==============================] - 23s 231ms/step - loss: 0.0260 - acc: 0.9900 - val_loss: 0.2298 - val_acc: 0.9470\n",
            "Epoch 67/100\n",
            "100/100 [==============================] - 23s 230ms/step - loss: 0.0277 - acc: 0.9865 - val_loss: 0.2329 - val_acc: 0.9400\n",
            "Epoch 68/100\n",
            "100/100 [==============================] - 23s 231ms/step - loss: 0.0328 - acc: 0.9900 - val_loss: 0.2231 - val_acc: 0.9400\n",
            "Epoch 69/100\n",
            "100/100 [==============================] - 23s 235ms/step - loss: 0.0301 - acc: 0.9885 - val_loss: 0.2052 - val_acc: 0.9400\n",
            "Epoch 70/100\n",
            "100/100 [==============================] - 23s 234ms/step - loss: 0.0272 - acc: 0.9905 - val_loss: 0.2418 - val_acc: 0.9370\n",
            "Epoch 71/100\n",
            "100/100 [==============================] - 23s 232ms/step - loss: 0.0326 - acc: 0.9880 - val_loss: 0.2590 - val_acc: 0.9310\n",
            "Epoch 72/100\n",
            "100/100 [==============================] - 23s 232ms/step - loss: 0.0304 - acc: 0.9895 - val_loss: 0.2589 - val_acc: 0.9410\n",
            "Epoch 73/100\n",
            "100/100 [==============================] - 23s 232ms/step - loss: 0.0247 - acc: 0.9930 - val_loss: 0.2723 - val_acc: 0.9370\n",
            "Epoch 74/100\n",
            "100/100 [==============================] - 23s 230ms/step - loss: 0.0209 - acc: 0.9925 - val_loss: 0.2568 - val_acc: 0.9330\n",
            "Epoch 75/100\n",
            "100/100 [==============================] - 23s 229ms/step - loss: 0.0222 - acc: 0.9925 - val_loss: 0.3472 - val_acc: 0.9280\n",
            "Epoch 76/100\n",
            "100/100 [==============================] - 23s 232ms/step - loss: 0.0255 - acc: 0.9920 - val_loss: 0.2836 - val_acc: 0.9360\n",
            "Epoch 77/100\n",
            "100/100 [==============================] - 23s 232ms/step - loss: 0.0161 - acc: 0.9940 - val_loss: 0.2724 - val_acc: 0.9330\n",
            "Epoch 78/100\n",
            "100/100 [==============================] - 23s 228ms/step - loss: 0.0237 - acc: 0.9900 - val_loss: 0.2984 - val_acc: 0.9300\n",
            "Epoch 79/100\n",
            "100/100 [==============================] - 23s 230ms/step - loss: 0.0337 - acc: 0.9880 - val_loss: 0.2494 - val_acc: 0.9320\n",
            "Epoch 80/100\n",
            "100/100 [==============================] - 23s 231ms/step - loss: 0.0199 - acc: 0.9935 - val_loss: 0.2763 - val_acc: 0.9390\n",
            "Epoch 81/100\n",
            "100/100 [==============================] - 23s 231ms/step - loss: 0.0106 - acc: 0.9965 - val_loss: 0.2926 - val_acc: 0.9330\n",
            "Epoch 82/100\n",
            "100/100 [==============================] - 23s 229ms/step - loss: 0.0246 - acc: 0.9915 - val_loss: 0.3025 - val_acc: 0.9320\n",
            "Epoch 83/100\n",
            "100/100 [==============================] - 24s 238ms/step - loss: 0.0206 - acc: 0.9920 - val_loss: 0.2642 - val_acc: 0.9360\n",
            "Epoch 84/100\n",
            "100/100 [==============================] - 23s 232ms/step - loss: 0.0220 - acc: 0.9960 - val_loss: 0.2641 - val_acc: 0.9390\n",
            "Epoch 85/100\n",
            "100/100 [==============================] - 23s 229ms/step - loss: 0.0270 - acc: 0.9905 - val_loss: 0.2515 - val_acc: 0.9420\n",
            "Epoch 86/100\n",
            "100/100 [==============================] - 23s 229ms/step - loss: 0.0213 - acc: 0.9925 - val_loss: 0.2490 - val_acc: 0.9400\n",
            "Epoch 87/100\n",
            "100/100 [==============================] - 23s 229ms/step - loss: 0.0310 - acc: 0.9875 - val_loss: 0.2791 - val_acc: 0.9340\n",
            "Epoch 88/100\n",
            "100/100 [==============================] - 23s 231ms/step - loss: 0.0143 - acc: 0.9945 - val_loss: 0.2762 - val_acc: 0.9420\n",
            "Epoch 89/100\n",
            "100/100 [==============================] - 23s 232ms/step - loss: 0.0202 - acc: 0.9910 - val_loss: 0.3499 - val_acc: 0.9320\n",
            "Epoch 90/100\n",
            "100/100 [==============================] - 23s 233ms/step - loss: 0.0183 - acc: 0.9945 - val_loss: 0.5470 - val_acc: 0.9060\n",
            "Epoch 91/100\n",
            "100/100 [==============================] - 23s 232ms/step - loss: 0.0157 - acc: 0.9925 - val_loss: 0.2936 - val_acc: 0.9390\n",
            "Epoch 92/100\n",
            "100/100 [==============================] - 23s 232ms/step - loss: 0.0259 - acc: 0.9900 - val_loss: 0.2776 - val_acc: 0.9330\n",
            "Epoch 93/100\n",
            "100/100 [==============================] - 23s 231ms/step - loss: 0.0200 - acc: 0.9925 - val_loss: 0.2538 - val_acc: 0.9470\n",
            "Epoch 94/100\n",
            "100/100 [==============================] - 23s 233ms/step - loss: 0.0257 - acc: 0.9920 - val_loss: 0.2783 - val_acc: 0.9410\n",
            "Epoch 95/100\n",
            "100/100 [==============================] - 23s 232ms/step - loss: 0.0160 - acc: 0.9940 - val_loss: 0.3362 - val_acc: 0.9320\n",
            "Epoch 96/100\n",
            "100/100 [==============================] - 24s 237ms/step - loss: 0.0214 - acc: 0.9930 - val_loss: 0.2733 - val_acc: 0.9390\n",
            "Epoch 97/100\n",
            "100/100 [==============================] - 23s 233ms/step - loss: 0.0228 - acc: 0.9920 - val_loss: 0.5270 - val_acc: 0.9100\n",
            "Epoch 98/100\n",
            "100/100 [==============================] - 23s 231ms/step - loss: 0.0269 - acc: 0.9925 - val_loss: 0.2655 - val_acc: 0.9410\n",
            "Epoch 99/100\n",
            "100/100 [==============================] - 23s 230ms/step - loss: 0.0144 - acc: 0.9935 - val_loss: 0.3051 - val_acc: 0.9350\n",
            "Epoch 100/100\n",
            "100/100 [==============================] - 23s 232ms/step - loss: 0.0193 - acc: 0.9925 - val_loss: 0.2864 - val_acc: 0.9390\n"
          ],
          "name": "stdout"
        }
      ]
    },
    {
      "cell_type": "code",
      "metadata": {
        "colab": {
          "base_uri": "https://localhost:8080/",
          "height": 545
        },
        "id": "aYqiGSLiEJ9z",
        "outputId": "972330df-2d24-4c0c-94ee-6fd271d4364e"
      },
      "source": [
        "import matplotlib.pyplot as plt\n",
        "\n",
        "acc = history.history['acc']\n",
        "val_acc = history.history['val_acc']\n",
        "loss = history.history['loss']\n",
        "val_loss = history.history['val_loss']\n",
        "\n",
        "epochs = range(1, len(acc) + 1)\n",
        "\n",
        "plt.plot(epochs, acc, 'bo', label='Training acc')\n",
        "plt.plot(epochs, val_acc, 'b', label='Validation acc')\n",
        "plt.title('Training and validation accuracy')\n",
        "plt.legend()\n",
        "\n",
        "plt.figure()\n",
        "\n",
        "plt.plot(epochs, loss, 'bo', label='Training loss')\n",
        "plt.plot(epochs, val_loss, 'b', label='Validation loss')\n",
        "plt.title('Training and validation loss')\n",
        "plt.legend()\n",
        "\n",
        "plt.show()"
      ],
      "execution_count": 23,
      "outputs": [
        {
          "output_type": "display_data",
          "data": {
            "image/png": "[encoded data removed]",
            "text/plain": [
              "<Figure size 432x288 with 1 Axes>"
            ]
          },
          "metadata": {
            "tags": [],
            "needs_background": "light"
          }
        },
        {
          "output_type": "display_data",
          "data": {
            "image/png": "[encoded data removed]",
            "text/plain": [
              "<Figure size 432x288 with 1 Axes>"
            ]
          },
          "metadata": {
            "tags": [],
            "needs_background": "light"
          }
        }
      ]
    },
    {
      "cell_type": "code",
      "metadata": {
        "colab": {
          "base_uri": "https://localhost:8080/",
          "height": 545
        },
        "id": "_kXSermzEUkk",
        "outputId": "59adc634-b0cf-4086-ac52-3c4e6ce359ad"
      },
      "source": [
        "def smooth_curve(points, factor=0.8):\n",
        "  smoothed_points = []\n",
        "  for point in points:\n",
        "    if smoothed_points:\n",
        "      previous = smoothed_points[-1]\n",
        "      smoothed_points.append(previous * factor + point * (1 - factor))\n",
        "    else:\n",
        "      smoothed_points.append(point)\n",
        "  return smoothed_points\n",
        "\n",
        "plt.plot(epochs,\n",
        "         smooth_curve(acc), 'bo', label='Smoothed training acc')\n",
        "plt.plot(epochs,\n",
        "         smooth_curve(val_acc), 'b', label='Smoothed validation acc')\n",
        "plt.title('Training and validation accuracy')\n",
        "plt.legend()\n",
        "\n",
        "plt.figure()\n",
        "\n",
        "plt.plot(epochs,\n",
        "         smooth_curve(loss), 'bo', label='Smoothed training loss')\n",
        "plt.plot(epochs,\n",
        "         smooth_curve(val_loss), 'b', label='Smoothed validation loss')\n",
        "plt.title('Training and validation loss')\n",
        "plt.legend()\n",
        "\n",
        "plt.show()"
      ],
      "execution_count": 24,
      "outputs": [
        {
          "output_type": "display_data",
          "data": {
            "image/png": "[encoded data removed]",
            "text/plain": [
              "<Figure size 432x288 with 1 Axes>"
            ]
          },
          "metadata": {
            "tags": [],
            "needs_background": "light"
          }
        },
        {
          "output_type": "display_data",
          "data": {
            "image/png": "[encoded data removed]",
            "text/plain": [
              "<Figure size 432x288 with 1 Axes>"
            ]
          },
          "metadata": {
            "tags": [],
            "needs_background": "light"
          }
        }
      ]
    },
    {
      "cell_type": "markdown",
      "metadata": {
        "id": "M1aBRHHoEgHL"
      },
      "source": [
        "The validation accuracy curve look much cleaner. You’re seeing a nice 1% absolute improvement in accuracy, from about 96% to above 97%.\n",
        "\n",
        "Note that the loss curve doesn’t show any real improvement (in fact, it’s deteriorating). You may wonder, how could accuracy stay stable or improve if the loss isn’t decreasing? The answer is simple: what you display is an average of pointwise loss values; but what matters for accuracy is the distribution of the loss values, not their average, because accuracy is the result of a binary thresholding of the class probability predicted by the model. The model may still be improving even if this isn’t reflected in the average loss.\n",
        "\n",
        "You can now finally evaluate this model on the test data:"
      ]
    },
    {
      "cell_type": "code",
      "metadata": {
        "colab": {
          "base_uri": "https://localhost:8080/"
        },
        "id": "dcRun2rbEeED",
        "outputId": "6b6ba60e-a1a3-406d-b60b-c5a26a2f8830"
      },
      "source": [
        "test_generator = test_datagen.flow_from_directory(\n",
        "        test_dir,\n",
        "        target_size=(150, 150),\n",
        "        batch_size=20,\n",
        "        class_mode='binary')\n",
        "\n",
        "test_loss, test_acc = model.evaluate(test_generator, steps=50)\n",
        "print('test acc:', test_acc)"
      ],
      "execution_count": 26,
      "outputs": [
        {
          "output_type": "stream",
          "text": [
            "Found 1000 images belonging to 2 classes.\n",
            "50/50 [==============================] - 4s 83ms/step - loss: 0.3656 - acc: 0.9350\n",
            "test acc: 0.9350000023841858\n"
          ],
          "name": "stdout"
        }
      ]
    }
  ]
}