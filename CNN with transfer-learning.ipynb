{
 "cells": [
  {
   "cell_type": "code",
   "execution_count": 1,
   "metadata": {
    "_cell_guid": "b1076dfc-b9ad-4769-8c92-a6c4dae69d19",
    "_uuid": "8f2839f25d086af736a60e9eeb907d3b93b6e0e5"
   },
   "outputs": [],
   "source": [
    "import numpy as np \n",
    "import pandas as pd\n",
    "import tensorflow as tf\n",
    "import os\n",
    "from tensorflow import keras\n",
    "from tensorflow.keras import layers\n",
    "from tensorflow.keras.optimizers import *\n",
    "from tensorflow.keras import Model"
   ]
  },
  {
   "cell_type": "code",
   "execution_count": 2,
   "metadata": {},
   "outputs": [],
   "source": [
    "train = os.path.join('../input/intel-image-classification/seg_train/seg_train')\n",
    "test = os.path.join('../input/intel-image-classification/seg_test/seg_test')\n",
    "pred = os.path.join('../input/intel-image-classification/seg_pred/seg_pred')"
   ]
  },
  {
   "cell_type": "code",
   "execution_count": 3,
   "metadata": {},
   "outputs": [
    {
     "name": "stdout",
     "output_type": "stream",
     "text": [
      "Found 14034 images belonging to 6 classes.\n",
      "Found 3000 images belonging to 6 classes.\n"
     ]
    }
   ],
   "source": [
    "from tensorflow.keras.preprocessing.image import ImageDataGenerator\n",
    "\n",
    "train_datagen = ImageDataGenerator(rescale=1/255,\n",
    "                                   rotation_range=40,\n",
    "                                   width_shift_range=0.2,\n",
    "                                   height_shift_range=0.2,\n",
    "                                   shear_range=0.2,\n",
    "                                   zoom_range=0.2,\n",
    "                                   horizontal_flip=True,\n",
    "                                   fill_mode='nearest')\n",
    "\n",
    "validation_datagen = ImageDataGenerator(rescale=1/255)\n",
    "\n",
    "\n",
    "train_generator = train_datagen.flow_from_directory(train,  \n",
    "                                                    target_size=(150, 150),\n",
    "                                                    batch_size=32,\n",
    "                                                    class_mode='categorical')\n",
    "\n",
    "\n",
    "validation_generator = validation_datagen.flow_from_directory(test,  \n",
    "                                                              target_size=(150, 150), \n",
    "                                                              batch_size=1,  \n",
    "                                                              class_mode='categorical')"
   ]
  },
  {
   "cell_type": "code",
   "execution_count": 4,
   "metadata": {},
   "outputs": [],
   "source": [
    "pre_trained_model = tf.keras.applications.InceptionResNetV2(include_top=False,\n",
    "                                                            weights='../input/inceptionv4-1/inception_resnet_v2_weights_tf_dim_ordering_tf_kernels_notop.h5',\n",
    "                                                            input_shape=(150, 150, 3))\n",
    "\n",
    "#pre_trained_model.summary()"
   ]
  },
  {
   "cell_type": "code",
   "execution_count": 5,
   "metadata": {},
   "outputs": [
    {
     "name": "stdout",
     "output_type": "stream",
     "text": [
      "last layer output shape:  (None, 16, 16, 256)\n"
     ]
    }
   ],
   "source": [
    "for layer in pre_trained_model.layers:\n",
    "    layer.trainable = True\n",
    "    \n",
    "last_layer = pre_trained_model.get_layer(\"activation_74\")\n",
    "print('last layer output shape: ', last_layer.output_shape)\n",
    "last_output = last_layer.output"
   ]
  },
  {
   "cell_type": "code",
   "execution_count": 6,
   "metadata": {},
   "outputs": [],
   "source": [
    "x = layers.Flatten()(last_output)\n",
    "x = layers.Dense(512, activation='relu')(x)\n",
    "x = layers.Dropout(0.5)(x)\n",
    "x = layers.Dense(512, activation='relu')(x)\n",
    "x = layers.Dropout(0.5)(x)\n",
    "x = layers.Dense(6, activation='softmax')(x)           \n",
    "\n",
    "model = Model( pre_trained_model.input, x) \n",
    "\n",
    "model.compile(optimizer = 'Adam', \n",
    "              loss = 'categorical_crossentropy', \n",
    "              metrics = ['accuracy'])\n",
    "\n",
    "#model.summary()"
   ]
  },
  {
   "cell_type": "code",
   "execution_count": 7,
   "metadata": {},
   "outputs": [
    {
     "name": "stdout",
     "output_type": "stream",
     "text": [
      "Epoch 1/100\n",
      "439/439 [==============================] - 150s 341ms/step - loss: 1.0433 - accuracy: 0.6231 - val_loss: 0.4784 - val_accuracy: 0.8463\n",
      "Epoch 2/100\n",
      "439/439 [==============================] - 129s 293ms/step - loss: 0.5511 - accuracy: 0.8138 - val_loss: 0.4483 - val_accuracy: 0.8390\n",
      "Epoch 3/100\n",
      "439/439 [==============================] - 130s 296ms/step - loss: 0.4648 - accuracy: 0.8449 - val_loss: 0.4499 - val_accuracy: 0.8533\n",
      "Epoch 4/100\n",
      "439/439 [==============================] - 129s 294ms/step - loss: 0.4231 - accuracy: 0.8594 - val_loss: 0.3786 - val_accuracy: 0.8690\n",
      "Epoch 5/100\n",
      "439/439 [==============================] - 127s 290ms/step - loss: 0.4078 - accuracy: 0.8648 - val_loss: 0.3508 - val_accuracy: 0.8650\n",
      "Epoch 6/100\n",
      "439/439 [==============================] - 128s 292ms/step - loss: 0.3833 - accuracy: 0.8690 - val_loss: 0.4092 - val_accuracy: 0.8730\n",
      "Epoch 7/100\n",
      "439/439 [==============================] - 129s 295ms/step - loss: 0.3745 - accuracy: 0.8748 - val_loss: 0.6426 - val_accuracy: 0.8300\n",
      "Epoch 8/100\n",
      "439/439 [==============================] - 129s 294ms/step - loss: 0.3596 - accuracy: 0.8749 - val_loss: 0.3513 - val_accuracy: 0.8733\n",
      "Epoch 9/100\n",
      "439/439 [==============================] - 129s 293ms/step - loss: 0.3423 - accuracy: 0.8840 - val_loss: 1.0132 - val_accuracy: 0.7323\n",
      "Epoch 10/100\n",
      "439/439 [==============================] - 128s 292ms/step - loss: 0.3387 - accuracy: 0.8869 - val_loss: 0.2872 - val_accuracy: 0.8980\n",
      "Epoch 11/100\n",
      "439/439 [==============================] - 129s 294ms/step - loss: 0.3333 - accuracy: 0.8900 - val_loss: 0.3779 - val_accuracy: 0.8750\n",
      "Epoch 12/100\n",
      "439/439 [==============================] - 127s 290ms/step - loss: 0.3209 - accuracy: 0.8903 - val_loss: 0.2704 - val_accuracy: 0.9063\n",
      "Epoch 13/100\n",
      "439/439 [==============================] - 128s 293ms/step - loss: 0.3280 - accuracy: 0.8920 - val_loss: 0.4166 - val_accuracy: 0.8597\n",
      "Epoch 14/100\n",
      "439/439 [==============================] - 128s 291ms/step - loss: 0.3100 - accuracy: 0.8925 - val_loss: 0.4169 - val_accuracy: 0.8823\n",
      "Epoch 15/100\n",
      "439/439 [==============================] - 128s 292ms/step - loss: 0.2991 - accuracy: 0.8972 - val_loss: 0.3541 - val_accuracy: 0.8703\n",
      "Epoch 17/100\n",
      "439/439 [==============================] - 128s 292ms/step - loss: 0.2981 - accuracy: 0.8987 - val_loss: 0.4771 - val_accuracy: 0.8387\n",
      "Epoch 18/100\n",
      "439/439 [==============================] - 129s 295ms/step - loss: 0.2845 - accuracy: 0.9014 - val_loss: 1.0896 - val_accuracy: 0.7243\n",
      "Epoch 19/100\n",
      "439/439 [==============================] - 129s 294ms/step - loss: 0.2772 - accuracy: 0.9045 - val_loss: 0.4654 - val_accuracy: 0.8563\n",
      "Epoch 20/100\n",
      "439/439 [==============================] - 129s 294ms/step - loss: 0.2777 - accuracy: 0.9063 - val_loss: 0.3359 - val_accuracy: 0.8833\n",
      "Epoch 21/100\n",
      "439/439 [==============================] - 129s 295ms/step - loss: 0.2766 - accuracy: 0.9052 - val_loss: 0.4267 - val_accuracy: 0.8530\n",
      "Epoch 22/100\n",
      "439/439 [==============================] - 130s 295ms/step - loss: 0.2655 - accuracy: 0.9111 - val_loss: 0.5843 - val_accuracy: 0.8257\n",
      "Epoch 23/100\n",
      "439/439 [==============================] - 130s 296ms/step - loss: 0.2698 - accuracy: 0.9086 - val_loss: 0.3031 - val_accuracy: 0.8943\n",
      "Epoch 24/100\n",
      "439/439 [==============================] - 129s 295ms/step - loss: 0.2569 - accuracy: 0.9136 - val_loss: 0.4308 - val_accuracy: 0.8540\n",
      "Epoch 25/100\n",
      "439/439 [==============================] - 130s 295ms/step - loss: 0.2545 - accuracy: 0.9143 - val_loss: 0.3246 - val_accuracy: 0.8917\n",
      "Epoch 26/100\n",
      "439/439 [==============================] - 138s 313ms/step - loss: 0.2513 - accuracy: 0.9122 - val_loss: 0.3030 - val_accuracy: 0.9040\n",
      "Epoch 27/100\n",
      "439/439 [==============================] - 129s 295ms/step - loss: 0.2496 - accuracy: 0.9145 - val_loss: 0.4426 - val_accuracy: 0.8690\n",
      "Epoch 28/100\n",
      "439/439 [==============================] - 129s 295ms/step - loss: 0.2502 - accuracy: 0.9150 - val_loss: 0.3933 - val_accuracy: 0.8800\n",
      "Epoch 29/100\n",
      "439/439 [==============================] - 130s 295ms/step - loss: 0.2493 - accuracy: 0.9156 - val_loss: 0.4092 - val_accuracy: 0.8810\n",
      "Epoch 30/100\n",
      "439/439 [==============================] - 130s 295ms/step - loss: 0.2404 - accuracy: 0.9177 - val_loss: 0.3391 - val_accuracy: 0.8950\n",
      "Epoch 31/100\n",
      "439/439 [==============================] - 130s 295ms/step - loss: 0.2280 - accuracy: 0.9223 - val_loss: 0.4752 - val_accuracy: 0.8617\n",
      "Epoch 32/100\n",
      "439/439 [==============================] - 130s 297ms/step - loss: 0.2422 - accuracy: 0.9193 - val_loss: 0.3476 - val_accuracy: 0.8930\n",
      "Epoch 33/100\n",
      "439/439 [==============================] - 130s 295ms/step - loss: 0.2313 - accuracy: 0.9206 - val_loss: 0.3742 - val_accuracy: 0.8873\n",
      "Epoch 34/100\n",
      "439/439 [==============================] - 130s 296ms/step - loss: 0.2292 - accuracy: 0.9215 - val_loss: 0.3427 - val_accuracy: 0.8937\n",
      "Epoch 35/100\n",
      "439/439 [==============================] - 130s 295ms/step - loss: 0.2217 - accuracy: 0.9265 - val_loss: 0.2850 - val_accuracy: 0.9057\n",
      "Epoch 36/100\n",
      "439/439 [==============================] - 130s 296ms/step - loss: 0.2106 - accuracy: 0.9285 - val_loss: 0.4952 - val_accuracy: 0.8483\n",
      "Epoch 37/100\n",
      "439/439 [==============================] - 131s 297ms/step - loss: 0.2075 - accuracy: 0.9305 - val_loss: 0.3831 - val_accuracy: 0.8773\n",
      "Epoch 38/100\n",
      "439/439 [==============================] - 129s 295ms/step - loss: 0.2211 - accuracy: 0.9270 - val_loss: 0.3414 - val_accuracy: 0.8800\n",
      "Epoch 39/100\n",
      "439/439 [==============================] - 130s 296ms/step - loss: 0.2162 - accuracy: 0.9271 - val_loss: 0.3289 - val_accuracy: 0.8883\n",
      "Epoch 40/100\n",
      "439/439 [==============================] - 129s 294ms/step - loss: 0.2127 - accuracy: 0.9277 - val_loss: 0.3193 - val_accuracy: 0.9037\n",
      "Epoch 41/100\n",
      "439/439 [==============================] - 130s 296ms/step - loss: 0.1807 - accuracy: 0.9375 - val_loss: 0.4206 - val_accuracy: 0.8773\n",
      "Epoch 51/100\n",
      "439/439 [==============================] - 131s 297ms/step - loss: 0.1820 - accuracy: 0.9364 - val_loss: 0.3709 - val_accuracy: 0.8877\n",
      "Epoch 52/100\n",
      "439/439 [==============================] - 130s 297ms/step - loss: 0.1724 - accuracy: 0.9424 - val_loss: 0.3499 - val_accuracy: 0.8780\n",
      "Epoch 53/100\n",
      "439/439 [==============================] - 129s 295ms/step - loss: 0.1742 - accuracy: 0.9407 - val_loss: 0.4144 - val_accuracy: 0.8827\n",
      "Epoch 54/100\n",
      "439/439 [==============================] - 130s 296ms/step - loss: 0.1696 - accuracy: 0.9416 - val_loss: 0.2922 - val_accuracy: 0.9033\n",
      "Epoch 55/100\n",
      "439/439 [==============================] - 131s 299ms/step - loss: 0.1623 - accuracy: 0.9439 - val_loss: 0.4042 - val_accuracy: 0.8920\n",
      "Epoch 56/100\n",
      "439/439 [==============================] - 130s 297ms/step - loss: 0.1646 - accuracy: 0.9432 - val_loss: 0.3132 - val_accuracy: 0.8960\n",
      "Epoch 57/100\n",
      "439/439 [==============================] - 130s 296ms/step - loss: 0.1625 - accuracy: 0.9460 - val_loss: 0.3781 - val_accuracy: 0.8990\n",
      "Epoch 58/100\n",
      "439/439 [==============================] - 131s 299ms/step - loss: 0.1665 - accuracy: 0.9419 - val_loss: 0.5077 - val_accuracy: 0.8750\n",
      "Epoch 59/100\n",
      "439/439 [==============================] - 129s 295ms/step - loss: 0.1578 - accuracy: 0.9460 - val_loss: 0.3974 - val_accuracy: 0.8870\n",
      "Epoch 60/100\n",
      "439/439 [==============================] - 130s 296ms/step - loss: 0.1528 - accuracy: 0.9477 - val_loss: 0.4073 - val_accuracy: 0.8933\n",
      "Epoch 70/100\n",
      "439/439 [==============================] - 131s 299ms/step - loss: 0.1414 - accuracy: 0.9520 - val_loss: 0.3827 - val_accuracy: 0.8850\n",
      "Epoch 71/100\n",
      "439/439 [==============================] - 131s 298ms/step - loss: 0.1381 - accuracy: 0.9542 - val_loss: 0.3085 - val_accuracy: 0.9120\n",
      "Epoch 74/100\n",
      "439/439 [==============================] - 130s 296ms/step - loss: 0.1385 - accuracy: 0.9523 - val_loss: 0.3932 - val_accuracy: 0.8880\n",
      "Epoch 75/100\n",
      "439/439 [==============================] - 132s 300ms/step - loss: 0.1544 - accuracy: 0.9500 - val_loss: 0.3820 - val_accuracy: 0.8947\n",
      "Epoch 78/100\n",
      "439/439 [==============================] - 131s 298ms/step - loss: 0.1756 - accuracy: 0.9399 - val_loss: 0.3303 - val_accuracy: 0.8970\n",
      "Epoch 82/100\n",
      "439/439 [==============================] - 131s 298ms/step - loss: 0.1204 - accuracy: 0.9583 - val_loss: 0.4125 - val_accuracy: 0.8937\n",
      "Epoch 86/100\n",
      "439/439 [==============================] - 130s 297ms/step - loss: 0.1263 - accuracy: 0.9566 - val_loss: 0.3980 - val_accuracy: 0.8973\n",
      "Epoch 93/100\n",
      "439/439 [==============================] - 131s 297ms/step - loss: 0.1264 - accuracy: 0.9572 - val_loss: 0.4134 - val_accuracy: 0.8847\n",
      "Epoch 94/100\n",
      "439/439 [==============================] - 130s 297ms/step - loss: 0.1261 - accuracy: 0.9584 - val_loss: 0.4322 - val_accuracy: 0.8987\n",
      "Epoch 97/100\n",
      "439/439 [==============================] - 130s 296ms/step - loss: 0.1315 - accuracy: 0.9550 - val_loss: 0.4923 - val_accuracy: 0.8830\n",
      "Epoch 98/100\n",
      "439/439 [==============================] - 130s 297ms/step - loss: 0.1379 - accuracy: 0.9571 - val_loss: 0.7939 - val_accuracy: 0.8030\n"
     ]
    }
   ],
   "source": [
    "history = model.fit(train_generator,\n",
    "                    epochs=100,\n",
    "                    validation_data = validation_generator)"
   ]
  }
 ],
 "metadata": {
  "kernelspec": {
   "display_name": "Python 3",
   "language": "python",
   "name": "python3"
  },
  "language_info": {
   "codemirror_mode": {
    "name": "ipython",
    "version": 3
   },
   "file_extension": ".py",
   "mimetype": "text/x-python",
   "name": "python",
   "nbconvert_exporter": "python",
   "pygments_lexer": "ipython3",
   "version": "3.7.6"
  }
 },
 "nbformat": 4,
 "nbformat_minor": 4
}
