{
  "nbformat": 4,
  "nbformat_minor": 0,
  "metadata": {
    "colab": {
      "name": "Classifying movie reviews: a binary classification example.ipynb",
      "provenance": [],
      "authorship_tag": "ABX9TyMZwJdE3no9X/4bJXudmnzR",
      "include_colab_link": true
    },
    "kernelspec": {
      "name": "python3",
      "display_name": "Python 3"
    },
    "accelerator": "GPU"
  },
  "cells": [
    {
      "cell_type": "markdown",
      "metadata": {
        "id": "view-in-github",
        "colab_type": "text"
      },
      "source": [
        "<a href=\"https://colab.research.google.com/github/ismailkaya83/MY-DEEP-LEARNING-NOTEBOOKS/blob/master/Classifying_movie_reviews_a_binary_classification_example.ipynb\" target=\"_parent\"><img src=\"https://colab.research.google.com/assets/colab-badge.svg\" alt=\"Open In Colab\"/></a>"
      ]
    },
    {
      "cell_type": "markdown",
      "metadata": {
        "id": "yEkdZ4NOWKrN"
      },
      "source": [
        "Two-class classification, or binary classification, is one of the most common kinds of machine-learning problem. In this example, you’ll learn to classify movie reviews as positive or negative, based on the text content of the reviews.\n",
        "\n",
        "IMDB dataset: a set of 50,000 highly polarized reviews from the Internet Movie Database. They’re split into 25,000 reviews for training and 25,000 reviews for testing, each set consisting of 50% negative and 50% positive reviews."
      ]
    },
    {
      "cell_type": "code",
      "metadata": {
        "id": "EfOjczU0WNDt"
      },
      "source": [
        "\"Loading the IMDB dataset\"\n",
        "\n",
        "from tensorflow.keras.datasets import imdb\n",
        "(train_data, train_labels), (test_data, test_labels) = imdb.load_data(num_words=10000)"
      ],
      "execution_count": 1,
      "outputs": []
    },
    {
      "cell_type": "markdown",
      "metadata": {
        "id": "xQn4E5y6W1jR"
      },
      "source": [
        "The argument num_words=10000 means you’ll only keep the top 10,000 most frequently occurring words in the training data. Rare words will be discarded. This allows you to work with vector data of manageable size. If we didn’t set this limit, we’d be working with 88,585 unique words in the training data, which is unnecessarily large. Many of these words only occur in a single sample, and thus can’t be meaningfully used for classification.\n",
        "\n",
        "The variables train_data and test_data are lists of reviews; each review is a list of word indices (encoding a sequence of words). train_labels and test_labels are lists of 0s and 1s, where 0 stands for negative and 1 stands for positive:"
      ]
    },
    {
      "cell_type": "code",
      "metadata": {
        "id": "3JcKNTn6W25H",
        "outputId": "aecb1d18-b3e7-4347-98c6-00fdd30eda65",
        "colab": {
          "base_uri": "https://localhost:8080/"
        }
      },
      "source": [
        "train_data, len(train_data)"
      ],
      "execution_count": 2,
      "outputs": [
        {
          "output_type": "execute_result",
          "data": {
            "text/plain": [
              "(array([list([1, 14, 22, 16, 43, 530, 973, 1622, 1385, 65, 458, 4468, 66, 3941, 4, 173, 36, 256, 5, 25, 100, 43, 838, 112, 50, 670, 2, 9, 35, 480, 284, 5, 150, 4, 172, 112, 167, 2, 336, 385, 39, 4, 172, 4536, 1111, 17, 546, 38, 13, 447, 4, 192, 50, 16, 6, 147, 2025, 19, 14, 22, 4, 1920, 4613, 469, 4, 22, 71, 87, 12, 16, 43, 530, 38, 76, 15, 13, 1247, 4, 22, 17, 515, 17, 12, 16, 626, 18, 2, 5, 62, 386, 12, 8, 316, 8, 106, 5, 4, 2223, 5244, 16, 480, 66, 3785, 33, 4, 130, 12, 16, 38, 619, 5, 25, 124, 51, 36, 135, 48, 25, 1415, 33, 6, 22, 12, 215, 28, 77, 52, 5, 14, 407, 16, 82, 2, 8, 4, 107, 117, 5952, 15, 256, 4, 2, 7, 3766, 5, 723, 36, 71, 43, 530, 476, 26, 400, 317, 46, 7, 4, 2, 1029, 13, 104, 88, 4, 381, 15, 297, 98, 32, 2071, 56, 26, 141, 6, 194, 7486, 18, 4, 226, 22, 21, 134, 476, 26, 480, 5, 144, 30, 5535, 18, 51, 36, 28, 224, 92, 25, 104, 4, 226, 65, 16, 38, 1334, 88, 12, 16, 283, 5, 16, 4472, 113, 103, 32, 15, 16, 5345, 19, 178, 32]),\n",
              "        list([1, 194, 1153, 194, 8255, 78, 228, 5, 6, 1463, 4369, 5012, 134, 26, 4, 715, 8, 118, 1634, 14, 394, 20, 13, 119, 954, 189, 102, 5, 207, 110, 3103, 21, 14, 69, 188, 8, 30, 23, 7, 4, 249, 126, 93, 4, 114, 9, 2300, 1523, 5, 647, 4, 116, 9, 35, 8163, 4, 229, 9, 340, 1322, 4, 118, 9, 4, 130, 4901, 19, 4, 1002, 5, 89, 29, 952, 46, 37, 4, 455, 9, 45, 43, 38, 1543, 1905, 398, 4, 1649, 26, 6853, 5, 163, 11, 3215, 2, 4, 1153, 9, 194, 775, 7, 8255, 2, 349, 2637, 148, 605, 2, 8003, 15, 123, 125, 68, 2, 6853, 15, 349, 165, 4362, 98, 5, 4, 228, 9, 43, 2, 1157, 15, 299, 120, 5, 120, 174, 11, 220, 175, 136, 50, 9, 4373, 228, 8255, 5, 2, 656, 245, 2350, 5, 4, 9837, 131, 152, 491, 18, 2, 32, 7464, 1212, 14, 9, 6, 371, 78, 22, 625, 64, 1382, 9, 8, 168, 145, 23, 4, 1690, 15, 16, 4, 1355, 5, 28, 6, 52, 154, 462, 33, 89, 78, 285, 16, 145, 95]),\n",
              "        list([1, 14, 47, 8, 30, 31, 7, 4, 249, 108, 7, 4, 5974, 54, 61, 369, 13, 71, 149, 14, 22, 112, 4, 2401, 311, 12, 16, 3711, 33, 75, 43, 1829, 296, 4, 86, 320, 35, 534, 19, 263, 4821, 1301, 4, 1873, 33, 89, 78, 12, 66, 16, 4, 360, 7, 4, 58, 316, 334, 11, 4, 1716, 43, 645, 662, 8, 257, 85, 1200, 42, 1228, 2578, 83, 68, 3912, 15, 36, 165, 1539, 278, 36, 69, 2, 780, 8, 106, 14, 6905, 1338, 18, 6, 22, 12, 215, 28, 610, 40, 6, 87, 326, 23, 2300, 21, 23, 22, 12, 272, 40, 57, 31, 11, 4, 22, 47, 6, 2307, 51, 9, 170, 23, 595, 116, 595, 1352, 13, 191, 79, 638, 89, 2, 14, 9, 8, 106, 607, 624, 35, 534, 6, 227, 7, 129, 113]),\n",
              "        ...,\n",
              "        list([1, 11, 6, 230, 245, 6401, 9, 6, 1225, 446, 2, 45, 2174, 84, 8322, 4007, 21, 4, 912, 84, 2, 325, 725, 134, 2, 1715, 84, 5, 36, 28, 57, 1099, 21, 8, 140, 8, 703, 5, 2, 84, 56, 18, 1644, 14, 9, 31, 7, 4, 9406, 1209, 2295, 2, 1008, 18, 6, 20, 207, 110, 563, 12, 8, 2901, 2, 8, 97, 6, 20, 53, 4767, 74, 4, 460, 364, 1273, 29, 270, 11, 960, 108, 45, 40, 29, 2961, 395, 11, 6, 4065, 500, 7, 2, 89, 364, 70, 29, 140, 4, 64, 4780, 11, 4, 2678, 26, 178, 4, 529, 443, 2, 5, 27, 710, 117, 2, 8123, 165, 47, 84, 37, 131, 818, 14, 595, 10, 10, 61, 1242, 1209, 10, 10, 288, 2260, 1702, 34, 2901, 2, 4, 65, 496, 4, 231, 7, 790, 5, 6, 320, 234, 2766, 234, 1119, 1574, 7, 496, 4, 139, 929, 2901, 2, 7750, 5, 4241, 18, 4, 8497, 2, 250, 11, 1818, 7561, 4, 4217, 5408, 747, 1115, 372, 1890, 1006, 541, 9303, 7, 4, 59, 2, 4, 3586, 2]),\n",
              "        list([1, 1446, 7079, 69, 72, 3305, 13, 610, 930, 8, 12, 582, 23, 5, 16, 484, 685, 54, 349, 11, 4120, 2959, 45, 58, 1466, 13, 197, 12, 16, 43, 23, 2, 5, 62, 30, 145, 402, 11, 4131, 51, 575, 32, 61, 369, 71, 66, 770, 12, 1054, 75, 100, 2198, 8, 4, 105, 37, 69, 147, 712, 75, 3543, 44, 257, 390, 5, 69, 263, 514, 105, 50, 286, 1814, 23, 4, 123, 13, 161, 40, 5, 421, 4, 116, 16, 897, 13, 2, 40, 319, 5872, 112, 6700, 11, 4803, 121, 25, 70, 3468, 4, 719, 3798, 13, 18, 31, 62, 40, 8, 7200, 4, 2, 7, 14, 123, 5, 942, 25, 8, 721, 12, 145, 5, 202, 12, 160, 580, 202, 12, 6, 52, 58, 2, 92, 401, 728, 12, 39, 14, 251, 8, 15, 251, 5, 2, 12, 38, 84, 80, 124, 12, 9, 23]),\n",
              "        list([1, 17, 6, 194, 337, 7, 4, 204, 22, 45, 254, 8, 106, 14, 123, 4, 2, 270, 2, 5, 2, 2, 732, 2098, 101, 405, 39, 14, 1034, 4, 1310, 9, 115, 50, 305, 12, 47, 4, 168, 5, 235, 7, 38, 111, 699, 102, 7, 4, 4039, 9245, 9, 24, 6, 78, 1099, 17, 2345, 2, 21, 27, 9685, 6139, 5, 2, 1603, 92, 1183, 4, 1310, 7, 4, 204, 42, 97, 90, 35, 221, 109, 29, 127, 27, 118, 8, 97, 12, 157, 21, 6789, 2, 9, 6, 66, 78, 1099, 4, 631, 1191, 5, 2642, 272, 191, 1070, 6, 7585, 8, 2197, 2, 2, 544, 5, 383, 1271, 848, 1468, 2, 497, 2, 8, 1597, 8778, 2, 21, 60, 27, 239, 9, 43, 8368, 209, 405, 10, 10, 12, 764, 40, 4, 248, 20, 12, 16, 5, 174, 1791, 72, 7, 51, 6, 1739, 22, 4, 204, 131, 9])],\n",
              "       dtype=object), 25000)"
            ]
          },
          "metadata": {
            "tags": []
          },
          "execution_count": 2
        }
      ]
    },
    {
      "cell_type": "code",
      "metadata": {
        "id": "Nk9YeGJoXR32",
        "outputId": "b0fad711-e230-4121-dcfa-749275487f04",
        "colab": {
          "base_uri": "https://localhost:8080/"
        }
      },
      "source": [
        "train_labels, len(train_labels)"
      ],
      "execution_count": 3,
      "outputs": [
        {
          "output_type": "execute_result",
          "data": {
            "text/plain": [
              "(array([1, 0, 0, ..., 0, 1, 0]), 25000)"
            ]
          },
          "metadata": {
            "tags": []
          },
          "execution_count": 3
        }
      ]
    },
    {
      "cell_type": "markdown",
      "metadata": {
        "id": "KE-SCbYyXhAU"
      },
      "source": [
        "Because you’re restricting yourself to the top 10,000 most frequent words, no word index will exceed 10,000:\n",
        "\n"
      ]
    },
    {
      "cell_type": "code",
      "metadata": {
        "id": "oMj0vdMCXh1S",
        "outputId": "407f757f-695f-4d34-f1c4-e33ef3f08faa",
        "colab": {
          "base_uri": "https://localhost:8080/"
        }
      },
      "source": [
        "max([max(sequence) for sequence in train_data])"
      ],
      "execution_count": 4,
      "outputs": [
        {
          "output_type": "execute_result",
          "data": {
            "text/plain": [
              "9999"
            ]
          },
          "metadata": {
            "tags": []
          },
          "execution_count": 4
        }
      ]
    },
    {
      "cell_type": "markdown",
      "metadata": {
        "id": "4_AzRo7eX3dR"
      },
      "source": [
        "For kicks, here’s how you can quickly decode one of these reviews back to English words:\n",
        "\n"
      ]
    },
    {
      "cell_type": "code",
      "metadata": {
        "id": "kCFCoA-DX39b"
      },
      "source": [
        "word_index = imdb.get_word_index() \n",
        "# word_index is a dictionary mapping words to an integer index.\n",
        "\n",
        "reverse_word_index = dict([(value, key) for (key, value) in word_index.items()])\n",
        "# Reverses it, mapping integer indices to words\n",
        "\n",
        "decoded_review = ' '.join([reverse_word_index.get(i - 3, '?') for i in train_data[0]])\n",
        "# Decodes the review. Note that the indices are offset by 3 because 0,1, and 2 are reserved indices for \"padding\",\"start of sequence\", and \"unknownn\""
      ],
      "execution_count": 5,
      "outputs": []
    },
    {
      "cell_type": "code",
      "metadata": {
        "id": "1P7bKlyJY_na",
        "outputId": "0ec86bf8-3e0a-46c1-ccbf-bcaea1ede0cb",
        "colab": {
          "base_uri": "https://localhost:8080/",
          "height": 188
        }
      },
      "source": [
        "decoded_review"
      ],
      "execution_count": 6,
      "outputs": [
        {
          "output_type": "execute_result",
          "data": {
            "application/vnd.google.colaboratory.intrinsic+json": {
              "type": "string"
            },
            "text/plain": [
              "\"? this film was just brilliant casting location scenery story direction everyone's really suited the part they played and you could just imagine being there robert ? is an amazing actor and now the same being director ? father came from the same scottish island as myself so i loved the fact there was a real connection with this film the witty remarks throughout the film were great it was just brilliant so much that i bought the film as soon as it was released for ? and would recommend it to everyone to watch and the fly fishing was amazing really cried at the end it was so sad and you know what they say if you cry at a film it must have been good and this definitely was also ? to the two little boy's that played the ? of norman and paul they were just brilliant children are often left out of the ? list i think because the stars that play them all grown up are such a big profile for the whole film but these children are amazing and should be praised for what they have done don't you think the whole story was so lovely because it was true and was someone's life after all that was shared with us all\""
            ]
          },
          "metadata": {
            "tags": []
          },
          "execution_count": 6
        }
      ]
    },
    {
      "cell_type": "markdown",
      "metadata": {
        "id": "GAHzYB1OZXQw"
      },
      "source": [
        "### ***Preparing the data***\n",
        "\n",
        "You can’t directly feed lists of integers into a neural network. They have all different lengths, but a neural network expects to process contiguous batches of data. You have to turn your lists into tensors. There are two ways to do that:\n",
        "\n",
        "- Pad your lists so that they all have the same length, turn them into an integer tensor of shape (samples, 1), and then use it as the first layer in your model a layer capable of handling such integer tensors (the Embedding layer, which we’ll cover in detail later in the book).\n",
        "\n",
        "- One-hot encode your lists to turn them into vectors of 0s and 1s. This would mean, for instance, turning the sequence [8, 5] into a 10,000-dimensional vector that would be all 0s except for indices 8 and 5, which would be 1s. Then you could use as the first layer in your model a Dense layer, capable of handling floating-point vector data."
      ]
    },
    {
      "cell_type": "code",
      "metadata": {
        "id": "o_YgY6dQaPEb"
      },
      "source": [
        "\"Encoding the integer sequences via one-hot encoding\"\n",
        "\n",
        "import numpy as np\n",
        "def vectorize_sequences(sequences, dimension = 10000):\n",
        "  results = np.zeros((len(sequences), dimension)) # creates an all-zero matrix of shape(len(sequences, dimension))\n",
        "  for i, sequence in enumerate(sequences):\n",
        "    results[i, sequence] = 1. # sets specific indices of results[i] to 1s\n",
        "  return results\n",
        "\n",
        "x_train = vectorize_sequences(train_data)\n",
        "x_test = vectorize_sequences(test_data)"
      ],
      "execution_count": 7,
      "outputs": []
    },
    {
      "cell_type": "code",
      "metadata": {
        "id": "BcqLoZBVdztG",
        "outputId": "c09f7b8c-70ec-4b9c-c85c-0c800f9929b5",
        "colab": {
          "base_uri": "https://localhost:8080/"
        }
      },
      "source": [
        "x_train[0]"
      ],
      "execution_count": 8,
      "outputs": [
        {
          "output_type": "execute_result",
          "data": {
            "text/plain": [
              "array([0., 1., 1., ..., 0., 0., 0.])"
            ]
          },
          "metadata": {
            "tags": []
          },
          "execution_count": 8
        }
      ]
    },
    {
      "cell_type": "markdown",
      "metadata": {
        "id": "SCSTqLpCd-4W"
      },
      "source": [
        "You should also vectorize your labels, which is straightforward:"
      ]
    },
    {
      "cell_type": "code",
      "metadata": {
        "id": "M_vvkko0d_U8"
      },
      "source": [
        "y_train = np.asarray(train_labels).astype('float32')\n",
        "y_test = np.asarray(test_labels).astype('float32')"
      ],
      "execution_count": 9,
      "outputs": []
    },
    {
      "cell_type": "markdown",
      "metadata": {
        "id": "zDMDZ5T5eUAm"
      },
      "source": [
        "### ***Building your model***\n",
        "\n",
        "The input data is vectors, and the labels are scalars (1s and 0s): this is one of the simplest problem setups you’ll ever encounter. A type of model that performs well on such a problem is a plain stack of densely-connected (Dense) layers with relu activations.\n",
        "\n",
        "There are two key architecture decisions to be made about such a stack of Dense layers:\n",
        "\n",
        "- How many layers to use = Two intermediate layers with 16 units each\n",
        "- How many units to choose for each layer = A third layer that will output the scalar prediction regarding the sentiment of the current review"
      ]
    },
    {
      "cell_type": "code",
      "metadata": {
        "id": "IPYVCVsrfEOg"
      },
      "source": [
        "\"model definition\"\n",
        "\n",
        "from tensorflow import keras\n",
        "from tensorflow.keras import layers\n",
        "\n",
        "model = keras.Sequential([\n",
        "  layers.Dense(16, activation='relu'),\n",
        "  layers.Dense(16, activation='relu'),\n",
        "  layers.Dense(1, activation='sigmoid')\n",
        "])"
      ],
      "execution_count": 10,
      "outputs": []
    },
    {
      "cell_type": "markdown",
      "metadata": {
        "id": "aTfSGdgDhAmH"
      },
      "source": [
        "The first argument being passed to each Dense layer is the number of units in the layer: the dimensionality of representation space of the layer. Each such Dense layer with a relu activation implements the following chain of tensor operations:"
      ]
    },
    {
      "cell_type": "code",
      "metadata": {
        "id": "-q-_ZDuAhE2r",
        "outputId": "7e394d20-f3cf-479e-e731-cb7ef233de49",
        "colab": {
          "base_uri": "https://localhost:8080/",
          "height": 163
        }
      },
      "source": [
        "output = relu(dot(W, input) + b)"
      ],
      "execution_count": 11,
      "outputs": [
        {
          "output_type": "error",
          "ename": "NameError",
          "evalue": "ignored",
          "traceback": [
            "\u001b[0;31m---------------------------------------------------------------------------\u001b[0m",
            "\u001b[0;31mNameError\u001b[0m                                 Traceback (most recent call last)",
            "\u001b[0;32m<ipython-input-11-18b539df7e9b>\u001b[0m in \u001b[0;36m<module>\u001b[0;34m()\u001b[0m\n\u001b[0;32m----> 1\u001b[0;31m \u001b[0moutput\u001b[0m \u001b[0;34m=\u001b[0m \u001b[0mrelu\u001b[0m\u001b[0;34m(\u001b[0m\u001b[0mdot\u001b[0m\u001b[0;34m(\u001b[0m\u001b[0mW\u001b[0m\u001b[0;34m,\u001b[0m \u001b[0minput\u001b[0m\u001b[0;34m)\u001b[0m \u001b[0;34m+\u001b[0m \u001b[0mb\u001b[0m\u001b[0;34m)\u001b[0m\u001b[0;34m\u001b[0m\u001b[0;34m\u001b[0m\u001b[0m\n\u001b[0m",
            "\u001b[0;31mNameError\u001b[0m: name 'relu' is not defined"
          ]
        }
      ]
    },
    {
      "cell_type": "markdown",
      "metadata": {
        "id": "gy6OieOcho8R"
      },
      "source": [
        "Having 16 units means the weight matrix W will have shape (input_dimension, 16): the dot product with W will project the input data onto a 16-dimensional representation space (and then you’ll add the bias vector b and apply the relu operation). You can intuitively understand the dimensionality of your representation space as “how much freedom you’re allowing the model to have when learning internal representations.” Having more units (a higher-dimensional representation space) allows your model to learn more-complex representations, but it makes the model more computationally expensive and may lead to learning unwanted patterns (patterns that will improve performance on the training data but not on the test data).\n",
        "\n",
        "The intermediate layers use relu as their activation function, and the final layer uses a sigmoid activation so as to output a probability (a score between 0 and 1, indicating how likely the sample is to have the target “1”: how likely the review is to be positive). A relu (rectified linear unit) is a function meant to zero out negative values (see figure 3.4), whereas a sigmoid “squashes” arbitrary values into the [0, 1] interval (see figure 3.5), outputting something that can be interpreted as a probability.\n",
        "\n",
        "Finally, you need to choose a loss function and an optimizer. Because you’re facing a binary classification problem and the output of your model is a probability (you end your model with a single-unit layer with a sigmoid activation), it’s best to use the binary_crossentropy loss. It isn’t the only viable choice: you could use, for instance, mean_squared_error. But crossentropy is usually the best choice when you’re dealing with models that output probabilities. Crossentropy is a quantity from the field of Information Theory that measures the distance between probability distributions or, in this case, between the ground-truth distribution and your predictions.\n",
        "\n",
        "As for the choice of the optimizer, we’ll go with rmsprop, which is a usually a good default choice for virtually any problem.\n",
        "\n",
        "Here’s the step where you configure the model with the rmsprop optimizer and the binary_crossentropy loss function. Note that you’ll also monitor accuracy during training."
      ]
    },
    {
      "cell_type": "code",
      "metadata": {
        "id": "n_GjGOqmh7-p"
      },
      "source": [
        "\"compiling the model\"\n",
        "\n",
        "model.compile(optimizer='rmsprop',\n",
        "              loss='binary_crossentropy',\n",
        "              metrics=['accuracy'])"
      ],
      "execution_count": 12,
      "outputs": []
    },
    {
      "cell_type": "markdown",
      "metadata": {
        "id": "nXwga1jviOzo"
      },
      "source": [
        "### ***Validating your approach***\n",
        "\n",
        "As you learned in chapter 3, a deep learning model should never be evaluated on its training data — it’s standard practice to use a “validation set” to monitor the accuracy of the model during training. Here, you’ll create a validation set by setting apart 10,000 samples from the original training data."
      ]
    },
    {
      "cell_type": "code",
      "metadata": {
        "id": "3Np3K1dbimmb"
      },
      "source": [
        "\"Setting aside a validation set\"\n",
        "\n",
        "x_val = x_train[:10000]\n",
        "partial_x_train = x_train[10000:]\n",
        "y_val = y_train[:10000]\n",
        "partial_y_train = y_train[10000:]"
      ],
      "execution_count": 13,
      "outputs": []
    },
    {
      "cell_type": "markdown",
      "metadata": {
        "id": "X3U5vpMdiw_o"
      },
      "source": [
        "You’ll now train the model for 20 epochs (20 iterations over all samples in the x_train and y_train tensors), in mini-batches of 512 samples. At the same time, you’ll monitor loss and accuracy on the 10,000 samples that you set apart. You do so by passing the validation data as the validation_data argument."
      ]
    },
    {
      "cell_type": "code",
      "metadata": {
        "id": "9II-d1-XixqH",
        "outputId": "07efd7db-cf29-41aa-acb7-1215a726b775",
        "colab": {
          "base_uri": "https://localhost:8080/"
        }
      },
      "source": [
        "\"Training your model\"\n",
        "\n",
        "model.compile(optimizer='rmsprop',\n",
        "              loss='binary_crossentropy',\n",
        "              metrics=['acc'])\n",
        "\n",
        "history = model.fit(partial_x_train,\n",
        "                    partial_y_train,\n",
        "                    epochs=20,\n",
        "                    batch_size=512,\n",
        "                    validation_data=(x_val, y_val))"
      ],
      "execution_count": 14,
      "outputs": [
        {
          "output_type": "stream",
          "text": [
            "Epoch 1/20\n",
            "30/30 [==============================] - 1s 29ms/step - loss: 0.5833 - acc: 0.7106 - val_loss: 0.5020 - val_acc: 0.8624\n",
            "Epoch 2/20\n",
            "30/30 [==============================] - 1s 19ms/step - loss: 0.3885 - acc: 0.8927 - val_loss: 0.3580 - val_acc: 0.8783\n",
            "Epoch 3/20\n",
            "30/30 [==============================] - 1s 18ms/step - loss: 0.2745 - acc: 0.9207 - val_loss: 0.3070 - val_acc: 0.8881\n",
            "Epoch 4/20\n",
            "30/30 [==============================] - 1s 18ms/step - loss: 0.2086 - acc: 0.9387 - val_loss: 0.3112 - val_acc: 0.8754\n",
            "Epoch 5/20\n",
            "30/30 [==============================] - 1s 19ms/step - loss: 0.1680 - acc: 0.9506 - val_loss: 0.2887 - val_acc: 0.8852\n",
            "Epoch 6/20\n",
            "30/30 [==============================] - 1s 19ms/step - loss: 0.1399 - acc: 0.9565 - val_loss: 0.2859 - val_acc: 0.8865\n",
            "Epoch 7/20\n",
            "30/30 [==============================] - 1s 18ms/step - loss: 0.1132 - acc: 0.9697 - val_loss: 0.2946 - val_acc: 0.8864\n",
            "Epoch 8/20\n",
            "30/30 [==============================] - 1s 18ms/step - loss: 0.0967 - acc: 0.9740 - val_loss: 0.3081 - val_acc: 0.8846\n",
            "Epoch 9/20\n",
            "30/30 [==============================] - 1s 19ms/step - loss: 0.0780 - acc: 0.9818 - val_loss: 0.3271 - val_acc: 0.8805\n",
            "Epoch 10/20\n",
            "30/30 [==============================] - 1s 18ms/step - loss: 0.0641 - acc: 0.9855 - val_loss: 0.3536 - val_acc: 0.8777\n",
            "Epoch 11/20\n",
            "30/30 [==============================] - 1s 19ms/step - loss: 0.0539 - acc: 0.9883 - val_loss: 0.3727 - val_acc: 0.8786\n",
            "Epoch 12/20\n",
            "30/30 [==============================] - 1s 18ms/step - loss: 0.0441 - acc: 0.9900 - val_loss: 0.4009 - val_acc: 0.8738\n",
            "Epoch 13/20\n",
            "30/30 [==============================] - 1s 18ms/step - loss: 0.0334 - acc: 0.9949 - val_loss: 0.4221 - val_acc: 0.8741\n",
            "Epoch 14/20\n",
            "30/30 [==============================] - 1s 19ms/step - loss: 0.0282 - acc: 0.9951 - val_loss: 0.4581 - val_acc: 0.8714\n",
            "Epoch 15/20\n",
            "30/30 [==============================] - 1s 19ms/step - loss: 0.0223 - acc: 0.9962 - val_loss: 0.4826 - val_acc: 0.8732\n",
            "Epoch 16/20\n",
            "30/30 [==============================] - 1s 19ms/step - loss: 0.0177 - acc: 0.9975 - val_loss: 0.5238 - val_acc: 0.8699\n",
            "Epoch 17/20\n",
            "30/30 [==============================] - 1s 19ms/step - loss: 0.0139 - acc: 0.9983 - val_loss: 0.5446 - val_acc: 0.8703\n",
            "Epoch 18/20\n",
            "30/30 [==============================] - 1s 18ms/step - loss: 0.0092 - acc: 0.9991 - val_loss: 0.6098 - val_acc: 0.8645\n",
            "Epoch 19/20\n",
            "30/30 [==============================] - 1s 18ms/step - loss: 0.0067 - acc: 0.9995 - val_loss: 0.6259 - val_acc: 0.8682\n",
            "Epoch 20/20\n",
            "30/30 [==============================] - 1s 18ms/step - loss: 0.0054 - acc: 0.9997 - val_loss: 0.6525 - val_acc: 0.8701\n"
          ],
          "name": "stdout"
        }
      ]
    },
    {
      "cell_type": "markdown",
      "metadata": {
        "id": "eBCp46RPjhA4"
      },
      "source": [
        "On CPU, this will take less than 2 seconds per epoch — training is over in 20 seconds. At the end of every epoch, there is a slight pause as the model computes its loss and accuracy on the 10,000 samples of the validation data.\n",
        "\n",
        "Note that the call to model.fit() returns a History object, as you’ve seen in chapter 3. This object has a member history, which is a dictionary containing data about everything that happened during training. Let’s look at it:"
      ]
    },
    {
      "cell_type": "code",
      "metadata": {
        "id": "Yfr08eW6ji8-",
        "outputId": "d808f130-0187-4131-8b72-f57367e768f9",
        "colab": {
          "base_uri": "https://localhost:8080/"
        }
      },
      "source": [
        "history_dict = history.history\n",
        "history_dict.keys()"
      ],
      "execution_count": 15,
      "outputs": [
        {
          "output_type": "execute_result",
          "data": {
            "text/plain": [
              "dict_keys(['loss', 'acc', 'val_loss', 'val_acc'])"
            ]
          },
          "metadata": {
            "tags": []
          },
          "execution_count": 15
        }
      ]
    },
    {
      "cell_type": "code",
      "metadata": {
        "id": "o90vsVlnj3fz",
        "outputId": "2a706b84-b328-4440-8745-9e62770dbfe1",
        "colab": {
          "base_uri": "https://localhost:8080/",
          "height": 295
        }
      },
      "source": [
        "\" Plotting the training and validation loss\"\n",
        "\n",
        "import matplotlib.pyplot as plt\n",
        "history_dict = history.history\n",
        "loss_values = history_dict['loss']\n",
        "val_loss_values = history_dict['val_loss']\n",
        "epochs = range(1, len(loss_values) + 1)\n",
        "plt.plot(epochs, loss_values, 'bo', label='Training loss')\n",
        "plt.plot(epochs, val_loss_values, 'b', label='Validation loss')\n",
        "plt.title('Training and validation loss')\n",
        "plt.xlabel('Epochs')\n",
        "plt.ylabel('Loss')\n",
        "plt.legend()\n",
        "plt.show()"
      ],
      "execution_count": 16,
      "outputs": [
        {
          "output_type": "display_data",
          "data": {
            "image/png": "[encoded data removed]",
            "text/plain": [
              "<Figure size 432x288 with 1 Axes>"
            ]
          },
          "metadata": {
            "tags": [],
            "needs_background": "light"
          }
        }
      ]
    },
    {
      "cell_type": "code",
      "metadata": {
        "id": "H_lotoH7kBLK",
        "outputId": "7f7cddcb-7c12-466c-c0ec-8c6516d249f5",
        "colab": {
          "base_uri": "https://localhost:8080/",
          "height": 295
        }
      },
      "source": [
        "\"Plotting the training and validation accuracy\"\n",
        "\n",
        "plt.clf()\n",
        "acc = history_dict['acc']\n",
        "val_acc = history_dict['val_acc']\n",
        "plt.plot(epochs, acc, 'bo', label='Training acc')\n",
        "plt.plot(epochs, val_acc, 'b', label='Validation acc')\n",
        "plt.title('Training and validation accuracy')\n",
        "plt.xlabel('Epochs')\n",
        "plt.ylabel('Accuracy')\n",
        "plt.legend()\n",
        "plt.show()"
      ],
      "execution_count": 17,
      "outputs": [
        {
          "output_type": "display_data",
          "data": {
            "image/png": "[encoded data removed]",
            "text/plain": [
              "<Figure size 432x288 with 1 Axes>"
            ]
          },
          "metadata": {
            "tags": [],
            "needs_background": "light"
          }
        }
      ]
    },
    {
      "cell_type": "markdown",
      "metadata": {
        "id": "fIjizeTAkhPr"
      },
      "source": [
        "As you can see, the training loss decreases with every epoch, and the training accuracy increases with every epoch. That’s what you would expect when running gradient-descent optimization — the quantity you’re trying to minimize should be less with every iteration. But that isn’t the case for the validation loss and accuracy: they seem to peak at the fourth epoch. This is an example of what we warned against earlier: a model that performs better on the training data isn’t necessarily a model that will do better on data it has never seen before. In precise terms, what you’re seeing is overfitting: after the fourth epoch, you’re over-optimizing on the training data, and you end up learning representations that are specific to the training data and don’t generalize to data outside of the training set.\n",
        "\n",
        "In this case, to prevent overfitting, you could stop training after three epochs.\n",
        "\n",
        "Let’s train a new model from scratch for four epochs and then evaluate it on the test data."
      ]
    },
    {
      "cell_type": "code",
      "metadata": {
        "id": "JRkUKEafklmJ",
        "outputId": "43c14d76-d0d7-4759-e61c-e5b1b0e5149e",
        "colab": {
          "base_uri": "https://localhost:8080/"
        }
      },
      "source": [
        "\"Retraining a model from scratch\"\n",
        "\n",
        "model = keras.Sequential([\n",
        "    layers.Dense(16, activation='relu'),\n",
        "    layers.Dense(16, activation='relu'),\n",
        "    layers.Dense(1, activation='sigmoid')\n",
        "])\n",
        "model.compile(optimizer='rmsprop',\n",
        "              loss='binary_crossentropy',\n",
        "              metrics=['accuracy'])\n",
        "model.fit(x_train, y_train, epochs=4, batch_size=512)\n",
        "results = model.evaluate(x_test, y_test)"
      ],
      "execution_count": 18,
      "outputs": [
        {
          "output_type": "stream",
          "text": [
            "Epoch 1/4\n",
            "49/49 [==============================] - 1s 12ms/step - loss: 0.4509 - accuracy: 0.8202\n",
            "Epoch 2/4\n",
            "49/49 [==============================] - 1s 12ms/step - loss: 0.2563 - accuracy: 0.9102\n",
            "Epoch 3/4\n",
            "49/49 [==============================] - 1s 12ms/step - loss: 0.2013 - accuracy: 0.9276\n",
            "Epoch 4/4\n",
            "49/49 [==============================] - 1s 12ms/step - loss: 0.1680 - accuracy: 0.9407\n",
            "782/782 [==============================] - 2s 2ms/step - loss: 0.2938 - accuracy: 0.8837\n"
          ],
          "name": "stdout"
        }
      ]
    },
    {
      "cell_type": "code",
      "metadata": {
        "id": "-SIL2G2Dk2L6",
        "outputId": "64774f3b-9ce3-4eb2-c22d-9a9e4d7d1a4e",
        "colab": {
          "base_uri": "https://localhost:8080/"
        }
      },
      "source": [
        "results"
      ],
      "execution_count": 19,
      "outputs": [
        {
          "output_type": "execute_result",
          "data": {
            "text/plain": [
              "[0.29380685091018677, 0.8837199807167053]"
            ]
          },
          "metadata": {
            "tags": []
          },
          "execution_count": 19
        }
      ]
    },
    {
      "cell_type": "markdown",
      "metadata": {
        "id": "AmIWOTMlk8Dm"
      },
      "source": [
        "This fairly naive approach achieves an accuracy of 88%. With state-of-the-art approaches, you should be able to get close to 95%."
      ]
    },
    {
      "cell_type": "markdown",
      "metadata": {
        "id": "de0PGH4_k_xZ"
      },
      "source": [
        "### ***Using a trained model to generate predictions on new data***\n",
        "\n",
        "After having trained a model, you’ll want to use it in a practical setting. You can generate the likelihood of reviews being positive by using the predict method."
      ]
    },
    {
      "cell_type": "code",
      "metadata": {
        "id": "DxxwAmcFlID2",
        "outputId": "65b65394-d206-4c52-e1f8-1548d6b07276",
        "colab": {
          "base_uri": "https://localhost:8080/"
        }
      },
      "source": [
        "model.predict(x_test)"
      ],
      "execution_count": 20,
      "outputs": [
        {
          "output_type": "execute_result",
          "data": {
            "text/plain": [
              "array([[0.19945452],\n",
              "       [0.9996482 ],\n",
              "       [0.8747668 ],\n",
              "       ...,\n",
              "       [0.13448314],\n",
              "       [0.09217052],\n",
              "       [0.62122893]], dtype=float32)"
            ]
          },
          "metadata": {
            "tags": []
          },
          "execution_count": 20
        }
      ]
    },
    {
      "cell_type": "markdown",
      "metadata": {
        "id": "mDL8UYfnlolh"
      },
      "source": [
        "As you can see, the model is confident for some samples (0.99 or more, or 0.01 or less) but less confident for others (0.6, 0.4)."
      ]
    },
    {
      "cell_type": "markdown",
      "metadata": {
        "id": "Jqm7VIKRl0jG"
      },
      "source": [
        "# ***Wrapping up***\n",
        "\n",
        "- You usually need to do quite a bit of preprocessing on your raw data in order to be able to feed it — as tensors — into a neural network. Sequences of words can be encoded as binary vectors, but there are other encoding options, too.\n",
        "- Stacks of Dense layers with relu activations can solve a wide range of problems (including sentiment classification), and you’ll likely use them frequently.\n",
        "- In a binary classification problem (two output classes), your model should end with a Dense layer with one unit and a sigmoid activation: the output of your model should be a scalar between 0 and 1, encoding a probability.\n",
        "- With such a scalar sigmoid output on a binary classification problem, the loss function you should use is binary_crossentropy.\n",
        "- The rmsprop optimizer is generally a good enough choice, whatever your problem. That’s one less thing for you to worry about.\n",
        "- As they get better on their training data, neural networks eventually start overfitting and end up obtaining increasingly worse results on data they’ve never seen before. Be sure to always monitor performance on data that is outside of the training set."
      ]
    }
  ]
}