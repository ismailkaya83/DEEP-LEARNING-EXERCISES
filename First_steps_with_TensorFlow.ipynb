{
  "nbformat": 4,
  "nbformat_minor": 0,
  "metadata": {
    "colab": {
      "name": "First steps with TensorFlow.ipynb",
      "provenance": [],
      "authorship_tag": "ABX9TyPBCv8YVZVPapjdgP603xQ3",
      "include_colab_link": true
    },
    "kernelspec": {
      "name": "python3",
      "display_name": "Python 3"
    },
    "accelerator": "GPU"
  },
  "cells": [
    {
      "cell_type": "markdown",
      "metadata": {
        "id": "view-in-github",
        "colab_type": "text"
      },
      "source": [
        "<a href=\"https://colab.research.google.com/github/ismailkaya83/MY-DEEP-LEARNING-NOTEBOOKS/blob/master/First_steps_with_TensorFlow.ipynb\" target=\"_parent\"><img src=\"https://colab.research.google.com/assets/colab-badge.svg\" alt=\"Open In Colab\"/></a>"
      ]
    },
    {
      "cell_type": "markdown",
      "metadata": {
        "id": "YsboZlstfCzG"
      },
      "source": [
        "# Introduction to Keras and TensorFlow"
      ]
    },
    {
      "cell_type": "markdown",
      "metadata": {
        "id": "PzJkBUeEeGGL"
      },
      "source": [
        "First, low-level tensor manipulation — the infrastructure that underlies all modern machine learning. This translates to TensorFlow APIs:\n",
        "\n",
        "- ***Tensors***, including special tensors that store the network’s state (variables)\n",
        "- ***Tensor operations*** such as addition, relu, matmul\n",
        "- ***Backpropagation***, a way to compute the gradient of mathematical expressions (handled in TensorFlow via the GradientTape object)\n",
        "\n",
        "Second, high-level deep learning concepts. This translates to Keras APIs:\n",
        "\n",
        "- ***Layers***, which are combined into a model\n",
        "- ***A loss function***, which defines the feedback signal used for learning\n",
        "- ***An optimizer***, which determines how learning proceeds\n",
        "- ***Metrics*** to evaluate model performance, such as accuracy\n",
        "- ***A training loop*** that performs mini-batch stochastic gradient descent"
      ]
    },
    {
      "cell_type": "markdown",
      "metadata": {
        "id": "Bar0_u02e5_7"
      },
      "source": [
        "## Constant tensors and Variables"
      ]
    },
    {
      "cell_type": "markdown",
      "metadata": {
        "id": "OAHHn-KrfQD2"
      },
      "source": [
        "To do anything in TensorFlow, we’re going to need some tensors. Tensors need to be created with some initial value, so common ways to create tensors are:\n",
        "\n",
        "Listing 3.1. All-ones or all-zeros tensors"
      ]
    },
    {
      "cell_type": "code",
      "metadata": {
        "id": "6bN0ynqGfREj",
        "outputId": "fdd51004-c97a-42e5-c209-d2bb9453e380",
        "colab": {
          "base_uri": "https://localhost:8080/"
        }
      },
      "source": [
        "import tensorflow as tf\n",
        "\n",
        "x = tf.ones(shape=(2, 1))\n",
        "print(x)"
      ],
      "execution_count": 1,
      "outputs": [
        {
          "output_type": "stream",
          "text": [
            "tf.Tensor(\n",
            "[[1.]\n",
            " [1.]], shape=(2, 1), dtype=float32)\n"
          ],
          "name": "stdout"
        }
      ]
    },
    {
      "cell_type": "code",
      "metadata": {
        "id": "wz4cjHaufsxm",
        "outputId": "f072578d-a31b-44c9-c787-02d081a43e7d",
        "colab": {
          "base_uri": "https://localhost:8080/"
        }
      },
      "source": [
        "x = tf.zeros(shape=(2, 1))\n",
        "print(x)"
      ],
      "execution_count": 2,
      "outputs": [
        {
          "output_type": "stream",
          "text": [
            "tf.Tensor(\n",
            "[[0.]\n",
            " [0.]], shape=(2, 1), dtype=float32)\n"
          ],
          "name": "stdout"
        }
      ]
    },
    {
      "cell_type": "markdown",
      "metadata": {
        "id": "1YkXpBc_f5u9"
      },
      "source": [
        "Listing 3.2. Random tensors"
      ]
    },
    {
      "cell_type": "code",
      "metadata": {
        "id": "_SPOd8Zjf7N1",
        "outputId": "64af10bd-f8a8-405c-90b4-519966fe1d4f",
        "colab": {
          "base_uri": "https://localhost:8080/"
        }
      },
      "source": [
        "x = tf.random.normal(shape=(3, 1), mean=0., stddev=1.)\n",
        "print(x)"
      ],
      "execution_count": 3,
      "outputs": [
        {
          "output_type": "stream",
          "text": [
            "tf.Tensor(\n",
            "[[-1.3704903 ]\n",
            " [-0.37368724]\n",
            " [ 3.108444  ]], shape=(3, 1), dtype=float32)\n"
          ],
          "name": "stdout"
        }
      ]
    },
    {
      "cell_type": "code",
      "metadata": {
        "id": "F76tUg2AgUia",
        "outputId": "761fac4c-c18a-4c89-f33c-1675387c6576",
        "colab": {
          "base_uri": "https://localhost:8080/"
        }
      },
      "source": [
        "x = tf.random.uniform(shape=(3, 1), minval=0., maxval=1.)\n",
        "print(x)"
      ],
      "execution_count": 4,
      "outputs": [
        {
          "output_type": "stream",
          "text": [
            "tf.Tensor(\n",
            "[[0.32268882]\n",
            " [0.0860064 ]\n",
            " [0.501351  ]], shape=(3, 1), dtype=float32)\n"
          ],
          "name": "stdout"
        }
      ]
    },
    {
      "cell_type": "markdown",
      "metadata": {
        "id": "2H0WZEhNgh8Y"
      },
      "source": [
        "A significant difference between NumPy arrays and TensorFlow tensors is that TensorFlow tensors aren’t assignable: they’re constant. For instance, in NumPy, you can do:"
      ]
    },
    {
      "cell_type": "markdown",
      "metadata": {
        "id": "3mpnBRENgisk"
      },
      "source": [
        "Listing 3.3. NumPy arrays are assignable"
      ]
    },
    {
      "cell_type": "code",
      "metadata": {
        "id": "tULMmvf3gmK3"
      },
      "source": [
        "import numpy as np\n",
        "x = np.ones(shape=(2, 2))\n",
        "x[0, 0] = 0."
      ],
      "execution_count": 5,
      "outputs": []
    },
    {
      "cell_type": "markdown",
      "metadata": {
        "id": "71bOPtuQg0PF"
      },
      "source": [
        "Try to do the same thing in TensorFlow: you will get an error, \"EagerTensor object does not support item assignment\"."
      ]
    },
    {
      "cell_type": "markdown",
      "metadata": {
        "id": "qqKokkyCg_Ov"
      },
      "source": [
        "Listing 3.4. TensorFlow tensors are not assignable"
      ]
    },
    {
      "cell_type": "code",
      "metadata": {
        "id": "GxKmLVcOg026",
        "outputId": "2e0163ee-f69a-4890-8763-60ce3a30dd44",
        "colab": {
          "base_uri": "https://localhost:8080/",
          "height": 180
        }
      },
      "source": [
        "x = tf.ones(shape=(2, 2))\n",
        "x[0, 0] = 0."
      ],
      "execution_count": 6,
      "outputs": [
        {
          "output_type": "error",
          "ename": "TypeError",
          "evalue": "ignored",
          "traceback": [
            "\u001b[0;31m---------------------------------------------------------------------------\u001b[0m",
            "\u001b[0;31mTypeError\u001b[0m                                 Traceback (most recent call last)",
            "\u001b[0;32m<ipython-input-6-09deea229eff>\u001b[0m in \u001b[0;36m<module>\u001b[0;34m()\u001b[0m\n\u001b[1;32m      1\u001b[0m \u001b[0mx\u001b[0m \u001b[0;34m=\u001b[0m \u001b[0mtf\u001b[0m\u001b[0;34m.\u001b[0m\u001b[0mones\u001b[0m\u001b[0;34m(\u001b[0m\u001b[0mshape\u001b[0m\u001b[0;34m=\u001b[0m\u001b[0;34m(\u001b[0m\u001b[0;36m2\u001b[0m\u001b[0;34m,\u001b[0m \u001b[0;36m2\u001b[0m\u001b[0;34m)\u001b[0m\u001b[0;34m)\u001b[0m\u001b[0;34m\u001b[0m\u001b[0;34m\u001b[0m\u001b[0m\n\u001b[0;32m----> 2\u001b[0;31m \u001b[0mx\u001b[0m\u001b[0;34m[\u001b[0m\u001b[0;36m0\u001b[0m\u001b[0;34m,\u001b[0m \u001b[0;36m0\u001b[0m\u001b[0;34m]\u001b[0m \u001b[0;34m=\u001b[0m \u001b[0;36m0.\u001b[0m\u001b[0;34m\u001b[0m\u001b[0;34m\u001b[0m\u001b[0m\n\u001b[0m",
            "\u001b[0;31mTypeError\u001b[0m: 'tensorflow.python.framework.ops.EagerTensor' object does not support item assignment"
          ]
        }
      ]
    },
    {
      "cell_type": "markdown",
      "metadata": {
        "id": "f0gd6wKLhH12"
      },
      "source": [
        "To train a model, we’ll need to update its state, which is a set of tensors. If tensors aren’t assignable, how do we do it, then? That’s where variables come in. tf.Variable is the class meant to manage modifiable state in TensorFlow. \n",
        "\n",
        "To create a variable, you need to provide some initial value, such as a random tensor:\n",
        "\n",
        "Listing 3.5. Creating a Variable"
      ]
    },
    {
      "cell_type": "code",
      "metadata": {
        "id": "uQqUFjL9hMID",
        "outputId": "80b81bb4-a013-4e8a-b244-a671d2e2d5f5",
        "colab": {
          "base_uri": "https://localhost:8080/"
        }
      },
      "source": [
        "v = tf.Variable(initial_value=tf.random.normal(shape=(3, 1)))\n",
        "print(v)"
      ],
      "execution_count": 7,
      "outputs": [
        {
          "output_type": "stream",
          "text": [
            "<tf.Variable 'Variable:0' shape=(3, 1) dtype=float32, numpy=\n",
            "array([[-0.6207771 ],\n",
            "       [-0.21466894],\n",
            "       [ 0.431113  ]], dtype=float32)>\n"
          ],
          "name": "stdout"
        }
      ]
    },
    {
      "cell_type": "markdown",
      "metadata": {
        "id": "OVsuwYH-h4fu"
      },
      "source": [
        "Listing 3.6. Assigning a value to a Variable\n"
      ]
    },
    {
      "cell_type": "code",
      "metadata": {
        "id": "5euGpndChwBa",
        "outputId": "b277a900-1e84-4676-aacd-abd68d958734",
        "colab": {
          "base_uri": "https://localhost:8080/"
        }
      },
      "source": [
        "v.assign(tf.ones((3, 1)))"
      ],
      "execution_count": 8,
      "outputs": [
        {
          "output_type": "execute_result",
          "data": {
            "text/plain": [
              "<tf.Variable 'UnreadVariable' shape=(3, 1) dtype=float32, numpy=\n",
              "array([[1.],\n",
              "       [1.],\n",
              "       [1.]], dtype=float32)>"
            ]
          },
          "metadata": {
            "tags": []
          },
          "execution_count": 8
        }
      ]
    },
    {
      "cell_type": "markdown",
      "metadata": {
        "id": "tcsn7ZmsiBJR"
      },
      "source": [
        "Listing 3.7. Assigning a value to a subset of a Variable"
      ]
    },
    {
      "cell_type": "code",
      "metadata": {
        "id": "_KjVRbAziByT",
        "outputId": "faa44ae6-e605-4468-bcaf-521596951b75",
        "colab": {
          "base_uri": "https://localhost:8080/"
        }
      },
      "source": [
        "v[0, 0].assign(3.)"
      ],
      "execution_count": 9,
      "outputs": [
        {
          "output_type": "execute_result",
          "data": {
            "text/plain": [
              "<tf.Variable 'UnreadVariable' shape=(3, 1) dtype=float32, numpy=\n",
              "array([[3.],\n",
              "       [1.],\n",
              "       [1.]], dtype=float32)>"
            ]
          },
          "metadata": {
            "tags": []
          },
          "execution_count": 9
        }
      ]
    },
    {
      "cell_type": "markdown",
      "metadata": {
        "id": "9iodhxmriKnz"
      },
      "source": [
        "Listing 3.8. Using assign_add"
      ]
    },
    {
      "cell_type": "code",
      "metadata": {
        "id": "ooubUYxeiLKk",
        "outputId": "f869ac37-6166-48b4-c346-333915b28d11",
        "colab": {
          "base_uri": "https://localhost:8080/"
        }
      },
      "source": [
        "v.assign_add(tf.ones((3, 1)))"
      ],
      "execution_count": 10,
      "outputs": [
        {
          "output_type": "execute_result",
          "data": {
            "text/plain": [
              "<tf.Variable 'UnreadVariable' shape=(3, 1) dtype=float32, numpy=\n",
              "array([[4.],\n",
              "       [2.],\n",
              "       [2.]], dtype=float32)>"
            ]
          },
          "metadata": {
            "tags": []
          },
          "execution_count": 10
        }
      ]
    },
    {
      "cell_type": "markdown",
      "metadata": {
        "id": "zJFlSHhUiYrk"
      },
      "source": [
        "##  Tensor operations: doing math in TensorFlow"
      ]
    },
    {
      "cell_type": "markdown",
      "metadata": {
        "id": "ELXX1QtFig5P"
      },
      "source": [
        "Just like NumPy, TensorFlow offers a large collection of tensor operations to express mathematical formulas. Here are a few examples:\n",
        "\n"
      ]
    },
    {
      "cell_type": "code",
      "metadata": {
        "id": "74p29QZXiaIj",
        "outputId": "be0be405-c2ce-47d7-acb6-bd33ea70dd42",
        "colab": {
          "base_uri": "https://localhost:8080/"
        }
      },
      "source": [
        "a = tf.random.normal(shape=(3, 1), mean=1., stddev=1.)\n",
        "print(a)\n",
        "b = tf.square(a)\n",
        "print(b)\n",
        "c = tf.sqrt(a)\n",
        "print(c)\n",
        "d = b + c\n",
        "print(d)"
      ],
      "execution_count": 11,
      "outputs": [
        {
          "output_type": "stream",
          "text": [
            "tf.Tensor(\n",
            "[[3.077791 ]\n",
            " [3.232766 ]\n",
            " [2.2310061]], shape=(3, 1), dtype=float32)\n",
            "tf.Tensor(\n",
            "[[ 9.472797 ]\n",
            " [10.450775 ]\n",
            " [ 4.9773884]], shape=(3, 1), dtype=float32)\n",
            "tf.Tensor(\n",
            "[[1.7543634]\n",
            " [1.7979894]\n",
            " [1.4936553]], shape=(3, 1), dtype=float32)\n",
            "tf.Tensor(\n",
            "[[11.22716  ]\n",
            " [12.248764 ]\n",
            " [ 6.4710436]], shape=(3, 1), dtype=float32)\n"
          ],
          "name": "stdout"
        }
      ]
    },
    {
      "cell_type": "markdown",
      "metadata": {
        "id": "XJhqI7ziiy4x"
      },
      "source": [
        "Importantly, each operation we just wrote gets executed on the fly: at any point, you can print what the current result is, just like in NumPy. We call this eager execution.\n",
        "\n"
      ]
    },
    {
      "cell_type": "markdown",
      "metadata": {
        "id": "p6i3Eep4i36l"
      },
      "source": [
        "## A second look at the GradientTape API"
      ]
    },
    {
      "cell_type": "markdown",
      "metadata": {
        "id": "qCQHd3HPjCg1"
      },
      "source": [
        "So far, TensorFlow seems to look a lot like NumPy. But here’s something NumPy can’t do: retrieve the gradient of any differentiable expression with respect to any of its inputs. Just open a GradientTape scope, apply some computation to one or several input tensors, and retrieve the gradient of the result with respect to the inputs."
      ]
    },
    {
      "cell_type": "code",
      "metadata": {
        "id": "GoChi8cMjDBK",
        "outputId": "a50f35c3-5d75-47b6-d9f0-cab9f7a7555b",
        "colab": {
          "base_uri": "https://localhost:8080/"
        }
      },
      "source": [
        "input_var = tf.Variable(initial_value=3.)\n",
        "with tf.GradientTape() as tape:\n",
        "   result = tf.square(input_var)\n",
        "gradient = tape.gradient(result, input_var)\n",
        "print(input_var)\n",
        "print(result)\n",
        "print(gradient)"
      ],
      "execution_count": 12,
      "outputs": [
        {
          "output_type": "stream",
          "text": [
            "<tf.Variable 'Variable:0' shape=() dtype=float32, numpy=3.0>\n",
            "tf.Tensor(9.0, shape=(), dtype=float32)\n",
            "tf.Tensor(6.0, shape=(), dtype=float32)\n"
          ],
          "name": "stdout"
        }
      ]
    },
    {
      "cell_type": "markdown",
      "metadata": {
        "id": "mMyrq32Ij_T9"
      },
      "source": [
        "This is most commonly used to retrieve the gradients of the weights of a model with respect to its loss: gradients = tape.gradient(loss, weights).\n",
        "\n",
        "In chapter 2, you’ve seen how the GradientTape works on either a single input or a list of inputs, and how inputs could be either scalars or high-dimensional tensors.\n",
        "\n",
        "So far, you’ve only seen the case where the input tensors in tape.gradient() were TensorFlow variables. It’s actually possible for these inputs to be any arbitrary tensor. However, only trainable variables are being tracked by default. With a constant tensor, you’d have to manually mark it as being tracked, by calling tape.watch() on it:"
      ]
    },
    {
      "cell_type": "code",
      "metadata": {
        "id": "JU0z-Y_skDfL",
        "outputId": "7eb58292-f610-4541-8a7f-336583d1fa34",
        "colab": {
          "base_uri": "https://localhost:8080/"
        }
      },
      "source": [
        "input_const = tf.constant(3.)\n",
        "with tf.GradientTape() as tape:\n",
        "   tape.watch(input_const)\n",
        "   result = tf.square(input_const)\n",
        "gradient = tape.gradient(result, input_const)\n",
        "print(input_const)\n",
        "print(result)\n",
        "print(gradient)"
      ],
      "execution_count": 13,
      "outputs": [
        {
          "output_type": "stream",
          "text": [
            "tf.Tensor(3.0, shape=(), dtype=float32)\n",
            "tf.Tensor(9.0, shape=(), dtype=float32)\n",
            "tf.Tensor(6.0, shape=(), dtype=float32)\n"
          ],
          "name": "stdout"
        }
      ]
    },
    {
      "cell_type": "markdown",
      "metadata": {
        "id": "_u-t2dg6lGmg"
      },
      "source": [
        "Why? Because it would be too expensive to preemptively store the information required to compute the gradient of anything with respect to anything. To avoid wasting resources, the tape needs to know what to watch. Trainable variables are watched by default because computing the gradient of a loss with regard to a list of trainable variables is the most common use case of the gradient tape.\n",
        "\n",
        "The gradient tape is a powerful utility, even capable of computing second-order gradients, that is to say, the gradient of a gradient. For instance, the gradient of the position of an object with regard to time is the speed of that object, and the second-order gradient is its acceleration.\n",
        "\n",
        "If you measure the position of a falling apple along a vertical axis over time, and find that it verifies position(time) = 4.9 * time ** 2, what is its acceleration? Let’s use two nested gradient tapes to find out."
      ]
    },
    {
      "cell_type": "code",
      "metadata": {
        "id": "9QhcXYiXlHlz",
        "outputId": "83222146-e3ed-420b-d353-f906845a5fe2",
        "colab": {
          "base_uri": "https://localhost:8080/"
        }
      },
      "source": [
        "time = tf.Variable(0.)\n",
        "with tf.GradientTape() as outer_tape:\n",
        "  with tf.GradientTape() as inner_tape:\n",
        "    position =  4.9 * time ** 2\n",
        "  speed = inner_tape.gradient(position, time)\n",
        "acceleration = outer_tape.gradient(speed, time)\n",
        "\n",
        "print(time)\n",
        "print(speed)\n",
        "print(acceleration)"
      ],
      "execution_count": 14,
      "outputs": [
        {
          "output_type": "stream",
          "text": [
            "<tf.Variable 'Variable:0' shape=() dtype=float32, numpy=0.0>\n",
            "tf.Tensor(0.0, shape=(), dtype=float32)\n",
            "tf.Tensor(9.8, shape=(), dtype=float32)\n"
          ],
          "name": "stdout"
        }
      ]
    },
    {
      "cell_type": "markdown",
      "metadata": {
        "id": "25Z9ZEXglbOV"
      },
      "source": [
        "## An end-to-end example: a linear classifier in pure TensorFlow"
      ]
    },
    {
      "cell_type": "markdown",
      "metadata": {
        "id": "IAtGD7Pwld_h"
      },
      "source": [
        "You know about tensors, variables, tensor operations, and you know how to compute gradients. That’s enough to build any machine learning model based on gradient descent. And you’re only at chapter 3!\n",
        "\n",
        "In a machine learning job interview, you may be asked to implement a linear classifier from scratch in TensorFlow: a very simple task that serves as a filter between candidates who have some minimal machine learning background, and those who don’t. Let’s get you past that filter, and use your newfound knowledge of TensorFlow to implement such a linear classifier.\n",
        "\n",
        "First, let’s come up with some nicely linearly-separable synthetic data to work with: two classes of points in a 2D plane."
      ]
    },
    {
      "cell_type": "code",
      "metadata": {
        "id": "JlMB21SRlraO"
      },
      "source": [
        "\"Generating two classes of random points in a 2D plane\"\n",
        "\n",
        "num_samples_per_class = 1000\n",
        "negative_samples = np.random.multivariate_normal(\n",
        "    mean=[0, 3], cov=[[1, 0.5],[0.5, 1]], size=num_samples_per_class)\n",
        "positive_samples = np.random.multivariate_normal(\n",
        "    mean=[3, 0], cov=[[1, 0.5],[0.5, 1]], size=num_samples_per_class)"
      ],
      "execution_count": 15,
      "outputs": []
    },
    {
      "cell_type": "markdown",
      "metadata": {
        "id": "33weGfxHl2O_"
      },
      "source": [
        "negative_samples and positive_samples are both arrays with shape (1000, 2). Let’s stack them into a single array with shape (2000, 2):"
      ]
    },
    {
      "cell_type": "code",
      "metadata": {
        "id": "23sXBTwil35H"
      },
      "source": [
        "\" Stacking the two classes into an array with shape (2000, 2)\"\n",
        "\n",
        "inputs = np.vstack((negative_samples, positive_samples)).astype(np.float32)"
      ],
      "execution_count": 16,
      "outputs": []
    },
    {
      "cell_type": "code",
      "metadata": {
        "id": "KiYZdadAd3sY",
        "outputId": "f04da585-a447-4aa9-a427-b3f01072b2d8",
        "colab": {
          "base_uri": "https://localhost:8080/"
        }
      },
      "source": [
        "inputs"
      ],
      "execution_count": 17,
      "outputs": [
        {
          "output_type": "execute_result",
          "data": {
            "text/plain": [
              "array([[-0.4084368 ,  0.7923247 ],\n",
              "       [-0.24515966,  3.7064223 ],\n",
              "       [-1.1331381 ,  2.8175464 ],\n",
              "       ...,\n",
              "       [ 2.6625898 , -0.45281217],\n",
              "       [ 2.389791  , -0.70190746],\n",
              "       [ 2.95066   ,  1.3787836 ]], dtype=float32)"
            ]
          },
          "metadata": {
            "tags": []
          },
          "execution_count": 17
        }
      ]
    },
    {
      "cell_type": "markdown",
      "metadata": {
        "id": "sRvY5jSomA_4"
      },
      "source": [
        "Let’s generate the corresponding target labels, an array of zeros and ones of shape (2000, 1), where targets[i, 0] is 0 if inputs[i] belongs to class 0 (and inversely):"
      ]
    },
    {
      "cell_type": "code",
      "metadata": {
        "id": "2l1GfXNSmBhg"
      },
      "source": [
        "\"Generating the corresponding targets (0 and 1)\"\n",
        "\n",
        "targets = np.vstack((np.zeros((num_samples_per_class, 1), dtype='float32'),\n",
        "                     np.ones((num_samples_per_class, 1), dtype='float32')))"
      ],
      "execution_count": 18,
      "outputs": []
    },
    {
      "cell_type": "code",
      "metadata": {
        "id": "7WFYjCP4d7K_",
        "outputId": "9257d4cb-f955-49f4-a08a-9a8b8a0ace1c",
        "colab": {
          "base_uri": "https://localhost:8080/"
        }
      },
      "source": [
        "targets"
      ],
      "execution_count": 19,
      "outputs": [
        {
          "output_type": "execute_result",
          "data": {
            "text/plain": [
              "array([[0.],\n",
              "       [0.],\n",
              "       [0.],\n",
              "       ...,\n",
              "       [1.],\n",
              "       [1.],\n",
              "       [1.]], dtype=float32)"
            ]
          },
          "metadata": {
            "tags": []
          },
          "execution_count": 19
        }
      ]
    },
    {
      "cell_type": "markdown",
      "metadata": {
        "id": "77D5UKUQmIqK"
      },
      "source": [
        "Let’s plot our data with Matplotlib, a well-known Python data visualization library (it comes preinstalled in Colab, so no need for you to install it yourself):"
      ]
    },
    {
      "cell_type": "code",
      "metadata": {
        "id": "QAkMdPR5mLvf",
        "outputId": "2b23a98b-5aad-48b8-8119-de0fdbb10985",
        "colab": {
          "base_uri": "https://localhost:8080/",
          "height": 265
        }
      },
      "source": [
        "import matplotlib.pyplot as plt\n",
        "plt.scatter(inputs[:, 0], inputs[:, 1], c=targets[:, 0])\n",
        "plt.show()"
      ],
      "execution_count": 20,
      "outputs": [
        {
          "output_type": "display_data",
          "data": {
            "image/png": "[encoded data removed]",
            "text/plain": [
              "<Figure size 432x288 with 1 Axes>"
            ]
          },
          "metadata": {
            "tags": [],
            "needs_background": "light"
          }
        }
      ]
    },
    {
      "cell_type": "markdown",
      "metadata": {
        "id": "0QiV4HuPmYOQ"
      },
      "source": [
        "Now, let’s create a linear classifier that can learn to separate these two blobs. A linear classifier is an affine transformation (prediction = W • input + b) trained to minimize the square of the difference between predictions and the targets.\n",
        "\n",
        "As you’ll see, it’s actually a much simpler example than the end-to-end example of a toy two-layer neural network from the end of chapter 2. However, this time, you should be able to understand everything about the code, line by line.\n",
        "\n",
        "Let’s create our variables W and b, initialized with random values and with zeros respectively:"
      ]
    },
    {
      "cell_type": "code",
      "metadata": {
        "id": "pqD4t560mYwE"
      },
      "source": [
        "\"Creating the linear classifier variables\"\n",
        "\n",
        "input_dim = 2\n",
        "output_dim = 1\n",
        "W = tf.Variable(initial_value=tf.random.uniform(shape=(input_dim, output_dim)))\n",
        "b = tf.Variable(initial_value=tf.zeros(shape=(output_dim,)))"
      ],
      "execution_count": 21,
      "outputs": []
    },
    {
      "cell_type": "code",
      "metadata": {
        "id": "usA_APA7X622",
        "outputId": "125d326f-05e0-45cf-cc51-3be816ec151b",
        "colab": {
          "base_uri": "https://localhost:8080/"
        }
      },
      "source": [
        "W"
      ],
      "execution_count": 22,
      "outputs": [
        {
          "output_type": "execute_result",
          "data": {
            "text/plain": [
              "<tf.Variable 'Variable:0' shape=(2, 1) dtype=float32, numpy=\n",
              "array([[0.24876785],\n",
              "       [0.10432887]], dtype=float32)>"
            ]
          },
          "metadata": {
            "tags": []
          },
          "execution_count": 22
        }
      ]
    },
    {
      "cell_type": "code",
      "metadata": {
        "id": "q9Tj2nyxX8p-",
        "outputId": "326055d7-b407-4fd3-a96a-871eda802a70",
        "colab": {
          "base_uri": "https://localhost:8080/"
        }
      },
      "source": [
        "b"
      ],
      "execution_count": 23,
      "outputs": [
        {
          "output_type": "execute_result",
          "data": {
            "text/plain": [
              "<tf.Variable 'Variable:0' shape=(1,) dtype=float32, numpy=array([0.], dtype=float32)>"
            ]
          },
          "metadata": {
            "tags": []
          },
          "execution_count": 23
        }
      ]
    },
    {
      "cell_type": "code",
      "metadata": {
        "id": "W_yuUfWTmiB-"
      },
      "source": [
        "\"The forward pass function\"\n",
        "\n",
        "def model(inputs):\n",
        "    return tf.matmul(inputs, W) + b"
      ],
      "execution_count": 24,
      "outputs": []
    },
    {
      "cell_type": "markdown",
      "metadata": {
        "id": "UDcb4Y7CmpNP"
      },
      "source": [
        "Because our linear classifier operates on 2D inputs, W is really just two scalar coefficients, w1 and w2: W = [[w1], [w2]]. Meanwhile, b is a single scalar coefficient. As such, for given input point [x, y], its prediction value is: prediction = [[w1], [w2]] • [x, y] + b = w1 * x + w2 * y + b.\n",
        "\n",
        "Here’s our loss function:"
      ]
    },
    {
      "cell_type": "code",
      "metadata": {
        "id": "PDrhJZPkmp4f"
      },
      "source": [
        "def square_loss(targets, predictions):\n",
        "    per_sample_losses = tf.square(targets - predictions)\n",
        "    return tf.reduce_mean(per_sample_losses)"
      ],
      "execution_count": 25,
      "outputs": []
    },
    {
      "cell_type": "markdown",
      "metadata": {
        "id": "FK5CnQggmu-4"
      },
      "source": [
        "Now, the training step, which receives some training data and updates the weights W and b so as to minimize the loss on the data:"
      ]
    },
    {
      "cell_type": "code",
      "metadata": {
        "id": "7cXwwLq3myTq"
      },
      "source": [
        "learning_rate = 0.1\n",
        "\n",
        "def training_step(inputs, targets):\n",
        "    with tf.GradientTape() as tape:\n",
        "        predictions = model(inputs)\n",
        "        loss = square_loss(predictions, targets)\n",
        "    grad_loss_wrt_W, grad_loss_wrt_b = tape.gradient(loss, [W, b])\n",
        "    W.assign_sub(grad_loss_wrt_W * learning_rate)\n",
        "    b.assign_sub(grad_loss_wrt_b * learning_rate)\n",
        "    return loss"
      ],
      "execution_count": 26,
      "outputs": []
    },
    {
      "cell_type": "markdown",
      "metadata": {
        "id": "qV3grStJnGJJ"
      },
      "source": [
        "For simplicity, we’ll do batch training instead of mini-batch training: we’ll run each training step (gradient computation and weight update) on the entire data, rather than iterate over the data in small batches. On one hand, this means that each training step will take much longer to run, since we compute the forward pass and the gradients for 2,000 samples at once. One the other hand, each gradient update will be much more effective at reducing the loss on the training data, since it will encompass information from all training samples instead of, say, only 128 random samples. As a result, we will need much fewer steps of training, and we should use a larger learning rate than what we would typically use for mini-batch training (we’ll use learning_rate = 0.1, defined above)."
      ]
    },
    {
      "cell_type": "code",
      "metadata": {
        "id": "w7UzImkonJDl",
        "outputId": "8b266085-d2d5-4095-e8a1-8e4f39f31be1",
        "colab": {
          "base_uri": "https://localhost:8080/"
        }
      },
      "source": [
        "for step in range(40):\n",
        "    loss = training_step(inputs, targets)\n",
        "    print('Loss at step %d: %.4f' % (step, loss))"
      ],
      "execution_count": 27,
      "outputs": [
        {
          "output_type": "stream",
          "text": [
            "Loss at step 0: 0.1884\n",
            "Loss at step 1: 0.0949\n",
            "Loss at step 2: 0.0848\n",
            "Loss at step 3: 0.0789\n",
            "Loss at step 4: 0.0740\n",
            "Loss at step 5: 0.0697\n",
            "Loss at step 6: 0.0657\n",
            "Loss at step 7: 0.0621\n",
            "Loss at step 8: 0.0588\n",
            "Loss at step 9: 0.0558\n",
            "Loss at step 10: 0.0530\n",
            "Loss at step 11: 0.0505\n",
            "Loss at step 12: 0.0482\n",
            "Loss at step 13: 0.0461\n",
            "Loss at step 14: 0.0442\n",
            "Loss at step 15: 0.0425\n",
            "Loss at step 16: 0.0409\n",
            "Loss at step 17: 0.0395\n",
            "Loss at step 18: 0.0381\n",
            "Loss at step 19: 0.0369\n",
            "Loss at step 20: 0.0358\n",
            "Loss at step 21: 0.0348\n",
            "Loss at step 22: 0.0339\n",
            "Loss at step 23: 0.0331\n",
            "Loss at step 24: 0.0323\n",
            "Loss at step 25: 0.0316\n",
            "Loss at step 26: 0.0310\n",
            "Loss at step 27: 0.0304\n",
            "Loss at step 28: 0.0299\n",
            "Loss at step 29: 0.0294\n",
            "Loss at step 30: 0.0289\n",
            "Loss at step 31: 0.0285\n",
            "Loss at step 32: 0.0282\n",
            "Loss at step 33: 0.0278\n",
            "Loss at step 34: 0.0275\n",
            "Loss at step 35: 0.0273\n",
            "Loss at step 36: 0.0270\n",
            "Loss at step 37: 0.0268\n",
            "Loss at step 38: 0.0266\n",
            "Loss at step 39: 0.0264\n"
          ],
          "name": "stdout"
        }
      ]
    },
    {
      "cell_type": "markdown",
      "metadata": {
        "id": "iWP-Rhg7nXPJ"
      },
      "source": [
        "After 30 steps, the training loss seems to have stabilized around 0.025. Let’s plot how our linear model classifies the training data points. Because our targets are zeros and ones, a given input point will be classified as \"0\" if its prediction value is below 0.5, and as \"1\" if it is above 0.5:"
      ]
    },
    {
      "cell_type": "code",
      "metadata": {
        "id": "-hlNxBp-nYl7",
        "outputId": "a890140a-6745-422e-ccbf-7dd880292acc",
        "colab": {
          "base_uri": "https://localhost:8080/",
          "height": 265
        }
      },
      "source": [
        "predictions = model(inputs)\n",
        "plt.scatter(inputs[:, 0], inputs[:, 1], c=predictions[:, 0] > 0.5)\n",
        "plt.show()"
      ],
      "execution_count": 28,
      "outputs": [
        {
          "output_type": "display_data",
          "data": {
            "image/png": "[encoded data removed]",
            "text/plain": [
              "<Figure size 432x288 with 1 Axes>"
            ]
          },
          "metadata": {
            "tags": [],
            "needs_background": "light"
          }
        }
      ]
    },
    {
      "cell_type": "markdown",
      "metadata": {
        "id": "H863K6T1nkRz"
      },
      "source": [
        "Recall that the prediction value for a given point [x, y] is simply prediction == [[w1], [w2]] • [x, y] + b == w1 * x + w2 * y + b. Thus, class \"0\" is defined as: w1 * x + w2 * y + b < 0.5 and class \"1\" is defined as: w1 * x + w2 * y + b > 0.5. You’ll notice that what you’re looking at is really the equation of a line in the 2D plane: w1 * x + w2 * y + b = 0.5. Above the line, class 1, below the line, class 0. You may be used to seeing line equations in the format y = a * x + b; in the same format, our line becomes: y = - w1 / w2 * x + (0.5 - b) / w2."
      ]
    },
    {
      "cell_type": "code",
      "metadata": {
        "id": "s5XeEE-Xnk6B",
        "outputId": "9c4f8bec-9db0-459d-cd6c-003b12ed5867",
        "colab": {
          "base_uri": "https://localhost:8080/",
          "height": 282
        }
      },
      "source": [
        "x = np.linspace(-1, 4, 100)\n",
        "y = - W[0] /  W[1] * x + (0.5 - b) / W[1]\n",
        "plt.plot(x, y, '-r')\n",
        "plt.scatter(inputs[:, 0], inputs[:, 1], c=predictions[:, 0] > 0.5)"
      ],
      "execution_count": 29,
      "outputs": [
        {
          "output_type": "execute_result",
          "data": {
            "text/plain": [
              "<matplotlib.collections.PathCollection at 0x7f867014cbe0>"
            ]
          },
          "metadata": {
            "tags": []
          },
          "execution_count": 29
        },
        {
          "output_type": "display_data",
          "data": {
            "image/png": "[encoded data removed]",
            "text/plain": [
              "<Figure size 432x288 with 1 Axes>"
            ]
          },
          "metadata": {
            "tags": [],
            "needs_background": "light"
          }
        }
      ]
    },
    {
      "cell_type": "markdown",
      "metadata": {
        "id": "41IgTwZgZZ6b"
      },
      "source": [
        "# Anatomy of a neural network: understanding core Keras APIs"
      ]
    },
    {
      "cell_type": "markdown",
      "metadata": {
        "id": "unO9rkuZe0gs"
      },
      "source": [
        "At this point, you know the basics of TensorFlow, and you can use it to implement a toy model from scratch, such as the batch linear classifier above, or the toy neural network from the end chapter 2. That’s a solid foundation to build upon. It’s now time to move on to a more productive, more robust path to deep learning: the Keras API."
      ]
    },
    {
      "cell_type": "markdown",
      "metadata": {
        "id": "TdgVRLjae1Rw"
      },
      "source": [
        "##  Layers: the building blocks of deep learning"
      ]
    },
    {
      "cell_type": "markdown",
      "metadata": {
        "id": "7I2BUHIme57w"
      },
      "source": [
        "Different types of layers are appropriate for different tensor formats and different types of data processing. For instance, simple vector data, stored in 2D tensors of shape (samples, features), is often processed by densely connected layers, also called fully connected or dense layers (the Dense class in Keras). Sequence data, stored in 3D tensors of shape (samples, timesteps, features), is typically processed by recurrent layers, such as an LSTM layer, or 1D convolution layers (Conv1D). Image data, stored in 4D tensors, is usually processed by 2D convolution layers (Conv2D)."
      ]
    },
    {
      "cell_type": "code",
      "metadata": {
        "id": "_49Fpwu-0mQ_"
      },
      "source": [
        "\"The base Layer class in Keras\"\n",
        "\n",
        "from tensorflow import keras\n",
        "\n",
        "class SimpleDense(keras.layers.Layer):\n",
        "\n",
        "    def __init__(self, units, activation=None):\n",
        "        super(SimpleDense, self).__init__()\n",
        "        self.units = units\n",
        "        self.activation = activation\n",
        "\n",
        "    def build(self, input_shape):\n",
        "        input_dim = input_shape[-1]\n",
        "        self.W = self.add_weight(shape=(input_dim, self.units),\n",
        "                                 initializer='random_normal')\n",
        "        self.b = self.add_weight(shape=(self.units,),\n",
        "                                 initializer='zeros')\n",
        "\n",
        "    def call(self, inputs):\n",
        "        y = tf.matmul(inputs, self.W) + self.b\n",
        "        if self.activation is not None:\n",
        "            y = self.activation(y)\n",
        "        return y"
      ],
      "execution_count": 30,
      "outputs": []
    },
    {
      "cell_type": "markdown",
      "metadata": {
        "id": "1_ePciy_1FDa"
      },
      "source": [
        "Once instantiated, a layer like this can be used just like a function, taking as input a TensorFlow tensor:"
      ]
    },
    {
      "cell_type": "code",
      "metadata": {
        "id": "-j-2WykF1ImX",
        "outputId": "fdbb8b22-85bd-4546-cf85-74683314e050",
        "colab": {
          "base_uri": "https://localhost:8080/"
        }
      },
      "source": [
        "my_dense = SimpleDense(units=32, activation=tf.nn.relu)\n",
        "input_tensor = tf.ones(shape=(2, 784))\n",
        "output_tensor = my_dense(input_tensor)\n",
        "print(output_tensor.shape)"
      ],
      "execution_count": 31,
      "outputs": [
        {
          "output_type": "stream",
          "text": [
            "(2, 32)\n"
          ],
          "name": "stdout"
        }
      ]
    },
    {
      "cell_type": "markdown",
      "metadata": {
        "id": "2VemD_cP13k4"
      },
      "source": [
        "When using Keras, you don’t have to worry about size compatibility most of the time, because the layers you add to your models are dynamically built to match the shape of the incoming layer. For instance, suppose you write the following:"
      ]
    },
    {
      "cell_type": "code",
      "metadata": {
        "id": "GnInVVoy14rP"
      },
      "source": [
        "from tensorflow.keras import models\n",
        "from tensorflow.keras import layers\n",
        "model = models.Sequential([\n",
        "  layers.Dense(32, activation='relu'),\n",
        "  layers.Dense(32)\n",
        "])"
      ],
      "execution_count": 32,
      "outputs": []
    },
    {
      "cell_type": "code",
      "metadata": {
        "id": "e3cWe8Nz2sj0"
      },
      "source": [
        "model = keras.Sequential([\n",
        "  SimpleDense(32, activation='relu'),\n",
        "  SimpleDense(64, activation='relu'),\n",
        "  SimpleDense(32, activation='relu'),\n",
        "  SimpleDense(10, activation='softmax')\n",
        "])"
      ],
      "execution_count": 33,
      "outputs": []
    },
    {
      "cell_type": "markdown",
      "metadata": {
        "id": "dg89ShOT3-cC"
      },
      "source": [
        "Once the model architecture is defined, you still have to choose three more things:\n",
        "\n",
        "- Loss function (objective function)  — The quantity that will be minimized during training. It represents a measure of success for the task at hand.\n",
        "- Optimizer  — Determines how the network will be updated based on the loss function. It implements a specific variant of stochastic gradient descent (SGD).\n",
        "- Metrics — The measures of success you want to monitor during training and validation, such as classification accuracy. Unlike the loss, training will not optimize directly for these metrics. As such, metrics don’t need to be differentiable."
      ]
    },
    {
      "cell_type": "code",
      "metadata": {
        "id": "Qop1S0qj4B1_"
      },
      "source": [
        "model = keras.Sequential([keras.layers.Dense(1)])\n",
        "model.compile(optimizer='rmsprop',\n",
        "              loss='mean_squared_error',\n",
        "              metrics=['accuracy'])"
      ],
      "execution_count": 34,
      "outputs": []
    },
    {
      "cell_type": "markdown",
      "metadata": {
        "id": "jDvRQjSk4ld4"
      },
      "source": [
        "In the above call to compile(), we passed the optimizer, loss, and metrics as strings (such as 'rmsprop'). These strings are actually shortcuts that get converted to Python objects. For instance, 'rmsprop' becomes keras.optimizers.RMSprop(). Importantly, it’s also possible to specify these arguments as object instances, like this:\n",
        "\n"
      ]
    },
    {
      "cell_type": "code",
      "metadata": {
        "id": "fDrPWxwg4mXt"
      },
      "source": [
        "model.compile(optimizer=keras.optimizers.RMSprop(),\n",
        "              loss=keras.losses.MeanSquaredError(),\n",
        "              metrics=[keras.metrics.BinaryAccuracy()])"
      ],
      "execution_count": 35,
      "outputs": []
    },
    {
      "cell_type": "markdown",
      "metadata": {
        "id": "X5jd6uLp4oDO"
      },
      "source": [
        "This is useful if you want to pass your own custom losses or metrics, or if you want to further configure the objects you’re using — for instance, by passing a learning_rate argument to the optimizer:\n",
        "\n"
      ]
    },
    {
      "cell_type": "code",
      "metadata": {
        "id": "kEHbUhbI4p3n",
        "outputId": "58c51880-6eb3-4c0a-c0cb-70899ff97988",
        "colab": {
          "base_uri": "https://localhost:8080/",
          "height": 197
        }
      },
      "source": [
        "model.compile(optimizer=keras.optimizers.RMSprop(learning_rate=1e-4),\n",
        "              loss=my_custom_loss,\n",
        "              metrics=[my_custom_metric_1, my_custom_metric_2])"
      ],
      "execution_count": 36,
      "outputs": [
        {
          "output_type": "error",
          "ename": "NameError",
          "evalue": "ignored",
          "traceback": [
            "\u001b[0;31m---------------------------------------------------------------------------\u001b[0m",
            "\u001b[0;31mNameError\u001b[0m                                 Traceback (most recent call last)",
            "\u001b[0;32m<ipython-input-36-2b962b36e38f>\u001b[0m in \u001b[0;36m<module>\u001b[0;34m()\u001b[0m\n\u001b[1;32m      1\u001b[0m model.compile(optimizer=keras.optimizers.RMSprop(learning_rate=1e-4),\n\u001b[0;32m----> 2\u001b[0;31m               \u001b[0mloss\u001b[0m\u001b[0;34m=\u001b[0m\u001b[0mmy_custom_loss\u001b[0m\u001b[0;34m,\u001b[0m\u001b[0;34m\u001b[0m\u001b[0;34m\u001b[0m\u001b[0m\n\u001b[0m\u001b[1;32m      3\u001b[0m               metrics=[my_custom_metric_1, my_custom_metric_2])\n",
            "\u001b[0;31mNameError\u001b[0m: name 'my_custom_loss' is not defined"
          ]
        }
      ]
    },
    {
      "cell_type": "markdown",
      "metadata": {
        "id": "nmYTr6lN46w5"
      },
      "source": [
        "Optimizers:\n",
        "\n",
        "- SGD() (with or without momentum)\n",
        "- RMSprop()\n",
        "- Adam()\n",
        "- Adagrad()\n",
        "Etc.\n",
        "\n",
        "Losses:\n",
        "\n",
        "- CategoricalCrossentropy()\n",
        "- SparseCategoricalCrossentropy()\n",
        "- BinaryCrossentropy()\n",
        "- MeanSquaredError()\n",
        "- KLDivergence()\n",
        "- CosineSimilarity()\n",
        "Etc.\n",
        "\n",
        "Metrics:\n",
        "\n",
        "- CategoricalAccuracy()\n",
        "- SparseCategoricalAccuracy()\n",
        "- BinaryAccuracy()\n",
        "- AUC()\n",
        "- Precision()\n",
        "- Recall()\n",
        "Etc."
      ]
    },
    {
      "cell_type": "markdown",
      "metadata": {
        "id": "0lVpBgRZ5d3v"
      },
      "source": [
        "***Picking a loss function***\n",
        "\n",
        "Choosing the right loss function for the right problem is extremely important: your network will take any shortcut it can to minimize the loss; so if the objective doesn’t fully correlate with success for the task at hand, your network will end up doing things you may not have wanted. Imagine a stupid, omnipotent AI trained via SGD, with this poorly chosen objective function: “maximizing the average well-being of all humans alive.” To make its job easier, this AI might choose to kill all humans except a few and focus on the well-being of the remaining ones — because average well-being isn’t affected by how many humans are left. That might not be what you intended! Just remember that all neural networks you build will be just as ruthless in lowering their loss function — so choose the objective wisely, or you’ll have to face unintended side effects.\n",
        "\n",
        "Fortunately, when it comes to common problems such as classification, regression, and sequence prediction, there are simple guidelines you can follow to choose the correct loss. For instance, you’ll use binary crossentropy for a two-class classification problem, categorical crossentropy for a many-class classification problem, and so on. Only when you’re working on truly new research problems will you have to develop your own objective functions. In the next few chapters, we’ll detail explicitly which loss functions to choose for a wide range of common tasks."
      ]
    },
    {
      "cell_type": "markdown",
      "metadata": {
        "id": "GjzEynkx5tyB"
      },
      "source": [
        "After compile() comes fit(). The fit method implements the training loop itself. Its key arguments are:\n",
        "\n",
        "- The data (inputs and targets) to train on. It will typically be passed either in the form of NumPy arrays, of a TensorFlow Dataset object. \n",
        "- The number of epochs to train for: how many times the training loop should iterate over the data passed.\n",
        "- The batch size to use within each epoch of mini-batch gradient descent: the number of training examples considered to compute the gradients for one weight update step."
      ]
    },
    {
      "cell_type": "code",
      "metadata": {
        "id": "UrudyY6L5yLD",
        "outputId": "16bfd36e-dcc5-4c57-9682-7bce01166bf4",
        "colab": {
          "base_uri": "https://localhost:8080/"
        }
      },
      "source": [
        "history = model.fit(\n",
        "  inputs,\n",
        "  targets,\n",
        "  epochs=5,\n",
        "  batch_size=128\n",
        ")"
      ],
      "execution_count": 37,
      "outputs": [
        {
          "output_type": "stream",
          "text": [
            "Epoch 1/5\n",
            " 1/16 [>.............................] - ETA: 0s - loss: 11.7025 - binary_accuracy: 0.0312WARNING:tensorflow:Callbacks method `on_train_batch_end` is slow compared to the batch time (batch time: 0.0030s vs `on_train_batch_end` time: 0.0049s). Check your callbacks.\n",
            "16/16 [==============================] - 0s 3ms/step - loss: 10.8416 - binary_accuracy: 0.0155\n",
            "Epoch 2/5\n",
            "16/16 [==============================] - 0s 3ms/step - loss: 10.4423 - binary_accuracy: 0.0155\n",
            "Epoch 3/5\n",
            "16/16 [==============================] - 0s 3ms/step - loss: 10.1026 - binary_accuracy: 0.0160\n",
            "Epoch 4/5\n",
            "16/16 [==============================] - 0s 2ms/step - loss: 9.7760 - binary_accuracy: 0.0160\n",
            "Epoch 5/5\n",
            "16/16 [==============================] - 0s 2ms/step - loss: 9.4583 - binary_accuracy: 0.0160\n"
          ],
          "name": "stdout"
        }
      ]
    },
    {
      "cell_type": "markdown",
      "metadata": {
        "id": "9fmgWpDg58q1"
      },
      "source": [
        "The call to fit returns a History object. This object contains a history field which is a dict mapping keys such as \"loss\" or specific metric names to the list of their per-epoch values.\n",
        "\n"
      ]
    },
    {
      "cell_type": "code",
      "metadata": {
        "id": "M2OofvYZ59h-",
        "outputId": "19284c52-889d-4808-b95a-ec06520948be",
        "colab": {
          "base_uri": "https://localhost:8080/"
        }
      },
      "source": [
        "history.history"
      ],
      "execution_count": 38,
      "outputs": [
        {
          "output_type": "execute_result",
          "data": {
            "text/plain": [
              "{'binary_accuracy': [0.01549999974668026,\n",
              "  0.01549999974668026,\n",
              "  0.01600000075995922,\n",
              "  0.01600000075995922,\n",
              "  0.01600000075995922],\n",
              " 'loss': [10.84164047241211,\n",
              "  10.442279815673828,\n",
              "  10.102621078491211,\n",
              "  9.776000022888184,\n",
              "  9.458322525024414]}"
            ]
          },
          "metadata": {
            "tags": []
          },
          "execution_count": 38
        }
      ]
    },
    {
      "cell_type": "markdown",
      "metadata": {
        "id": "z2mGAj4H6brn"
      },
      "source": [
        "To keep an eye on how the model does on new data, it’s standard practice to reserve a subset of the training data as “validation data”: you won’t be training the model on this data, but you will use it to compute a loss value and metrics value. You do this use the validation_data argument in fit(). Like the training data, the validation data could be passed as NumPy arrays or as a TensorFlow Dataset object.\n",
        "\n"
      ]
    },
    {
      "cell_type": "code",
      "metadata": {
        "id": "AjEcms2W6cYv",
        "outputId": "6dd288b9-ab61-4733-8c03-0138521adf0d",
        "colab": {
          "base_uri": "https://localhost:8080/"
        }
      },
      "source": [
        "model = keras.Sequential([keras.layers.Dense(1)])\n",
        "model.compile(optimizer=keras.optimizers.RMSprop(learning_rate=0.1),\n",
        "              loss=keras.losses.MeanSquaredError(),\n",
        "              metrics=[keras.metrics.BinaryAccuracy()])\n",
        "\n",
        "indices_permutation = np.random.permutation(len(inputs))\n",
        "shuffled_inputs = inputs[indices_permutation]\n",
        "shuffled_targets = targets[indices_permutation]\n",
        "\n",
        "num_validation_samples = int(0.3 * len(inputs))\n",
        "val_inputs = shuffled_inputs[-num_validation_samples:]\n",
        "val_targets = shuffled_targets[-num_validation_samples:]\n",
        "training_inputs = shuffled_inputs[:num_validation_samples]\n",
        "training_targets = shuffled_targets[:num_validation_samples]\n",
        "model.fit(\n",
        "  training_inputs,\n",
        "  training_targets,\n",
        "  epochs=5,\n",
        "  batch_size=16,\n",
        "  validation_data=(val_inputs, val_targets)\n",
        ")"
      ],
      "execution_count": 39,
      "outputs": [
        {
          "output_type": "stream",
          "text": [
            "Epoch 1/5\n",
            "38/38 [==============================] - 0s 8ms/step - loss: 0.2160 - binary_accuracy: 0.9683 - val_loss: 0.0361 - val_binary_accuracy: 0.9983\n",
            "Epoch 2/5\n",
            "38/38 [==============================] - 0s 5ms/step - loss: 0.0592 - binary_accuracy: 0.9717 - val_loss: 0.0359 - val_binary_accuracy: 1.0000\n",
            "Epoch 3/5\n",
            "38/38 [==============================] - 0s 5ms/step - loss: 0.0759 - binary_accuracy: 0.9550 - val_loss: 0.0349 - val_binary_accuracy: 0.9933\n",
            "Epoch 4/5\n",
            "38/38 [==============================] - 0s 4ms/step - loss: 0.0739 - binary_accuracy: 0.9533 - val_loss: 0.1416 - val_binary_accuracy: 0.7700\n",
            "Epoch 5/5\n",
            "38/38 [==============================] - 0s 5ms/step - loss: 0.0568 - binary_accuracy: 0.9767 - val_loss: 0.2170 - val_binary_accuracy: 0.9383\n"
          ],
          "name": "stdout"
        },
        {
          "output_type": "execute_result",
          "data": {
            "text/plain": [
              "<tensorflow.python.keras.callbacks.History at 0x7f867d68f208>"
            ]
          },
          "metadata": {
            "tags": []
          },
          "execution_count": 39
        }
      ]
    },
    {
      "cell_type": "markdown",
      "metadata": {
        "id": "Pa6YTx-N64vr"
      },
      "source": [
        "The value of the loss on the validation data is called the “validation loss”, to distinguish it from the “training loss”. Note that it’s essential to keep the training data and validation data strictly separate: the purpose of validation is to monitor whether what the model is learning is actually useful on new data. If any of the validation data has been seen by the model during training, your validation loss and metrics will be flawed.\n",
        "\n",
        "Note that if you want to compute the validation loss and metrics after training is complete, you can call the evaluate method:\n",
        "\n",
        "loss_and_metrics = model.evaluate(val_inputs, val_targets, batch_size=128)\n",
        "\n",
        "evaluate() will iterate in batches (of size batch_size) over the data passed, and return a list of scalars, where the first entry is the validation loss and the following entries are the validation metrics. If the model has no metrics, only the validation loss is returned (rather than a list)."
      ]
    },
    {
      "cell_type": "markdown",
      "metadata": {
        "id": "KTqDzpXX7US3"
      },
      "source": [
        "Once you’ve trained your model, you’re going to want to use it to make predictions on new data. This is called \"inference\". To do this, a naive approach would simply be to call the model:\n",
        "\n"
      ]
    },
    {
      "cell_type": "code",
      "metadata": {
        "id": "jioG3Txo7WAv",
        "outputId": "fc359168-3f3e-48be-fd73-2bea7e70146b",
        "colab": {
          "base_uri": "https://localhost:8080/",
          "height": 163
        }
      },
      "source": [
        "predictions = model(new_inputs)"
      ],
      "execution_count": 40,
      "outputs": [
        {
          "output_type": "error",
          "ename": "NameError",
          "evalue": "ignored",
          "traceback": [
            "\u001b[0;31m---------------------------------------------------------------------------\u001b[0m",
            "\u001b[0;31mNameError\u001b[0m                                 Traceback (most recent call last)",
            "\u001b[0;32m<ipython-input-40-b0b9829c3569>\u001b[0m in \u001b[0;36m<module>\u001b[0;34m()\u001b[0m\n\u001b[0;32m----> 1\u001b[0;31m \u001b[0mpredictions\u001b[0m \u001b[0;34m=\u001b[0m \u001b[0mmodel\u001b[0m\u001b[0;34m(\u001b[0m\u001b[0mnew_inputs\u001b[0m\u001b[0;34m)\u001b[0m\u001b[0;34m\u001b[0m\u001b[0;34m\u001b[0m\u001b[0m\n\u001b[0m",
            "\u001b[0;31mNameError\u001b[0m: name 'new_inputs' is not defined"
          ]
        }
      ]
    },
    {
      "cell_type": "markdown",
      "metadata": {
        "id": "5iMgTLLJ7jLi"
      },
      "source": [
        "However, this will process all inputs in new_inputs at once, which may not be feasible if you’re looking at a lot of data (in particular, it may require more memory than your GPU has).\n",
        "\n",
        "A better way to do inference is to use the predict() method. It will iterate over the data in small batches, and return a NumPy array of predictions. And unlike call, it can also process TensorFlow Dataset objects."
      ]
    },
    {
      "cell_type": "code",
      "metadata": {
        "id": "0Y-UBsWn7oW1",
        "outputId": "c7403d86-f82b-4dd5-9596-f03e940f4f51",
        "colab": {
          "base_uri": "https://localhost:8080/",
          "height": 163
        }
      },
      "source": [
        "predictions = model.predict(new_inputs, batch_size=128)"
      ],
      "execution_count": 41,
      "outputs": [
        {
          "output_type": "error",
          "ename": "NameError",
          "evalue": "ignored",
          "traceback": [
            "\u001b[0;31m---------------------------------------------------------------------------\u001b[0m",
            "\u001b[0;31mNameError\u001b[0m                                 Traceback (most recent call last)",
            "\u001b[0;32m<ipython-input-41-277a5f2c1a91>\u001b[0m in \u001b[0;36m<module>\u001b[0;34m()\u001b[0m\n\u001b[0;32m----> 1\u001b[0;31m \u001b[0mpredictions\u001b[0m \u001b[0;34m=\u001b[0m \u001b[0mmodel\u001b[0m\u001b[0;34m.\u001b[0m\u001b[0mpredict\u001b[0m\u001b[0;34m(\u001b[0m\u001b[0mnew_inputs\u001b[0m\u001b[0;34m,\u001b[0m \u001b[0mbatch_size\u001b[0m\u001b[0;34m=\u001b[0m\u001b[0;36m128\u001b[0m\u001b[0;34m)\u001b[0m\u001b[0;34m\u001b[0m\u001b[0;34m\u001b[0m\u001b[0m\n\u001b[0m",
            "\u001b[0;31mNameError\u001b[0m: name 'new_inputs' is not defined"
          ]
        }
      ]
    },
    {
      "cell_type": "markdown",
      "metadata": {
        "id": "zM6sjCcW7wP9"
      },
      "source": [
        "For instance, if we use predict() on some of our validation data with the linear model we trained earlier, we get scalar scores between 0 and 1 — below 0.5 indicates that the model considers the corresponding point to belong to class 0, and above 0.5 indicates that the model considers the corresponding point to belong to class 1.\n",
        "\n"
      ]
    },
    {
      "cell_type": "code",
      "metadata": {
        "id": "2l3ICThG7ydk",
        "outputId": "b5e06efe-b340-4e85-ef93-52cd38d3b487",
        "colab": {
          "base_uri": "https://localhost:8080/"
        }
      },
      "source": [
        "predictions = model.predict(val_inputs, batch_size=128)\n",
        "print(predictions[:10])"
      ],
      "execution_count": 42,
      "outputs": [
        {
          "output_type": "stream",
          "text": [
            "[[ 0.7546128 ]\n",
            " [ 1.3779924 ]\n",
            " [-0.45214748]\n",
            " [-0.845568  ]\n",
            " [-0.2648217 ]\n",
            " [-0.55429757]\n",
            " [-0.36746436]\n",
            " [ 0.76025116]\n",
            " [-0.10686332]\n",
            " [-0.8960666 ]]\n"
          ],
          "name": "stdout"
        }
      ]
    }
  ]
}