{
 "cells": [
  {
   "cell_type": "markdown",
   "metadata": {
    "id": "xvnyMl32uLeR"
   },
   "source": [
    "We’ll cover the following techniques:\n",
    "\n",
    "- **Recurrent dropout** : This is a specific, built-in way to use dropout to fight overfitting in recurrent layers. *(Yinelemeli iletim sönümü : Yinelemeli katmanlarda aşırı uydurma ile mücadele için gerekli özel bir tekniktir.)*\n",
    "- **Stacking recurrent layers** : This increases the representational power of the network (at the cost of higher computational loads). *(üst üste yinelemeli katmanlar : ağın gösterim gücünü arttırır (yüksek hesap maliyetiyle))*\n",
    "- **Bidirectional recurrent layers** : These present the same information to a recurrent network in different ways, increasing accuracy and mitigating forgetting issues. *(İki yönlü yinelemeli katmanlar : yinelemeli katmanlarda başarımı arttırmak ve unutma problemleri ile başa çıkmak için mevcut veriyi yinelemeli ağlara farklı şekilde beslemelidir.)*"
   ]
  },
  {
   "cell_type": "markdown",
   "metadata": {
    "id": "UXNAPDGWyNNt"
   },
   "source": [
    "### **A temperature-forecasting problem**"
   ]
  },
  {
   "cell_type": "markdown",
   "metadata": {
    "id": "_Mm6Mz4hyYtd"
   },
   "source": [
    "In this dataset, 14 different quantities (such as air temperature, atmospheric pressure, humidity, wind direction, and so on) were recorded every 10 minutes, over several years. The original data goes back to 2003, but this example is limited to data from 2009–2016. This dataset is perfect for learning to work with numerical timeseries. You’ll use it to build a model that takes as input some data from the recent past (a few days’ worth of data points) and predicts the air temperature 24 hours in the future.\n",
    "\n",
    "*Bu veri setinde her 10 dakikada bir kaydedilen 14 farklı ölçüm (hava sıcaklığı, hava basıncı, nem, rüzgar yönü vb.) içeren bir kaç yıllık veri bulunuyor. Özgün veri 2003 yılına kadar uzanıyor. Ama biz sadece 2009-2016 arasını kullanacağız. Bu veri seti sayısal zaman serilerinin öğrenmenin en iyi yoludur. Son birkaç günlük veriyi alarak gelecek 24 saat için hava sıcaklığı tahmin eden bir model oluşturacaksınız.*"
   ]
  },
  {
   "cell_type": "code",
   "execution_count": 1,
   "metadata": {
    "colab": {
     "base_uri": "https://localhost:8080/"
    },
    "executionInfo": {
     "elapsed": 620,
     "status": "ok",
     "timestamp": 1606586799080,
     "user": {
      "displayName": "Mustafa Çalışkan",
      "photoUrl": "",
      "userId": "12288596830520832399"
     },
     "user_tz": -60
    },
    "id": "aL1cz1Wf3hXC",
    "outputId": "2a1bf72b-5674-44fd-f2a8-a606f060c15b"
   },
   "outputs": [
    {
     "name": "stdout",
     "output_type": "stream",
     "text": [
      "['\"Date Time\"', '\"p (mbar)\"', '\"T (degC)\"', '\"Tpot (K)\"', '\"Tdew (degC)\"', '\"rh (%)\"', '\"VPmax (mbar)\"', '\"VPact (mbar)\"', '\"VPdef (mbar)\"', '\"sh (g/kg)\"', '\"H2OC (mmol/mol)\"', '\"rho (g/m**3)\"', '\"wv (m/s)\"', '\"max. wv (m/s)\"', '\"wd (deg)\"']\n",
      "420551\n"
     ]
    }
   ],
   "source": [
    "# veri setini inceleyelim\n",
    "data_dir = 'jena_climate_2009_2016.csv'\n",
    "\n",
    "f = open(data_dir)\n",
    "data = f.read()\n",
    "f.close()\n",
    "\n",
    "lines = data.split('\\n')\n",
    "header = lines[0].split(',')\n",
    "lines = lines[1:]\n",
    "\n",
    "print(header)\n",
    "print(len(lines))"
   ]
  },
  {
   "cell_type": "code",
   "execution_count": 2,
   "metadata": {
    "executionInfo": {
     "elapsed": 1238,
     "status": "ok",
     "timestamp": 1606586802845,
     "user": {
      "displayName": "Mustafa Çalışkan",
      "photoUrl": "",
      "userId": "12288596830520832399"
     },
     "user_tz": -60
    },
    "id": "NG4Wx4bn9Yo4"
   },
   "outputs": [],
   "source": [
    "import pandas as pd\n",
    "\n",
    "df = pd.read_csv('jena_climate_2009_2016.csv')"
   ]
  },
  {
   "cell_type": "code",
   "execution_count": 3,
   "metadata": {
    "colab": {
     "base_uri": "https://localhost:8080/"
    },
    "executionInfo": {
     "elapsed": 716,
     "status": "ok",
     "timestamp": 1606586804466,
     "user": {
      "displayName": "Mustafa Çalışkan",
      "photoUrl": "",
      "userId": "12288596830520832399"
     },
     "user_tz": -60
    },
    "id": "Zpr8Ud1K9yQQ",
    "outputId": "ff2ad240-26e5-43e2-a0d8-5ba2f70dbe6b"
   },
   "outputs": [
    {
     "data": {
      "text/plain": [
       "(420551, 15)"
      ]
     },
     "execution_count": 3,
     "metadata": {},
     "output_type": "execute_result"
    }
   ],
   "source": [
    "df.shape"
   ]
  },
  {
   "cell_type": "code",
   "execution_count": 4,
   "metadata": {
    "colab": {
     "base_uri": "https://localhost:8080/",
     "height": 343
    },
    "executionInfo": {
     "elapsed": 623,
     "status": "ok",
     "timestamp": 1606586806379,
     "user": {
      "displayName": "Mustafa Çalışkan",
      "photoUrl": "",
      "userId": "12288596830520832399"
     },
     "user_tz": -60
    },
    "id": "4AvgCq4n-DvK",
    "outputId": "39f0d11a-0ff9-41de-f71e-f5ba366094a3"
   },
   "outputs": [
    {
     "data": {
      "text/html": [
       "<div>\n",
       "<style scoped>\n",
       "    .dataframe tbody tr th:only-of-type {\n",
       "        vertical-align: middle;\n",
       "    }\n",
       "\n",
       "    .dataframe tbody tr th {\n",
       "        vertical-align: top;\n",
       "    }\n",
       "\n",
       "    .dataframe thead th {\n",
       "        text-align: right;\n",
       "    }\n",
       "</style>\n",
       "<table border=\"1\" class=\"dataframe\">\n",
       "  <thead>\n",
       "    <tr style=\"text-align: right;\">\n",
       "      <th></th>\n",
       "      <th>Date Time</th>\n",
       "      <th>p (mbar)</th>\n",
       "      <th>T (degC)</th>\n",
       "      <th>Tpot (K)</th>\n",
       "      <th>Tdew (degC)</th>\n",
       "      <th>rh (%)</th>\n",
       "      <th>VPmax (mbar)</th>\n",
       "      <th>VPact (mbar)</th>\n",
       "      <th>VPdef (mbar)</th>\n",
       "      <th>sh (g/kg)</th>\n",
       "      <th>H2OC (mmol/mol)</th>\n",
       "      <th>rho (g/m**3)</th>\n",
       "      <th>wv (m/s)</th>\n",
       "      <th>max. wv (m/s)</th>\n",
       "      <th>wd (deg)</th>\n",
       "    </tr>\n",
       "  </thead>\n",
       "  <tbody>\n",
       "    <tr>\n",
       "      <th>0</th>\n",
       "      <td>01.01.2009 00:10:00</td>\n",
       "      <td>996.52</td>\n",
       "      <td>-8.02</td>\n",
       "      <td>265.40</td>\n",
       "      <td>-8.90</td>\n",
       "      <td>93.3</td>\n",
       "      <td>3.33</td>\n",
       "      <td>3.11</td>\n",
       "      <td>0.22</td>\n",
       "      <td>1.94</td>\n",
       "      <td>3.12</td>\n",
       "      <td>1307.75</td>\n",
       "      <td>1.03</td>\n",
       "      <td>1.75</td>\n",
       "      <td>152.3</td>\n",
       "    </tr>\n",
       "    <tr>\n",
       "      <th>1</th>\n",
       "      <td>01.01.2009 00:20:00</td>\n",
       "      <td>996.57</td>\n",
       "      <td>-8.41</td>\n",
       "      <td>265.01</td>\n",
       "      <td>-9.28</td>\n",
       "      <td>93.4</td>\n",
       "      <td>3.23</td>\n",
       "      <td>3.02</td>\n",
       "      <td>0.21</td>\n",
       "      <td>1.89</td>\n",
       "      <td>3.03</td>\n",
       "      <td>1309.80</td>\n",
       "      <td>0.72</td>\n",
       "      <td>1.50</td>\n",
       "      <td>136.1</td>\n",
       "    </tr>\n",
       "    <tr>\n",
       "      <th>2</th>\n",
       "      <td>01.01.2009 00:30:00</td>\n",
       "      <td>996.53</td>\n",
       "      <td>-8.51</td>\n",
       "      <td>264.91</td>\n",
       "      <td>-9.31</td>\n",
       "      <td>93.9</td>\n",
       "      <td>3.21</td>\n",
       "      <td>3.01</td>\n",
       "      <td>0.20</td>\n",
       "      <td>1.88</td>\n",
       "      <td>3.02</td>\n",
       "      <td>1310.24</td>\n",
       "      <td>0.19</td>\n",
       "      <td>0.63</td>\n",
       "      <td>171.6</td>\n",
       "    </tr>\n",
       "    <tr>\n",
       "      <th>3</th>\n",
       "      <td>01.01.2009 00:40:00</td>\n",
       "      <td>996.51</td>\n",
       "      <td>-8.31</td>\n",
       "      <td>265.12</td>\n",
       "      <td>-9.07</td>\n",
       "      <td>94.2</td>\n",
       "      <td>3.26</td>\n",
       "      <td>3.07</td>\n",
       "      <td>0.19</td>\n",
       "      <td>1.92</td>\n",
       "      <td>3.08</td>\n",
       "      <td>1309.19</td>\n",
       "      <td>0.34</td>\n",
       "      <td>0.50</td>\n",
       "      <td>198.0</td>\n",
       "    </tr>\n",
       "    <tr>\n",
       "      <th>4</th>\n",
       "      <td>01.01.2009 00:50:00</td>\n",
       "      <td>996.51</td>\n",
       "      <td>-8.27</td>\n",
       "      <td>265.15</td>\n",
       "      <td>-9.04</td>\n",
       "      <td>94.1</td>\n",
       "      <td>3.27</td>\n",
       "      <td>3.08</td>\n",
       "      <td>0.19</td>\n",
       "      <td>1.92</td>\n",
       "      <td>3.09</td>\n",
       "      <td>1309.00</td>\n",
       "      <td>0.32</td>\n",
       "      <td>0.63</td>\n",
       "      <td>214.3</td>\n",
       "    </tr>\n",
       "  </tbody>\n",
       "</table>\n",
       "</div>"
      ],
      "text/plain": [
       "             Date Time  p (mbar)  T (degC)  Tpot (K)  Tdew (degC)  rh (%)  \\\n",
       "0  01.01.2009 00:10:00    996.52     -8.02    265.40        -8.90    93.3   \n",
       "1  01.01.2009 00:20:00    996.57     -8.41    265.01        -9.28    93.4   \n",
       "2  01.01.2009 00:30:00    996.53     -8.51    264.91        -9.31    93.9   \n",
       "3  01.01.2009 00:40:00    996.51     -8.31    265.12        -9.07    94.2   \n",
       "4  01.01.2009 00:50:00    996.51     -8.27    265.15        -9.04    94.1   \n",
       "\n",
       "   VPmax (mbar)  VPact (mbar)  VPdef (mbar)  sh (g/kg)  H2OC (mmol/mol)  \\\n",
       "0          3.33          3.11          0.22       1.94             3.12   \n",
       "1          3.23          3.02          0.21       1.89             3.03   \n",
       "2          3.21          3.01          0.20       1.88             3.02   \n",
       "3          3.26          3.07          0.19       1.92             3.08   \n",
       "4          3.27          3.08          0.19       1.92             3.09   \n",
       "\n",
       "   rho (g/m**3)  wv (m/s)  max. wv (m/s)  wd (deg)  \n",
       "0       1307.75      1.03           1.75     152.3  \n",
       "1       1309.80      0.72           1.50     136.1  \n",
       "2       1310.24      0.19           0.63     171.6  \n",
       "3       1309.19      0.34           0.50     198.0  \n",
       "4       1309.00      0.32           0.63     214.3  "
      ]
     },
     "execution_count": 4,
     "metadata": {},
     "output_type": "execute_result"
    }
   ],
   "source": [
    "df.head()"
   ]
  },
  {
   "cell_type": "markdown",
   "metadata": {
    "id": "H4qNveup-F2X"
   },
   "source": [
    "This outputs a count of 420,551 lines of data (each line is a timestep: a record of a date and 14 weather-related values),\n",
    "\n",
    "Ciktisinda 420551 satir ve her satirda hava durumuyla ilgili 14 olcum bulunur."
   ]
  },
  {
   "cell_type": "code",
   "execution_count": 5,
   "metadata": {
    "executionInfo": {
     "elapsed": 2392,
     "status": "ok",
     "timestamp": 1606586816790,
     "user": {
      "displayName": "Mustafa Çalışkan",
      "photoUrl": "",
      "userId": "12288596830520832399"
     },
     "user_tz": -60
    },
    "id": "MI3Vj50q39fQ"
   },
   "outputs": [],
   "source": [
    "\"Convert all 420511 lines  of data into a Numpy Array\"\n",
    "\n",
    "import numpy as np\n",
    "\n",
    "float_data = np.zeros((len(lines), len(header) - 1))\n",
    "for i, line in enumerate(lines):\n",
    "    values = [float(x) for x in line.split(',')[1:]]\n",
    "    float_data[i, :] = values"
   ]
  },
  {
   "cell_type": "code",
   "execution_count": 6,
   "metadata": {
    "colab": {
     "base_uri": "https://localhost:8080/"
    },
    "executionInfo": {
     "elapsed": 581,
     "status": "ok",
     "timestamp": 1606586818084,
     "user": {
      "displayName": "Mustafa Çalışkan",
      "photoUrl": "",
      "userId": "12288596830520832399"
     },
     "user_tz": -60
    },
    "id": "iEkQn9uK-ztV",
    "outputId": "5ffa5e30-95f6-4de3-dcfa-a158e129ae57"
   },
   "outputs": [
    {
     "data": {
      "text/plain": [
       "(420551, 14)"
      ]
     },
     "execution_count": 6,
     "metadata": {},
     "output_type": "execute_result"
    }
   ],
   "source": [
    "float_data.shape"
   ]
  },
  {
   "cell_type": "code",
   "execution_count": 7,
   "metadata": {
    "colab": {
     "base_uri": "https://localhost:8080/",
     "height": 285
    },
    "executionInfo": {
     "elapsed": 843,
     "status": "ok",
     "timestamp": 1606586820625,
     "user": {
      "displayName": "Mustafa Çalışkan",
      "photoUrl": "",
      "userId": "12288596830520832399"
     },
     "user_tz": -60
    },
    "id": "vUk3tA643_yI",
    "outputId": "696ff8c0-a639-4c43-f738-8d2654604df4"
   },
   "outputs": [
    {
     "data": {
      "text/plain": [
       "[<matplotlib.lines.Line2D at 0x199c8b0bf40>]"
      ]
     },
     "execution_count": 7,
     "metadata": {},
     "output_type": "execute_result"
    },
    {
     "data": {
      "image/png": "[encoded data removed]",
      "text/plain": [
       "<Figure size 432x288 with 1 Axes>"
      ]
     },
     "metadata": {
      "needs_background": "light"
     },
     "output_type": "display_data"
    }
   ],
   "source": [
    "\"the plot of temperature (in degrees Celsius) over time (zamana gore hava sicakligini cizdirelim)\"\n",
    "\n",
    "from matplotlib import pyplot as plt\n",
    "\n",
    "temp = float_data[:, 1]\n",
    "plt.plot(range(len(temp)), temp)"
   ]
  },
  {
   "cell_type": "code",
   "execution_count": 8,
   "metadata": {
    "colab": {
     "base_uri": "https://localhost:8080/",
     "height": 282
    },
    "executionInfo": {
     "elapsed": 669,
     "status": "ok",
     "timestamp": 1606586823721,
     "user": {
      "displayName": "Mustafa Çalışkan",
      "photoUrl": "",
      "userId": "12288596830520832399"
     },
     "user_tz": -60
    },
    "id": "kKyQsGIH3_6i",
    "outputId": "9a29b0a8-6a53-4b70-8ad6-ce2273b0699a"
   },
   "outputs": [
    {
     "data": {
      "text/plain": [
       "[<matplotlib.lines.Line2D at 0x199c8b33e80>]"
      ]
     },
     "execution_count": 8,
     "metadata": {},
     "output_type": "execute_result"
    },
    {
     "data": {
      "image/png": "[encoded data removed]",
      "text/plain": [
       "<Figure size 432x288 with 1 Axes>"
      ]
     },
     "metadata": {
      "needs_background": "light"
     },
     "output_type": "display_data"
    }
   ],
   "source": [
    "\"\"\"\n",
    "Here is a more narrow plot of the first 10 days of temperature data. \n",
    "Because the data is recorded every 10 minutes, you get 144 data points per day.\n",
    "(ilk 10 gunluk hava sicakligina bakalim, her 10 dakikada bir olcum alindigi icin\n",
    "bir gunde 144 veri bulunmaktadir.)\n",
    "\"\"\"\n",
    "\n",
    "plt.plot(range(1440), temp[:1440])"
   ]
  },
  {
   "cell_type": "markdown",
   "metadata": {
    "id": "U9tn7qym_zQY"
   },
   "source": [
    "On this plot, you can see daily periodicity, especially evident for the last 4 days. Also note that this 10-day period must be coming from a fairly cold winter month.\n",
    "\n",
    "If you were trying to predict average temperature for the next month given a few months of past data, the problem would be easy, due to the reliable year-scale periodicity of the data. But looking at the data over a scale of days, the temperature looks a lot more chaotic. Is this timeseries predictable at a daily scale? Let’s find out.\n",
    "\n",
    "*Bu sekilde gunluk periyottaki tekrari ozellikle de son 4 gundekini gorebilirsiniz. Ayni zamanda bu 10 gunun soguk bor kis gunune ait olduguna da dikkat ediniz.*\n",
    "\n",
    "*Eger son birkac aya bakarak bir sonraki ayin ortalama hava sicakligini tahmin ediyor olsaydiniz, yillik bazda guvenilir bir periyodiklik bulundugundan problem daha kolay olurdu. Ama son birkac gune bakinda bu durum daha kaotik oluyor. Gunluk periyotta bu zaman serisi tahmin edilebilir mi?*"
   ]
  },
  {
   "cell_type": "markdown",
   "metadata": {
    "id": "8DmkTAC8AWtK"
   },
   "source": [
    "### **Preparing the data**"
   ]
  },
  {
   "cell_type": "markdown",
   "metadata": {
    "id": "rwrEEHh6AeS3"
   },
   "source": [
    "The exact formulation of the problem will be as follows: given data going as far back as lookback timesteps (a timestep is 10 minutes) and sampled every steps timesteps, can you predict the temperature in delay timesteps? You’ll use the following parameter values:\n",
    "\n",
    "- lookback = 720—Observations will go back 5 days.\n",
    "- steps = 6—Observations will be sampled at one data point per hour.\n",
    "- delay = 144—Targets will be 24 hours in the future.\n",
    "\n",
    "*Problemin tam formulasyonu soyledir. loocback zaman adimi (bir zaman adimi 10 dakika) kadar geriye bakarak steps zaman adiminda orneklenmis veriden delay zaman adimi sonrasindaki hava sicakligi tahmin edilebilir mi? Bunu icin asagidaki parametreler kullanilacak.*\n",
    "\n",
    "- *loockback = 720 (son 5 gunluk verideki gozlemlere bakilacak.)*\n",
    "- *steps = 6 (gozlemler saatte bir veri olarak alinacak)*\n",
    "- *delay = 144 (hedef 24 saat sonrasi olacak)*\n",
    "\n",
    "To get started, you need to do two things:\n",
    "\n",
    "- Preprocess the data to a format a neural network can ingest. This is easy: the data is already numerical, so you don’t need to do any vectorization. But each timeseries in the data is on a different scale (for example, temperature is typically between -20 and +30, but atmospheric pressure, measured in mbar, is around 1,000). You’ll normalize each timeseries independently so that they all take small values on a similar scale.\n",
    "*(verileri sinir aginin kullanabilecegi formata duzenlemek. Veriler zaten sayisal oldugundan vektorel hale getirilmeyecek. ZAman serisindeki her veri farkli aralikta orneklenmis. Bu verileri normalize edeceksiniz.)*\n",
    "\n",
    "- Write a Python generator that takes the current array of float data and yields batches of data from the recent past, along with a target temperature in the future. Because the samples in the dataset are highly redundant (sample N and sample N + 1 will have most of their timesteps in common), it would be wasteful to explicitly allocate every sample. Instead, you’ll generate the samples on the fly using the original data.\n",
    "*(Bir Python uretecei yazacaksiniz. Bu uretec ondalik verileri alacak ve yiginlar halinde gecmis veriyi ve hedef hava sicakligini geri dondurecek. Vri setinde gereginden fazla veri bulundugundan en basindan tum veriyi hafizada tutmak yerine, uretec, veriyi ozgun veride kullanacagi zaman olusturacak.)*\n",
    "\n"
   ]
  },
  {
   "cell_type": "markdown",
   "metadata": {
    "id": "RQi3wAwqErrF"
   },
   "source": [
    "You’ll preprocess the data by subtracting the mean of each timeseries and dividing by the standard deviation. You’re going to use the first 200,000 timesteps as training data, so compute the mean and standard deviation only on this fraction of the data.\n",
    "\n",
    "Verilerin ortalamalarini cikartip standart sapmasinda bolerek normalize edeceksiniz. Ilk 200000 ornegi egitim verisi olarak kullanacaginizdan ortalama ve standart sapmayi bu bolumde hesaplayacaksiniz."
   ]
  },
  {
   "cell_type": "code",
   "execution_count": 9,
   "metadata": {
    "executionInfo": {
     "elapsed": 751,
     "status": "ok",
     "timestamp": 1606586828161,
     "user": {
      "displayName": "Mustafa Çalışkan",
      "photoUrl": "",
      "userId": "12288596830520832399"
     },
     "user_tz": -60
    },
    "id": "P3Hv6NsI3__7"
   },
   "outputs": [],
   "source": [
    "mean = float_data[:200000].mean(axis=0)\n",
    "float_data -= mean\n",
    "std = float_data[:200000].std(axis=0)\n",
    "float_data /= std"
   ]
  },
  {
   "cell_type": "code",
   "execution_count": 10,
   "metadata": {
    "colab": {
     "base_uri": "https://localhost:8080/"
    },
    "executionInfo": {
     "elapsed": 560,
     "status": "ok",
     "timestamp": 1606586830236,
     "user": {
      "displayName": "Mustafa Çalışkan",
      "photoUrl": "",
      "userId": "12288596830520832399"
     },
     "user_tz": -60
    },
    "id": "ddujOv9otTJf",
    "outputId": "0f8202a4-9c9f-4f2e-8343-1ed507459a02"
   },
   "outputs": [
    {
     "data": {
      "text/plain": [
       "array([[ 0.90014748, -1.93135845, -1.98211036, ..., -0.72950452,\n",
       "        -0.78067973, -0.27613603],\n",
       "       [ 0.9060434 , -1.97541381, -2.02567   , ..., -0.93124017,\n",
       "        -0.88794488, -0.46317443],\n",
       "       [ 0.90132666, -1.98671006, -2.03683914, ..., -1.27614304,\n",
       "        -1.26122763, -0.05330633],\n",
       "       ...,\n",
       "       [ 1.28927851, -1.38236094, -1.46721307, ..., -0.69696652,\n",
       "        -0.67341457,  0.45008097],\n",
       "       [ 1.28809932, -1.50323076, -1.58672285, ..., -0.43015486,\n",
       "        -0.60476487,  0.57246412],\n",
       "       [ 1.28927851, -1.56987861, -1.65150386, ..., -0.5993525 ,\n",
       "        -0.690577  ,  0.10024989]])"
      ]
     },
     "execution_count": 10,
     "metadata": {},
     "output_type": "execute_result"
    }
   ],
   "source": [
    "float_data"
   ]
  },
  {
   "cell_type": "markdown",
   "metadata": {
    "id": "7pTgdEY5tXHf"
   },
   "source": [
    "Data Generator : It yields a tuple (samples, targets), where samples is one batch of input data and targets is the corresponding array of target temperatures. It takes the following arguments:\n",
    "\n",
    "- data—The original array of floating-point data, which you normalized in listing 6.32.\n",
    "- lookback—How many timesteps back the input data should go.\n",
    "- delay—How many timesteps in the future the target should be.\n",
    "- min_index and max_index—Indices in the data array that delimit which timesteps to draw from. This is useful for keeping a segment of the data for validation and another for testing.\n",
    "- shuffle—Whether to shuffle the samples or draw them in chronological order.\n",
    "- batch_size—The number of samples per batch.\n",
    "- step—The period, in timesteps, at which you sample data. You’ll set it to 6 in order to draw one data point every hour.\n",
    "\n",
    "Samples ve targets seklinde demetler geri donecek olan bir fonksiyon tanimliyoruz. Her samples, girdi verisini ve bu veriye ait targets hedefleri bulunduran dizi bulunduruyor.\n",
    "\n",
    "- data : ondalik verilerden olusan, normalize ettigimiz ozgun veriler\n",
    "- lookback : kac zaman adim geriye bakilacagi\n",
    "- delay : hedefin kac zaman adimi sonra olacagi\n",
    "- min_index and max_index : data dizisindeki zaman adimlarini sinirlayacak en kucuk ve en buyuk indeks degeri. Bu dogrulama ve test veri setlerini ayirabilmek icin kullanilacak.\n",
    "- shuffle : Verilerin kronolojik sirada mi yoksa rastgele mi olacagi\n",
    "- batch_size : yiginaki ornek sayisi\n",
    "- step : verileri ornekleme periyodu"
   ]
  },
  {
   "cell_type": "code",
   "execution_count": 11,
   "metadata": {
    "executionInfo": {
     "elapsed": 581,
     "status": "ok",
     "timestamp": 1606586833310,
     "user": {
      "displayName": "Mustafa Çalışkan",
      "photoUrl": "",
      "userId": "12288596830520832399"
     },
     "user_tz": -60
    },
    "id": "Htr8JPhj4AHP"
   },
   "outputs": [],
   "source": [
    "def generator(data, lookback, delay, min_index, max_index,\n",
    "              shuffle=False, batch_size=128, step=6):\n",
    "    if max_index is None:\n",
    "        max_index = len(data) - delay - 1\n",
    "    i = min_index + lookback\n",
    "    while 1:\n",
    "        if shuffle:\n",
    "            rows = np.random.randint(\n",
    "                min_index + lookback, max_index, size=batch_size)\n",
    "        else:\n",
    "            if i + batch_size >= max_index:\n",
    "                i = min_index + lookback\n",
    "            rows = np.arange(i, min(i + batch_size, max_index))\n",
    "            i += len(rows)\n",
    "\n",
    "        samples = np.zeros((len(rows),\n",
    "                           lookback // step,\n",
    "                           data.shape[-1]))\n",
    "        targets = np.zeros((len(rows),))\n",
    "        for j, row in enumerate(rows):\n",
    "            indices = range(rows[j] - lookback, rows[j], step)\n",
    "            samples[j] = data[indices]\n",
    "            targets[j] = data[rows[j] + delay][1]\n",
    "        yield samples, targets"
   ]
  },
  {
   "cell_type": "markdown",
   "metadata": {
    "id": "XpKq7pBWvSUm"
   },
   "source": [
    "Now, let’s use the abstract generator function to instantiate three generators: one for training, one for validation, and one for testing. Each will look at different temporal segments of the original data: the training generator looks at the first 200,000 timesteps, the validation generator looks at the following 100,000, and the test generator looks at the remainder.\n",
    "\n",
    "Simdi generator metodunu kullanarak uc uretec uretecegiz. Biri egitim, digeri dogrulama ve sonuncusu da test icin. Her biri farkli zaman bolumlerine bakacak. Ilk 200000 zaman adimi egitim uretici tarafindan devam eden 100000 zaman adimi dogrulama icin ve kalaniysa test icin kullanilacak."
   ]
  },
  {
   "cell_type": "code",
   "execution_count": 12,
   "metadata": {
    "executionInfo": {
     "elapsed": 568,
     "status": "ok",
     "timestamp": 1606586838229,
     "user": {
      "displayName": "Mustafa Çalışkan",
      "photoUrl": "",
      "userId": "12288596830520832399"
     },
     "user_tz": -60
    },
    "id": "FDZuQX2_4AK3"
   },
   "outputs": [],
   "source": [
    "lookback = 1440\n",
    "step = 6\n",
    "delay = 144\n",
    "batch_size = 128\n",
    "train_gen = generator(float_data,\n",
    "                      lookback=lookback,\n",
    "                      delay=delay,\n",
    "                      min_index=0,\n",
    "                      max_index=200000,\n",
    "                      shuffle=True,\n",
    "                      step=step,\n",
    "                      batch_size=batch_size)\n",
    "val_gen = generator(float_data,\n",
    "                    lookback=lookback,\n",
    "                    delay=delay,\n",
    "                    min_index=200001,\n",
    "                    max_index=300000,\n",
    "                    step=step,\n",
    "                    batch_size=batch_size)\n",
    "test_gen = generator(float_data,\n",
    "                     lookback=lookback,\n",
    "                     delay=delay,\n",
    "                     min_index=300001,\n",
    "                     max_index=None,\n",
    "                     step=step,\n",
    "                     batch_size=batch_size)\n",
    "\n",
    "val_steps = (300000 - 200001 - lookback) // batch_size # dogrulama veri seti kac adimda gecilecek\n",
    "\n",
    "test_steps = (len(float_data) - 300001 - lookback) // batch_size # tum test seti kac adimda gorulecek"
   ]
  },
  {
   "cell_type": "markdown",
   "metadata": {
    "id": "SF8lRv5s2Rsy"
   },
   "source": [
    "### **A basic machine-learning approach**"
   ]
  },
  {
   "cell_type": "markdown",
   "metadata": {
    "id": "NgFzyrfJ2Ydl"
   },
   "source": [
    "In the same way that it’s useful to establish a common-sense baseline before trying machine-learning approaches, it’s useful to try simple, cheap machine-learning models (such as small, densely connected networks) before looking into complicated and computationally expensive models such as RNNs. This is the best way to make sure any further complexity you throw at the problem is legitimate and delivers real benefits.\n",
    "\n",
    "The following listing shows a fully connected model that starts by flattening the data and then runs it through two Dense layers. Note the lack of activation function on the last Dense layer, which is typical for a regression problem. You use MAE as the loss.\n",
    "\n",
    "Herhangi bir makine ogrenmesi modeli gelistirmeden once akil yurutmeyi kullandiginiz gibi hesaplama karmasikligi yuksek modeller (mesela RNN) kullanmadan once de basit makine ogrenmesi modelleri (tamamen bagli aglar gibi) kullanmak iyi olacaktir. Boylece daha karmasik seyler yapmanin mantikli ve gercek getirisi olup olmadigini gorebilirsiniz.\n",
    "\n",
    "Asagida kod obeyi veriyi duzlestirip iki Dense katmanla tamamen bagli bir model olusturulmasini gosteriyor. Elinizde bir baglanim problemi oldugu icin son katmanda aktivasyon fonskiyonu kullanmamaya dikkat edin. Kayip fonksiyonu olarak MAE kullanin."
   ]
  },
  {
   "cell_type": "code",
   "execution_count": 13,
   "metadata": {
    "colab": {
     "base_uri": "https://localhost:8080/"
    },
    "executionInfo": {
     "elapsed": 212724,
     "status": "ok",
     "timestamp": 1606587054341,
     "user": {
      "displayName": "Mustafa Çalışkan",
      "photoUrl": "",
      "userId": "12288596830520832399"
     },
     "user_tz": -60
    },
    "id": "uMXhJJnJ4aZ-",
    "outputId": "c58e87dc-539c-4f2a-b154-ec281e5bfc15"
   },
   "outputs": [
    {
     "name": "stdout",
     "output_type": "stream",
     "text": [
      "WARNING:tensorflow:From <ipython-input-13-6d8f93b1b264>:11: Model.fit_generator (from tensorflow.python.keras.engine.training) is deprecated and will be removed in a future version.\n",
      "Instructions for updating:\n",
      "Please use Model.fit, which supports generators.\n",
      "Epoch 1/20\n",
      "500/500 [==============================] - 12s 23ms/step - loss: 1.2200 - val_loss: 0.6179\n",
      "Epoch 2/20\n",
      "500/500 [==============================] - 11s 23ms/step - loss: 0.4231 - val_loss: 0.3428\n",
      "Epoch 3/20\n",
      "500/500 [==============================] - 11s 23ms/step - loss: 0.2903 - val_loss: 0.3358\n",
      "Epoch 4/20\n",
      "500/500 [==============================] - 12s 24ms/step - loss: 0.2660 - val_loss: 0.3108\n",
      "Epoch 5/20\n",
      "500/500 [==============================] - 12s 24ms/step - loss: 0.2527 - val_loss: 0.3250\n",
      "Epoch 6/20\n",
      "500/500 [==============================] - 12s 23ms/step - loss: 0.2449 - val_loss: 0.3217\n",
      "Epoch 7/20\n",
      "500/500 [==============================] - 12s 24ms/step - loss: 0.2380 - val_loss: 0.3210\n",
      "Epoch 8/20\n",
      "500/500 [==============================] - 12s 24ms/step - loss: 0.2330 - val_loss: 0.3584\n",
      "Epoch 9/20\n",
      "500/500 [==============================] - 11s 22ms/step - loss: 0.2284 - val_loss: 0.3254\n",
      "Epoch 10/20\n",
      "500/500 [==============================] - 11s 22ms/step - loss: 0.2229 - val_loss: 0.3488\n",
      "Epoch 11/20\n",
      "500/500 [==============================] - 11s 23ms/step - loss: 0.2207 - val_loss: 0.3290\n",
      "Epoch 12/20\n",
      "500/500 [==============================] - 11s 23ms/step - loss: 0.2171 - val_loss: 0.3731\n",
      "Epoch 13/20\n",
      "500/500 [==============================] - 11s 23ms/step - loss: 0.2163 - val_loss: 0.3484\n",
      "Epoch 14/20\n",
      "500/500 [==============================] - 11s 23ms/step - loss: 0.2136 - val_loss: 0.3338\n",
      "Epoch 15/20\n",
      "500/500 [==============================] - 11s 23ms/step - loss: 0.2111 - val_loss: 0.3417\n",
      "Epoch 16/20\n",
      "500/500 [==============================] - 11s 22ms/step - loss: 0.2088 - val_loss: 0.3381\n",
      "Epoch 17/20\n",
      "500/500 [==============================] - 11s 22ms/step - loss: 0.2080 - val_loss: 0.3302\n",
      "Epoch 18/20\n",
      "500/500 [==============================] - 12s 25ms/step - loss: 0.2049 - val_loss: 0.3717\n",
      "Epoch 19/20\n",
      "500/500 [==============================] - 14s 27ms/step - loss: 0.2041 - val_loss: 0.3895\n",
      "Epoch 20/20\n",
      "500/500 [==============================] - 14s 28ms/step - loss: 0.2023 - val_loss: 0.3500\n"
     ]
    }
   ],
   "source": [
    "from keras.models import Sequential\n",
    "from keras import layers\n",
    "from keras.optimizers import RMSprop\n",
    "\n",
    "model = Sequential()\n",
    "model.add(layers.Flatten(input_shape=(lookback // step, float_data.shape[-1])))\n",
    "model.add(layers.Dense(32, activation='relu'))\n",
    "model.add(layers.Dense(1))\n",
    "\n",
    "model.compile(optimizer=RMSprop(), loss='mae')\n",
    "history = model.fit_generator(train_gen,\n",
    "                    steps_per_epoch=500,\n",
    "                    epochs=20,\n",
    "                    validation_data=val_gen,\n",
    "                    validation_steps=val_steps)"
   ]
  },
  {
   "cell_type": "code",
   "execution_count": 14,
   "metadata": {
    "colab": {
     "base_uri": "https://localhost:8080/",
     "height": 281
    },
    "executionInfo": {
     "elapsed": 640,
     "status": "ok",
     "timestamp": 1606587188070,
     "user": {
      "displayName": "Mustafa Çalışkan",
      "photoUrl": "",
      "userId": "12288596830520832399"
     },
     "user_tz": -60
    },
    "id": "y07mZT0gDt_p",
    "outputId": "fd343d9b-000c-465a-c9fd-f42111c15b64"
   },
   "outputs": [
    {
     "data": {
      "image/png": "[encoded data removed]",
      "text/plain": [
       "<Figure size 432x288 with 1 Axes>"
      ]
     },
     "metadata": {
      "needs_background": "light"
     },
     "output_type": "display_data"
    }
   ],
   "source": [
    "import matplotlib.pyplot as plt\n",
    "\n",
    "loss = history.history['loss']\n",
    "val_loss = history.history['val_loss']\n",
    "\n",
    "epochs = range(len(loss))\n",
    "\n",
    "plt.figure()\n",
    "\n",
    "plt.plot(epochs, loss, 'bo', label='Training loss')\n",
    "plt.plot(epochs, val_loss, 'b', label='Validation loss')\n",
    "plt.title('Training and validation loss')\n",
    "plt.legend()\n",
    "\n",
    "plt.show()"
   ]
  },
  {
   "cell_type": "markdown",
   "metadata": {
    "id": "qP3_FN4j9m33"
   },
   "source": [
    "### **A first recurrent baseline**"
   ]
  },
  {
   "cell_type": "markdown",
   "metadata": {
    "id": "pF8XrXHV999m"
   },
   "source": [
    "Our first fully-connected approach didn't do so well, but that doesn't mean machine learning is not applicable to our problem. The approach above consisted in first flattening the timeseries, which removed the notion of time from the input data. Let us instead look at our data as what it is: a sequence, where causality and order matter. We will try a recurrent sequence processing model -- it should be the perfect fit for such sequence data, precisely because it does exploit the temporal ordering of data points, unlike our first approach.\n",
    "\n",
    "Instead of the LSTM layer introduced in the previous section, we will use the GRU layer, developed by Cho et al. in 2014. GRU layers (which stands for \"gated recurrent unit\") work by leveraging the same principle as LSTM, but they are somewhat streamlined and thus cheaper to run, albeit they may not have quite as much representational power as LSTM. This trade-off between computational expensiveness and representational power is seen everywhere in machine learning.\n",
    "\n",
    "Ilk tamamen bagli yaklasim cok da basarili degildi. Ancak bu, makine ogrenmesinin bu probleme uygun olmadigi anlamina gelmez. Onceki yaklasim zaman serisini duzlestirmis ve zamansal nosyonu ortadan kaldirmisti. Simdi veriye oldugu gibi yani nedensellik ve siralamanin onemli oldugu bir dizi olarak bakalim. Yinelemeli dizi isleme modeli olusturacaksiniz - verilerin ilk modelde goz ardi edilen siralamasini ve iliskisini ortaya cikaran bir yaklasim oldugundan, boyle bir dizi verisiyle mukemmel uyum icinde olacaktir.\n",
    "\n",
    "Onceden tanittigimiz LTSM katmani yerine 2014 yiinda gelistirilen GRU katmanini kullanacaksiniz. Kapali yinelemeli katmanlar (GRU) LSTM'ler ile ayni prensipleri kullanirlar ama daha az maliyetle calisirlar (LSTM'ler ile ayni gosterim gucune sahip olmayabilirler) Hesaplama karmasikligi ve gosterim gucu dengesi makine ogrenmesinde surekli karsiniza cikacaktir."
   ]
  },
  {
   "cell_type": "code",
   "execution_count": 15,
   "metadata": {
    "colab": {
     "base_uri": "https://localhost:8080/"
    },
    "executionInfo": {
     "elapsed": 306211,
     "status": "ok",
     "timestamp": 1606587560315,
     "user": {
      "displayName": "Mustafa Çalışkan",
      "photoUrl": "",
      "userId": "12288596830520832399"
     },
     "user_tz": -60
    },
    "id": "WZ0BYzAK_uSM",
    "outputId": "ba25d753-3c10-437d-c82d-f364ed284684"
   },
   "outputs": [
    {
     "name": "stdout",
     "output_type": "stream",
     "text": [
      "Epoch 1/20\n",
      "500/500 [==============================] - 16s 32ms/step - loss: 0.3037 - val_loss: 0.2791\n",
      "Epoch 2/20\n",
      "500/500 [==============================] - 16s 32ms/step - loss: 0.2853 - val_loss: 0.2648\n",
      "Epoch 3/20\n",
      "500/500 [==============================] - 15s 31ms/step - loss: 0.2777 - val_loss: 0.2678\n",
      "Epoch 4/20\n",
      "500/500 [==============================] - 16s 32ms/step - loss: 0.2745 - val_loss: 0.2685\n",
      "Epoch 5/20\n",
      "500/500 [==============================] - 16s 31ms/step - loss: 0.2689 - val_loss: 0.2645\n",
      "Epoch 6/20\n",
      "500/500 [==============================] - 16s 31ms/step - loss: 0.2652 - val_loss: 0.2722\n",
      "Epoch 7/20\n",
      "500/500 [==============================] - 23s 46ms/step - loss: 0.2595 - val_loss: 0.2687\n",
      "Epoch 8/20\n",
      "500/500 [==============================] - 21s 41ms/step - loss: 0.2573 - val_loss: 0.2780\n",
      "Epoch 9/20\n",
      "500/500 [==============================] - 21s 42ms/step - loss: 0.2506 - val_loss: 0.2667\n",
      "Epoch 10/20\n",
      "500/500 [==============================] - 22s 44ms/step - loss: 0.2479 - val_loss: 0.2723\n",
      "Epoch 11/20\n",
      "500/500 [==============================] - 21s 43ms/step - loss: 0.2423 - val_loss: 0.2759\n",
      "Epoch 12/20\n",
      "500/500 [==============================] - 21s 42ms/step - loss: 0.2377 - val_loss: 0.2786\n",
      "Epoch 13/20\n",
      "500/500 [==============================] - 21s 43ms/step - loss: 0.2318 - val_loss: 0.2856\n",
      "Epoch 14/20\n",
      "500/500 [==============================] - 21s 42ms/step - loss: 0.2278 - val_loss: 0.2901\n",
      "Epoch 15/20\n",
      "500/500 [==============================] - 21s 42ms/step - loss: 0.2247 - val_loss: 0.2985\n",
      "Epoch 16/20\n",
      "500/500 [==============================] - 21s 42ms/step - loss: 0.2215 - val_loss: 0.2969\n",
      "Epoch 17/20\n",
      "500/500 [==============================] - 21s 42ms/step - loss: 0.2182 - val_loss: 0.3090\n",
      "Epoch 18/20\n",
      "500/500 [==============================] - 21s 42ms/step - loss: 0.2135 - val_loss: 0.3002\n",
      "Epoch 19/20\n",
      "500/500 [==============================] - 21s 42ms/step - loss: 0.2121 - val_loss: 0.3000\n",
      "Epoch 20/20\n",
      "500/500 [==============================] - 21s 42ms/step - loss: 0.2090 - val_loss: 0.3019\n"
     ]
    }
   ],
   "source": [
    "from keras.models import Sequential\n",
    "from keras import layers\n",
    "from keras.optimizers import RMSprop\n",
    "\n",
    "model = Sequential()\n",
    "model.add(layers.GRU(32, input_shape=(None, float_data.shape[-1])))\n",
    "model.add(layers.Dense(1))\n",
    "\n",
    "model.compile(optimizer=RMSprop(), loss='mae')\n",
    "history = model.fit_generator(train_gen,\n",
    "                              steps_per_epoch=500,\n",
    "                              epochs=20,\n",
    "                              validation_data=val_gen,\n",
    "                              validation_steps=val_steps)"
   ]
  },
  {
   "cell_type": "code",
   "execution_count": 16,
   "metadata": {
    "colab": {
     "base_uri": "https://localhost:8080/",
     "height": 281
    },
    "executionInfo": {
     "elapsed": 758,
     "status": "ok",
     "timestamp": 1606587643107,
     "user": {
      "displayName": "Mustafa Çalışkan",
      "photoUrl": "",
      "userId": "12288596830520832399"
     },
     "user_tz": -60
    },
    "id": "3Nm_qB3YAjOz",
    "outputId": "7836f57d-9c35-40e7-d02a-40238fcd75b5"
   },
   "outputs": [
    {
     "data": {
      "image/png": "[encoded data removed]",
      "text/plain": [
       "<Figure size 432x288 with 1 Axes>"
      ]
     },
     "metadata": {
      "needs_background": "light"
     },
     "output_type": "display_data"
    }
   ],
   "source": [
    "loss = history.history['loss']\n",
    "val_loss = history.history['val_loss']\n",
    "\n",
    "epochs = range(len(loss))\n",
    "\n",
    "plt.figure()\n",
    "\n",
    "plt.plot(epochs, loss, 'bo', label='Training loss')\n",
    "plt.plot(epochs, val_loss, 'b', label='Validation loss')\n",
    "plt.title('Training and validation loss')\n",
    "plt.legend()\n",
    "\n",
    "plt.show()"
   ]
  },
  {
   "cell_type": "markdown",
   "metadata": {
    "id": "czptcktWFg6M"
   },
   "source": [
    "Much better! We are able to significantly beat the common sense baseline, such demonstrating the value of machine learning here, as well as the superiority of recurrent networks compared to sequence-flattening dense networks on this type of task.\n",
    "\n",
    "Our new validation MAE of ~0.265 (before we start significantly overfitting) translates to a mean absolute error of 2.35˚C after de-normalization. That's a solid gain on our initial error of 2.57˚C, but we probably still have a bit of margin for improvement.\n",
    "\n",
    "Daha iyi. Simdi belirgin olarak en temel akil yuruten modeli yeniyor ve makine ogrenmesinin degerini ve dizileri duzlestiren yaklasim karsi yinelemeli katmanlarin gucunu gosteriyor.\n",
    "\n",
    "Asiri ogrenmenin basladigini goruyoruz."
   ]
  },
  {
   "cell_type": "markdown",
   "metadata": {
    "id": "teBtzQbdGCS6"
   },
   "source": [
    "### **Using recurrent dropout to fight overfitting¶**"
   ]
  },
  {
   "cell_type": "markdown",
   "metadata": {
    "id": "ka1j6X3wGFtl"
   },
   "source": [
    "It is evident from our training and validation curves that our model is overfitting: the training and validation losses start diverging considerably after a few epochs. You are already familiar with a classic technique for fighting this phenomenon: dropout, consisting in randomly zeroing-out input units of a layer in order to break happenstance correlations in the training data that the layer is exposed to. How to correctly apply dropout in recurrent networks, however, is not a trivial question. It has long been known that applying dropout before a recurrent layer hinders learning rather than helping with regularization. In 2015, Yarin Gal, as part of his Ph.D. thesis on Bayesian deep learning, determined the proper way to use dropout with a recurrent network: the same dropout mask (the same pattern of dropped units) should be applied at every timestep, instead of a dropout mask that would vary randomly from timestep to timestep. What's more: in order to regularize the representations formed by the recurrent gates of layers such as GRU and LSTM, a temporally constant dropout mask should be applied to the inner recurrent activations of the layer (a \"recurrent\" dropout mask). Using the same dropout mask at every timestep allows the network to properly propagate its learning error through time; a temporally random dropout mask would instead disrupt this error signal and be harmful to the learning process.\n",
    "\n",
    "Yarin Gal did his research using Keras and helped build this mechanism directly into Keras recurrent layers. Every recurrent layer in Keras has two dropout-related arguments: dropout, a float specifying the dropout rate for input units of the layer, and recurrent_dropout, specifying the dropout rate of the recurrent units. Let's add dropout and recurrent dropout to our GRU layer and see how it impacts overfitting. Because networks being regularized with dropout always take longer to fully converge, we train our network for twice as many epochs.\n",
    "\n",
    "Egitim ve dogrulama egrileriniz asiri uydurdugunuzun kanitidir. Birkac epoktan sonra egitim ve dogrulama kayiplari birbirinden farklilasiyor ve uzaklasiyor. Bu fenomenle mucadelede kullanilan klasik tekniklere asinasiniz. Katmanin girdisinden bazi elemanlari rastgele sifirlayip hasbelkader iliskilerin ogrenilmesini engelleyen iletim sonumu. Ama yinelemeli katmanlara iletim sonumunu uygulamak basit islem degildir. Uzun bir sure iletim sonumunu yinelemeli katmanlarda kullanmanin duzenlilestirmeye katki saglamak yerine ogrenmeyi engelledigi biliniyordu. 2015 yilinda Basyesci derin ogrenme konulu dotora tezi calismasi kapsaminda Yarin Gal, yinelemeli katmanlara iletim sonumu uygulamanin bir yolunu buldu. Her zaman adiminda rastgele iletim sonumu uygulamak yerine, rastgele secilen iletim sonumu maskesini her zaman adiminda uygulamak. DAhasi GRU ve LSTM gibi katmanlarinin kapali kullaniminda gosterimleri duzenlestirmek icin zamanda sabit bir iletim sonumu maskesini yinelemeli katmanin ic aktivasyonlarina uygulamasi gerekir.Ayni iletim sonumu maskesini her zaman adiminda uygulamak zaman icerisinde ogrenme hatasinin geriye yayilabilmesini saglar. Ancak zamanda rastgele iletim sonumu maskesi kullanmak hata sinyalinin geriye yayilmasini engelledigi icin ogrenmeye zarar verir.\n",
    "\n",
    "Yarin Gal, arastirmalarini Keras kullanarak yapti ve bu mekanizmanin Keras katmanlarina dogrudan uygulanmasinda yardimci oldu. Kerastaki her yinelemeli katman iletim sonumuyle ilgili iki parametre sunmaktadir.\n",
    "dropout iletim sonum oranini ondalik degeri ve \n",
    "recurrent_droput yinelemeli karmanlarin iletim sonum orani.\n",
    "Simdi de iletim sonumu ve yinelemeli iletim sonumu GRU katmaninda ekleyelim ve asiri uydurmaya etkisini gorelim. Iletim sonumuyle duzenlilestirilmis bir agin yakinsamasini zaman alacagindan iki kat fazla epokla egiteceksiniz."
   ]
  },
  {
   "cell_type": "code",
   "execution_count": 18,
   "metadata": {
    "colab": {
     "base_uri": "https://localhost:8080/",
     "height": 1000
    },
    "executionInfo": {
     "elapsed": 12812376,
     "status": "error",
     "timestamp": 1606601293386,
     "user": {
      "displayName": "Mustafa Çalışkan",
      "photoUrl": "",
      "userId": "12288596830520832399"
     },
     "user_tz": -60
    },
    "id": "1-n8JCJDIoIm",
    "outputId": "d8995078-b094-4cb1-fe64-e8f55e73fb90"
   },
   "outputs": [
    {
     "name": "stdout",
     "output_type": "stream",
     "text": [
      "WARNING:tensorflow:Layer gru_2 will not use cuDNN kernel since it doesn't meet the cuDNN kernel criteria. It will use generic GPU kernel as fallback when running on GPU\n",
      "Epoch 1/10\n",
      "100/100 [==============================] - 108s 1s/step - loss: 0.3574 - val_loss: 0.2845\n",
      "Epoch 2/10\n",
      "100/100 [==============================] - 108s 1s/step - loss: 0.3203 - val_loss: 0.2930\n",
      "Epoch 3/10\n",
      "100/100 [==============================] - 108s 1s/step - loss: 0.3131 - val_loss: 0.2817\n",
      "Epoch 4/10\n",
      "100/100 [==============================] - 108s 1s/step - loss: 0.3105 - val_loss: 0.2787\n",
      "Epoch 5/10\n",
      "100/100 [==============================] - 107s 1s/step - loss: 0.3107 - val_loss: 0.2891\n",
      "Epoch 6/10\n",
      "100/100 [==============================] - 108s 1s/step - loss: 0.3070 - val_loss: 0.2846\n",
      "Epoch 7/10\n",
      "100/100 [==============================] - 109s 1s/step - loss: 0.3093 - val_loss: 0.2841\n",
      "Epoch 8/10\n",
      "100/100 [==============================] - 109s 1s/step - loss: 0.3059 - val_loss: 0.2785\n",
      "Epoch 9/10\n",
      "100/100 [==============================] - 108s 1s/step - loss: 0.3032 - val_loss: 0.2802\n",
      "Epoch 10/10\n",
      "100/100 [==============================] - 130s 1s/step - loss: 0.2998 - val_loss: 0.2809\n"
     ]
    }
   ],
   "source": [
    "from keras.models import Sequential\n",
    "from keras import layers\n",
    "from keras.optimizers import RMSprop\n",
    "\n",
    "model = Sequential()\n",
    "model.add(layers.GRU(32,\n",
    "                     dropout=0.2,\n",
    "                     #recurrent_dropout=0.2,\n",
    "                     input_shape=(None, float_data.shape[-1])))\n",
    "model.add(layers.Dense(1))\n",
    "\n",
    "model.compile(optimizer=RMSprop(), loss='mae')\n",
    "history = model.fit_generator(train_gen,\n",
    "                              steps_per_epoch=500,\n",
    "                              epochs=40,\n",
    "                              validation_data=val_gen,\n",
    "                              validation_steps=val_steps)"
   ]
  },
  {
   "cell_type": "code",
   "execution_count": 19,
   "metadata": {},
   "outputs": [
    {
     "data": {
      "image/png": "[encoded data removed]",
      "text/plain": [
       "<Figure size 432x288 with 1 Axes>"
      ]
     },
     "metadata": {
      "needs_background": "light"
     },
     "output_type": "display_data"
    }
   ],
   "source": [
    "loss = history.history['loss']\n",
    "val_loss = history.history['val_loss']\n",
    "\n",
    "epochs = range(len(loss))\n",
    "\n",
    "plt.figure()\n",
    "\n",
    "plt.plot(epochs, loss, 'bo', label='Training loss')\n",
    "plt.plot(epochs, val_loss, 'b', label='Validation loss')\n",
    "plt.title('Training and validation loss')\n",
    "plt.legend()\n",
    "\n",
    "plt.show()"
   ]
  },
  {
   "cell_type": "markdown",
   "metadata": {
    "id": "R7qyONMLM7oL"
   },
   "source": [
    "Great success; we are no longer overfitting during the first 30 epochs. However, while we have more stable evaluation scores, our best scores are not much lower than they were previously.\n",
    "\n",
    "30 epok yapmamiza ragmen agimizda asiri uydurma problemi yok, ancak daha dengeli degerlendirme sonuclarina ulasmis olsak da en iyi sonucumuz bir onceki calisamadan pek de iyi degil."
   ]
  },
  {
   "cell_type": "markdown",
   "metadata": {
    "id": "0NugGnHYNS7n"
   },
   "source": [
    "### **Stacking recurrent layers**"
   ]
  },
  {
   "cell_type": "markdown",
   "metadata": {
    "id": "mMcnq87fNWto"
   },
   "source": [
    "Since we are no longer overfitting yet we seem to have hit a performance bottleneck, we should start considering increasing the capacity of our network. If you remember our description of the \"universal machine learning workflow\": it is a generally a good idea to increase the capacity of your network until overfitting becomes your primary obstacle (assuming that you are already taking basic steps to mitigate overfitting, such as using dropout). As long as you are not overfitting too badly, then you are likely under-capacity.\n",
    "\n",
    "Increasing network capacity is typically done by increasing the number of units in the layers, or adding more layers. Recurrent layer stacking is a classic way to build more powerful recurrent networks: for instance, what currently powers the Google translate algorithm is a stack of seven large LSTM layers -- that's huge.\n",
    "\n",
    "To stack recurrent layers on top of each other in Keras, all intermediate layers should return their full sequence of outputs (a 3D tensor) rather than their output at the last timestep. This is done by specifying return_sequences=True:\n",
    "\n",
    "Asiri uydurmadan kurtuldunuz ama hala performansi yeterince atiramamadiginiz icin agin kapasitesini artirmayi dusunmelisiniz. Makine ogrenmesi is akisini hatirlayin. Asiri uydurma ana engel olana kadar agin kapasitesini aritirin (iletim sonumu kullanimi gibi asiri uydurmaya karsi onlemleri aldiginiz dusunulerek) Cok agir sekilde uydurmadiginiz surece dusuk kapasitlesi calistiginizi dusunebilirsiniz.\n",
    "\n",
    "Agin kapasitesini arttirmak katmanlardaki birimleri veya katmanlarin sayisini arttirarak saglanabilir. Yinelemeli katmanlarin ust ute kullanimi, daha guclu yinelemeli aglarin olusturulmasi icin kulanilan klasik bir yoldur. Ornegin Google'in diller arasi ceviri yapan sistemine gucunu yedi katli LSTM katmanlari veriyor.\n",
    "\n",
    "0Keras'ta yinelemeli katmanlari ust uste kullanirken her ara katman cikti olarak son zaman adimini vermek yerine tum dizyi (3B tensor) vermelidir. Bunu return_sequences=True ile yapabilirsiniz."
   ]
  },
  {
   "cell_type": "code",
   "execution_count": 25,
   "metadata": {
    "id": "Fy8QGPovOgv0"
   },
   "outputs": [
    {
     "name": "stdout",
     "output_type": "stream",
     "text": [
      "Epoch 1/40\n",
      "500/500 [==============================] - 17s 33ms/step - loss: 0.3133 - val_loss: 0.2711\n",
      "Epoch 2/40\n",
      "500/500 [==============================] - 16s 32ms/step - loss: 0.2939 - val_loss: 0.2656\n",
      "Epoch 3/40\n",
      "500/500 [==============================] - 16s 32ms/step - loss: 0.2828 - val_loss: 0.2677\n",
      "Epoch 4/40\n",
      "500/500 [==============================] - 16s 32ms/step - loss: 0.2736 - val_loss: 0.2621\n",
      "Epoch 5/40\n",
      "500/500 [==============================] - 16s 32ms/step - loss: 0.2659 - val_loss: 0.2687\n",
      "Epoch 6/40\n",
      "500/500 [==============================] - 16s 32ms/step - loss: 0.2567 - val_loss: 0.2854\n",
      "Epoch 7/40\n",
      "500/500 [==============================] - 15s 31ms/step - loss: 0.2481 - val_loss: 0.2902\n",
      "Epoch 8/40\n",
      "500/500 [==============================] - 16s 32ms/step - loss: 0.2383 - val_loss: 0.3040\n",
      "Epoch 9/40\n",
      "500/500 [==============================] - 16s 31ms/step - loss: 0.2284 - val_loss: 0.2962\n",
      "Epoch 10/40\n",
      "500/500 [==============================] - 16s 32ms/step - loss: 0.2182 - val_loss: 0.3130\n",
      "Epoch 11/40\n",
      "500/500 [==============================] - 16s 32ms/step - loss: 0.2104 - val_loss: 0.3113\n",
      "Epoch 12/40\n",
      "500/500 [==============================] - 16s 32ms/step - loss: 0.2017 - val_loss: 0.3127\n",
      "Epoch 13/40\n",
      "500/500 [==============================] - 16s 32ms/step - loss: 0.1949 - val_loss: 0.3233\n",
      "Epoch 14/40\n",
      "500/500 [==============================] - 16s 32ms/step - loss: 0.1886 - val_loss: 0.3237\n",
      "Epoch 15/40\n",
      "500/500 [==============================] - 16s 31ms/step - loss: 0.1818 - val_loss: 0.3294\n",
      "Epoch 16/40\n",
      "500/500 [==============================] - 16s 32ms/step - loss: 0.1768 - val_loss: 0.3291\n",
      "Epoch 17/40\n",
      "500/500 [==============================] - 16s 33ms/step - loss: 0.1716 - val_loss: 0.3393\n",
      "Epoch 18/40\n",
      "500/500 [==============================] - 16s 31ms/step - loss: 0.1672 - val_loss: 0.3356\n",
      "Epoch 19/40\n",
      "500/500 [==============================] - 16s 32ms/step - loss: 0.1624 - val_loss: 0.3393\n",
      "Epoch 20/40\n",
      "500/500 [==============================] - 16s 32ms/step - loss: 0.1593 - val_loss: 0.3378\n",
      "Epoch 21/40\n",
      "500/500 [==============================] - 16s 31ms/step - loss: 0.1550 - val_loss: 0.3474\n",
      "Epoch 22/40\n",
      "500/500 [==============================] - 16s 31ms/step - loss: 0.1517 - val_loss: 0.3393\n",
      "Epoch 23/40\n",
      "500/500 [==============================] - 15s 31ms/step - loss: 0.1481 - val_loss: 0.3458\n",
      "Epoch 24/40\n",
      "500/500 [==============================] - 16s 32ms/step - loss: 0.1452 - val_loss: 0.3404\n",
      "Epoch 25/40\n",
      "500/500 [==============================] - 16s 31ms/step - loss: 0.1437 - val_loss: 0.3474\n",
      "Epoch 26/40\n",
      "500/500 [==============================] - 16s 32ms/step - loss: 0.1407 - val_loss: 0.3496\n",
      "Epoch 27/40\n",
      "500/500 [==============================] - 16s 31ms/step - loss: 0.1382 - val_loss: 0.3386\n",
      "Epoch 28/40\n",
      "500/500 [==============================] - 15s 31ms/step - loss: 0.1349 - val_loss: 0.3492\n",
      "Epoch 29/40\n",
      "500/500 [==============================] - 16s 31ms/step - loss: 0.1338 - val_loss: 0.3423\n",
      "Epoch 30/40\n",
      "500/500 [==============================] - 16s 31ms/step - loss: 0.1306 - val_loss: 0.3497\n",
      "Epoch 31/40\n",
      "500/500 [==============================] - 16s 31ms/step - loss: 0.1293 - val_loss: 0.3505\n",
      "Epoch 32/40\n",
      "500/500 [==============================] - 16s 32ms/step - loss: 0.1281 - val_loss: 0.3450\n",
      "Epoch 33/40\n",
      "500/500 [==============================] - 16s 32ms/step - loss: 0.1259 - val_loss: 0.3439\n",
      "Epoch 34/40\n",
      "500/500 [==============================] - 15s 31ms/step - loss: 0.1239 - val_loss: 0.3473\n",
      "Epoch 35/40\n",
      "500/500 [==============================] - 16s 33ms/step - loss: 0.1232 - val_loss: 0.3433\n",
      "Epoch 36/40\n",
      "500/500 [==============================] - 16s 32ms/step - loss: 0.1217 - val_loss: 0.3499\n",
      "Epoch 37/40\n",
      "500/500 [==============================] - 16s 32ms/step - loss: 0.1204 - val_loss: 0.3494\n",
      "Epoch 38/40\n",
      "500/500 [==============================] - 16s 31ms/step - loss: 0.1198 - val_loss: 0.3428\n",
      "Epoch 39/40\n",
      "500/500 [==============================] - 16s 32ms/step - loss: 0.1172 - val_loss: 0.3455\n",
      "Epoch 40/40\n",
      "500/500 [==============================] - 16s 33ms/step - loss: 0.1163 - val_loss: 0.3487\n"
     ]
    }
   ],
   "source": [
    "from keras.models import Sequential\n",
    "from keras import layers\n",
    "from keras.optimizers import RMSprop\n",
    "\n",
    "model = Sequential()\n",
    "model.add(layers.GRU(32,\n",
    "                     dropout=0.1,\n",
    "                     #recurrent_dropout=0, # ornekte 0.5 olarak belirtiliyor ama gpu bile asiri yavasliyor\n",
    "                     return_sequences=True,\n",
    "                     input_shape=(None, float_data.shape[-1])))\n",
    "model.add(layers.GRU(64, \n",
    "                     #activation='relu', # activation relu olunca da yavasliyor, \n",
    "                     dropout=0.1))\n",
    "                     #recurrent_dropout=0))\n",
    "model.add(layers.Dense(1))\n",
    "\n",
    "model.compile(optimizer=RMSprop(), loss='mae')\n",
    "history = model.fit_generator(train_gen,\n",
    "                              steps_per_epoch=500,\n",
    "                              epochs=40,\n",
    "                              validation_data=val_gen,\n",
    "                              validation_steps=val_steps)\n",
    "\n",
    "\"https://www.tensorflow.org/api_docs/python/tf/keras/layers/GRU#used-in-the-notebooks_1\"\n",
    "\"yavaslama sorunu hakkinda burada bazi bilgiler mevcut\""
   ]
  },
  {
   "cell_type": "markdown",
   "metadata": {},
   "source": [
    "CuDNN çekirdeği belirli varsayımlarla oluşturulduğundan, bu , yerleşik LSTM veya GRU katmanlarının varsayılanlarını değiştirirseniz katmanın CuDNN çekirdeğini kullanamayacağı anlamına gelir. Örneğin:\n",
    "\n",
    "- activation işlevini tanh başka bir şeye değiştirme.\n",
    "- recurrent_activation işlevini sigmoid başka bir şeye değiştirme.\n",
    "- recurrent_dropout > 0 kullanılması.\n",
    "- Ayar unroll kuvvetleri LSTM / GRU iç ayrıştırmak için True, için tf.while_loop bir açılmış haline for döngü.\n",
    "use_bias False olarak ayarlama.\n",
    "- Giriş verileri kesinlikle doğru şekilde doldurulmadığında maskeleme kullanma (maske kesinlikle doğru doldurulmuş verilere karşılık geliyorsa, CuDNN yine de kullanılabilir. Bu en yaygın durumdur)."
   ]
  },
  {
   "cell_type": "code",
   "execution_count": 26,
   "metadata": {
    "id": "AN3HDnYuOmKL"
   },
   "outputs": [
    {
     "data": {
      "image/png": "[encoded data removed]",
      "text/plain": [
       "<Figure size 432x288 with 1 Axes>"
      ]
     },
     "metadata": {
      "needs_background": "light"
     },
     "output_type": "display_data"
    }
   ],
   "source": [
    "loss = history.history['loss']\n",
    "val_loss = history.history['val_loss']\n",
    "\n",
    "epochs = range(len(loss))\n",
    "\n",
    "plt.figure()\n",
    "\n",
    "plt.plot(epochs, loss, 'bo', label='Training loss')\n",
    "plt.plot(epochs, val_loss, 'b', label='Validation loss')\n",
    "plt.title('Training and validation loss')\n",
    "plt.legend()\n",
    "\n",
    "plt.show()"
   ]
  },
  {
   "cell_type": "markdown",
   "metadata": {
    "id": "0ZhsjUDsOpgS"
   },
   "source": [
    "We can see that the added layers does improve ours results by a bit, albeit not very significantly. We can draw two conclusions:\n",
    "\n",
    "- Since we are still not overfitting too badly, we could safely increase the size of our layers, in quest for a bit of validation loss improvement. This does have a non-negligible computational cost, though.\n",
    "- Since adding a layer did not help us by a significant factor, we may be seeing diminishing returns to increasing network capacity at this point.\n",
    "\n",
    "Iki katman eklemek sonuclari biraz iyilestirdi ama belirgin bir iyilestirme yok. Buradan iki sonuc cikarabilirsiniz.\n",
    "\n",
    "- Asiri uydurma konusunda sorununuz olmadigi icin katman ekleme ve dogrulama kaybi iyilestirmei icin calisabilirsiniz. Elbette bu durum kacinilmaz olarak hesaplama maliyetini arttiracaktir.\n",
    "- Yeni katmanlar eklemek yeterince iyilestirmiyor, o zaman bu noktada artik yeni katman eklemeye gerek yok."
   ]
  },
  {
   "cell_type": "markdown",
   "metadata": {
    "id": "wunaOIvyPI7r"
   },
   "source": [
    "### **Using bidirectional RNNs**"
   ]
  },
  {
   "cell_type": "markdown",
   "metadata": {
    "id": "Ri-0MRPyQJe5"
   },
   "source": [
    "The last technique that we will introduce in this section is called \"bidirectional RNNs\". A bidirectional RNN is common RNN variant which can offer higher performance than a regular RNN on certain tasks. It is frequently used in natural language processing -- you could call it the Swiss army knife of deep learning for NLP.\n",
    "\n",
    "RNNs are notably order-dependent, or time-dependent: they process the timesteps of their input sequences in order, and shuffling or reversing the timesteps can completely change the representations that the RNN will extract from the sequence. This is precisely the reason why they perform well on problems where order is meaningful, such as our temperature forecasting problem. A bidirectional RNN exploits the order-sensitivity of RNNs: it simply consists of two regular RNNs, such as the GRU or LSTM layers that you are already familiar with, each processing input sequence in one direction (chronologically and antichronologically), then merging their representations. By processing a sequence both way, a bidirectional RNN is able to catch patterns that may have been overlooked by a one-direction RNN.\n",
    "\n",
    "Remarkably, the fact that the RNN layers in this section have so far processed sequences in chronological order (older timesteps first) may have been an arbitrary decision. At least, it's a decision we made no attempt at questioning so far. Could it be that our RNNs could have performed well enough if it were processing input sequences in antichronological order, for instance (newer timesteps first)? Let's try this in practice and see what we get. All we need to do is write a variant of our data generator, where the input sequences get reverted along the time dimension (replace the last line with yield samples[:, ::-1, :], targets). Training the same one-GRU-layer network as we used in the first experiment in this section, we get the following results:\n",
    "\n",
    "*Iki yonlu RNN'ler RNN'lerin bazi gorevlerde daha iyi performans saglayan farkli bir cesididir. Genellikle dogal dil islemede kullanilir -derin ogrenmenin dogal dil islemedeki Isvicre cakisi olarak dusunebilirsiniz.*\n",
    "\n",
    "*RNN'ler sira ve zaman bagimlidir. Girdi dizisinin sirasi ve rastgele duzenlenmesi veya tersten siralanmasi RNN tarafindan cikarilacak sonuclari degistirir. Dolayisiyla bu, hava sicakligi tahmin problemi gibi siralamanin onemli oldugu problemlerde iyi sonuclar elde etmelerinin ana sebebidir. Iki yonlu RNN'ler RNN'lerin sira bagimliligindan istifade eder. GRU ya da LSTM gibi siradan yinelemeli katmanlardan her biri bir yonde calisan (kronolojik sirada veya tersinde) iki tane katman bulundururlar ve gosterimlerini birlestirirler. Diziyi iki yonde de isleyerek tek yonlu RNN'ler tarafindan goz ardi edilen oruntuleri yakalayabilirler.*\n",
    "\n",
    "*Bu bolumde gordugunuz RNN katmanlarinin dizileri kronolojik (eskiden yeniye) sirada islemesi sadece bir secimdi. En azindan su ana kadar sorgulamadigimiz bir karardi. Acaba RNN'ler dizileri tersten isleseler sonuclar degisir mi? Bunu bir uygulamada gorelim ve neler degisecek inceleyelim. Yapmaniz gereken tek sey veri ureticinin dizileri ters sirada (yield sample[:,::-1,:],targets satirini yenisiyle degistirerek) donduren bir cesidini yazmak.*"
   ]
  },
  {
   "cell_type": "code",
   "execution_count": 27,
   "metadata": {
    "id": "WGL-KCZ7mGZt"
   },
   "outputs": [],
   "source": [
    "def reverse_order_generator(data, lookback, delay, min_index, max_index,\n",
    "                            shuffle=False, batch_size=128, step=6):\n",
    "    if max_index is None:\n",
    "        max_index = len(data) - delay - 1\n",
    "    i = min_index + lookback\n",
    "    while 1:\n",
    "        if shuffle:\n",
    "            rows = np.random.randint(\n",
    "                min_index + lookback, max_index, size=batch_size)\n",
    "        else:\n",
    "            if i + batch_size >= max_index:\n",
    "                i = min_index + lookback\n",
    "            rows = np.arange(i, min(i + batch_size, max_index))\n",
    "            i += len(rows)\n",
    "\n",
    "        samples = np.zeros((len(rows),\n",
    "                           lookback // step,\n",
    "                           data.shape[-1]))\n",
    "        targets = np.zeros((len(rows),))\n",
    "        for j, row in enumerate(rows):\n",
    "            indices = range(rows[j] - lookback, rows[j], step)\n",
    "            samples[j] = data[indices]\n",
    "            targets[j] = data[rows[j] + delay][1]\n",
    "        yield samples[:, ::-1, :], targets\n",
    "        \n",
    "train_gen_reverse = reverse_order_generator(\n",
    "    float_data,\n",
    "    lookback=lookback,\n",
    "    delay=delay,\n",
    "    min_index=0,\n",
    "    max_index=200000,\n",
    "    shuffle=True,\n",
    "    step=step, \n",
    "    batch_size=batch_size)\n",
    "val_gen_reverse = reverse_order_generator(\n",
    "    float_data,\n",
    "    lookback=lookback,\n",
    "    delay=delay,\n",
    "    min_index=200001,\n",
    "    max_index=300000,\n",
    "    step=step,\n",
    "    batch_size=batch_size)"
   ]
  },
  {
   "cell_type": "code",
   "execution_count": 28,
   "metadata": {
    "id": "zQRxhN--mTzU"
   },
   "outputs": [
    {
     "name": "stdout",
     "output_type": "stream",
     "text": [
      "Epoch 1/20\n",
      "500/500 [==============================] - 11s 23ms/step - loss: 0.4764 - val_loss: 0.4834\n",
      "Epoch 2/20\n",
      "500/500 [==============================] - 11s 22ms/step - loss: 0.4516 - val_loss: 0.4646\n",
      "Epoch 3/20\n",
      "500/500 [==============================] - 11s 21ms/step - loss: 0.4077 - val_loss: 0.4289\n",
      "Epoch 4/20\n",
      "500/500 [==============================] - 11s 22ms/step - loss: 0.3609 - val_loss: 0.3692\n",
      "Epoch 5/20\n",
      "500/500 [==============================] - 11s 22ms/step - loss: 0.3167 - val_loss: 0.3308\n",
      "Epoch 6/20\n",
      "500/500 [==============================] - 11s 21ms/step - loss: 0.2922 - val_loss: 0.3187\n",
      "Epoch 7/20\n",
      "500/500 [==============================] - 11s 22ms/step - loss: 0.2811 - val_loss: 0.3081\n",
      "Epoch 8/20\n",
      "500/500 [==============================] - 11s 22ms/step - loss: 0.2711 - val_loss: 0.3185\n",
      "Epoch 9/20\n",
      "500/500 [==============================] - 11s 22ms/step - loss: 0.2636 - val_loss: 0.3125\n",
      "Epoch 10/20\n",
      "500/500 [==============================] - 11s 22ms/step - loss: 0.2603 - val_loss: 0.3231\n",
      "Epoch 11/20\n",
      "500/500 [==============================] - 11s 22ms/step - loss: 0.2547 - val_loss: 0.3320\n",
      "Epoch 12/20\n",
      "500/500 [==============================] - 11s 22ms/step - loss: 0.2479 - val_loss: 0.3186\n",
      "Epoch 13/20\n",
      "500/500 [==============================] - 11s 22ms/step - loss: 0.2441 - val_loss: 0.3215\n",
      "Epoch 14/20\n",
      "500/500 [==============================] - 11s 22ms/step - loss: 0.2405 - val_loss: 0.3261\n",
      "Epoch 15/20\n",
      "500/500 [==============================] - 11s 22ms/step - loss: 0.2356 - val_loss: 0.3321\n",
      "Epoch 16/20\n",
      "500/500 [==============================] - 10s 21ms/step - loss: 0.2331 - val_loss: 0.3299\n",
      "Epoch 17/20\n",
      "500/500 [==============================] - 11s 22ms/step - loss: 0.2278 - val_loss: 0.3351\n",
      "Epoch 18/20\n",
      "500/500 [==============================] - 11s 22ms/step - loss: 0.2270 - val_loss: 0.3310\n",
      "Epoch 19/20\n",
      "500/500 [==============================] - 11s 22ms/step - loss: 0.2244 - val_loss: 0.3387\n",
      "Epoch 20/20\n",
      "500/500 [==============================] - 11s 22ms/step - loss: 0.2198 - val_loss: 0.3447\n"
     ]
    }
   ],
   "source": [
    "model = Sequential()\n",
    "model.add(layers.GRU(32, input_shape=(None, float_data.shape[-1])))\n",
    "model.add(layers.Dense(1))\n",
    "\n",
    "model.compile(optimizer=RMSprop(), loss='mae')\n",
    "history = model.fit_generator(train_gen_reverse,\n",
    "                              steps_per_epoch=500,\n",
    "                              epochs=20,\n",
    "                              validation_data=val_gen_reverse,\n",
    "                              validation_steps=val_steps)"
   ]
  },
  {
   "cell_type": "code",
   "execution_count": 29,
   "metadata": {
    "id": "fJyzTtQPmWlh"
   },
   "outputs": [
    {
     "data": {
      "image/png": "[encoded data removed]",
      "text/plain": [
       "<Figure size 432x288 with 1 Axes>"
      ]
     },
     "metadata": {
      "needs_background": "light"
     },
     "output_type": "display_data"
    }
   ],
   "source": [
    "loss = history.history['loss']\n",
    "val_loss = history.history['val_loss']\n",
    "\n",
    "epochs = range(len(loss))\n",
    "\n",
    "plt.figure()\n",
    "\n",
    "plt.plot(epochs, loss, 'bo', label='Training loss')\n",
    "plt.plot(epochs, val_loss, 'b', label='Validation loss')\n",
    "plt.title('Training and validation loss')\n",
    "plt.legend()\n",
    "\n",
    "plt.show()"
   ]
  },
  {
   "cell_type": "markdown",
   "metadata": {
    "id": "zYbGjz0imAUP"
   },
   "source": [
    "So the reversed-order GRU strongly underperforms even the common-sense baseline, indicating that the in our case chronological processing is very important to the success of our approach. This makes perfect sense: the underlying GRU layer will typically be better at remembering the recent past than the distant past, and naturally the more recent weather data points are more predictive than older data points in our problem (that's precisely what makes the common-sense baseline a fairly strong baseline). Thus the chronological version of the layer is bound to outperform the reversed-order version. Importantly, this is generally not true for many other problems, including natural language: intuitively, the importance of a word in understanding a sentence is not usually dependent on its position in the sentence. Let's try the same trick on the LSTM IMDB example from the previous section:\n",
    "\n",
    "*Ters sirali GRU akil yurutmeden bile daha kotu sonuclar uretti, bu da kronolojik sirada egitmenin yaklasiminizin basarisi icin onemini gosteriyor. Bu cok mantikli: GRU katmani tahmin uretirken yakin gecmisi uzak gecmisten daha iyi hatirliyor. Kronolojik sirali versiyonunuz tersten siralidan cok daha iyidir. Ama bu dolgal dil isleme gibi her problemde dogru olmayabilir. Bir cumleyi anlamada bir kelimeyi anlamanin onemi genellikle cumle icindeki yerine bagli degildir.Ayni hileyi IMDB orneginde kullanalim.*"
   ]
  },
  {
   "cell_type": "code",
   "execution_count": 30,
   "metadata": {
    "colab": {
     "base_uri": "https://localhost:8080/"
    },
    "executionInfo": {
     "elapsed": 86438,
     "status": "ok",
     "timestamp": 1606517259920,
     "user": {
      "displayName": "Mustafa Çalışkan",
      "photoUrl": "",
      "userId": "12288596830520832399"
     },
     "user_tz": -60
    },
    "id": "4D7jYO7M4AQ8",
    "outputId": "23d44e47-f153-4200-9f18-93ce49f7fc53"
   },
   "outputs": [
    {
     "name": "stdout",
     "output_type": "stream",
     "text": [
      "Epoch 1/10\n",
      "157/157 [==============================] - 7s 43ms/step - loss: 0.4962 - acc: 0.7656 - val_loss: 0.3870 - val_acc: 0.8568\n",
      "Epoch 2/10\n",
      "157/157 [==============================] - 6s 39ms/step - loss: 0.3274 - acc: 0.8749 - val_loss: 0.5343 - val_acc: 0.8098\n",
      "Epoch 3/10\n",
      "157/157 [==============================] - 6s 41ms/step - loss: 0.2677 - acc: 0.8997 - val_loss: 0.3656 - val_acc: 0.8776\n",
      "Epoch 4/10\n",
      "157/157 [==============================] - 6s 40ms/step - loss: 0.2202 - acc: 0.9205 - val_loss: 0.5569 - val_acc: 0.7474\n",
      "Epoch 5/10\n",
      "157/157 [==============================] - 6s 39ms/step - loss: 0.1992 - acc: 0.9302 - val_loss: 0.3756 - val_acc: 0.8364\n",
      "Epoch 6/10\n",
      "157/157 [==============================] - 6s 39ms/step - loss: 0.1780 - acc: 0.9380 - val_loss: 0.6859 - val_acc: 0.7340\n",
      "Epoch 7/10\n",
      "157/157 [==============================] - 6s 39ms/step - loss: 0.1669 - acc: 0.9408 - val_loss: 0.3676 - val_acc: 0.8580\n",
      "Epoch 8/10\n",
      "157/157 [==============================] - 6s 41ms/step - loss: 0.1486 - acc: 0.9496 - val_loss: 0.3841 - val_acc: 0.8694\n",
      "Epoch 9/10\n",
      "157/157 [==============================] - 6s 40ms/step - loss: 0.1401 - acc: 0.9527 - val_loss: 0.4922 - val_acc: 0.8246\n",
      "Epoch 10/10\n",
      "157/157 [==============================] - 6s 41ms/step - loss: 0.1279 - acc: 0.9563 - val_loss: 0.3809 - val_acc: 0.8706\n"
     ]
    }
   ],
   "source": [
    "from keras.datasets import imdb\n",
    "from keras.preprocessing import sequence\n",
    "from keras import layers\n",
    "from keras.models import Sequential\n",
    "\n",
    "max_features = 10000\n",
    "maxlen = 500\n",
    "\n",
    "(x_train, y_train), (x_test, y_test) = imdb.load_data(num_words=max_features)\n",
    "\n",
    "# dizileri ters sirali olusturma\n",
    "x_train = [x[::-1] for x in x_train]\n",
    "x_test = [x[::-1] for x in x_test]\n",
    "\n",
    "x_train = sequence.pad_sequences(x_train, maxlen=maxlen)\n",
    "x_test = sequence.pad_sequences(x_test, maxlen=maxlen)\n",
    "\n",
    "model = Sequential()\n",
    "model.add(layers.Embedding(max_features, 128))\n",
    "model.add(layers.LSTM(32))\n",
    "model.add(layers.Dense(1, activation='sigmoid'))\n",
    "\n",
    "model.compile(optimizer='rmsprop',\n",
    "              loss='binary_crossentropy',\n",
    "              metrics=['acc'])\n",
    "history = model.fit(x_train, y_train,\n",
    "                    epochs=10,\n",
    "                    batch_size=128,\n",
    "                    validation_split=0.2)"
   ]
  },
  {
   "cell_type": "markdown",
   "metadata": {
    "id": "bpWukiNim2-E"
   },
   "source": [
    "We get near-identical performance as the chronological-order LSTM we tried in the previous section.\n",
    "\n",
    "Thus, remarkably, on such a text dataset, reversed-order processing works just as well as chronological processing, confirming our hypothesis that, albeit word order does matter in understanding language, which order you use isn't crucial. Importantly, a RNN trained on reversed sequences will learn different representations than one trained on the original sequences, in much the same way that you would have quite different mental models if time flowed backwards in the real world -- if you lived a life where you died on your first day and you were born on your last day. In machine learning, representations that are different yet useful are always worth exploiting, and the more they differ the better: they offer a new angle from which to look at your data, capturing aspects of the data that were missed by other approaches, and thus they can allow to boost performance on a task. This is the intuition behind \"ensembling\", a concept that we will introduce in the next chapter.\n",
    "\n",
    "A bidirectional RNN exploits this idea to improve upon the performance of chronological-order RNNs: it looks at its inputs sequence both ways, obtaining potentially richer representations and capturing patterns that may have been missed by the chronological-order version alone.\n",
    "\n",
    "To instantiate a bidirectional RNN in Keras, one would use the Bidirectional layer, which takes as first argument a recurrent layer instance. Bidirectional will create a second, separate instance of this recurrent layer, and will use one instance for processing the input sequences in chronological order and the other instance for processing the input sequences in reversed order. Let's try it on the IMDB sentiment analysis task:\n",
    "\n",
    "*Neredeyse kronolojik sirali LTSM ile ayni sonuclari elde ettiniz. Dahasi, metin veri setlerinde koronolojik sira ve tersten kronolojik sira ise yariyor. Her ne kadar kelime sirasi, dogal dil islemede onemli olsa da hangi siralamayi kullandiginizin bor onemi yoktur. Ters siralamayla egitilmis RNN, normal siralamada egitilenden farkli gosterimler ogrenecektir. Ayni gercek hayatta zaman tersten aksaydi oldugunuz gun ilk gununuz, dogdugunuz gun son gununuz olsaydi farkli dusunme modeline sahip olacaganiz gibi. Makine ogrenmesinde farkli oldugu kadar kullanisli gosterimler farklilastikca daha iyi olur. Baktiginiz veriye farkli acilar sinar, bir yaklasimin gozden kacirdigini yakalar ve performansi iyilestirir.*\n",
    "\n",
    "*Iki yonlu RNN'ler bu dusunceden yola cikarak kronolojik siralama da performansi artirmak icin kullanilir. Girdiye her iki yonden bakarak olasi daha zengin gosterimleri ve kronolojik sirada gozden kacan oruntuleri yakalar.*\n",
    "\n",
    "*Keras'ta iki yonlu RNN katmani olusturmak icin Bidirectional katmani kullanacaksiniz. Il parametre olarak, kullanacagi yinelemeli katman gonderilir. Bidirectional bu yinelemeli katmanin ayri ikinci bir ornegini olusturur ve birinde kronolojik sirada digerinde ters sirada girdiyi isler. Simdi bunu IMBD setinde deneyelim.*"
   ]
  },
  {
   "cell_type": "code",
   "execution_count": 31,
   "metadata": {
    "id": "joRVwLnv4AUM"
   },
   "outputs": [],
   "source": [
    "from keras import backend as K\n",
    "K.clear_session()"
   ]
  },
  {
   "cell_type": "code",
   "execution_count": 32,
   "metadata": {
    "id": "VBxHWFs44AW0"
   },
   "outputs": [
    {
     "name": "stdout",
     "output_type": "stream",
     "text": [
      "Epoch 1/10\n",
      "157/157 [==============================] - 8s 51ms/step - loss: 0.5377 - acc: 0.7363 - val_loss: 0.5101 - val_acc: 0.8186\n",
      "Epoch 2/10\n",
      "157/157 [==============================] - 7s 46ms/step - loss: 0.3232 - acc: 0.8787 - val_loss: 0.4005 - val_acc: 0.8614\n",
      "Epoch 3/10\n",
      "157/157 [==============================] - 7s 45ms/step - loss: 0.2655 - acc: 0.9010 - val_loss: 0.4933 - val_acc: 0.7726\n",
      "Epoch 4/10\n",
      "157/157 [==============================] - 7s 45ms/step - loss: 0.2270 - acc: 0.9175 - val_loss: 0.3329 - val_acc: 0.8838\n",
      "Epoch 5/10\n",
      "157/157 [==============================] - 7s 45ms/step - loss: 0.1941 - acc: 0.9319 - val_loss: 0.3078 - val_acc: 0.8798\n",
      "Epoch 6/10\n",
      "157/157 [==============================] - 7s 46ms/step - loss: 0.1754 - acc: 0.9375 - val_loss: 0.3406 - val_acc: 0.8706\n",
      "Epoch 7/10\n",
      "157/157 [==============================] - 7s 46ms/step - loss: 0.1575 - acc: 0.9445 - val_loss: 0.6030 - val_acc: 0.7822\n",
      "Epoch 8/10\n",
      "157/157 [==============================] - 7s 47ms/step - loss: 0.1512 - acc: 0.9482 - val_loss: 0.4433 - val_acc: 0.8760\n",
      "Epoch 9/10\n",
      "157/157 [==============================] - 7s 45ms/step - loss: 0.1304 - acc: 0.9567 - val_loss: 0.4415 - val_acc: 0.8670\n",
      "Epoch 10/10\n",
      "157/157 [==============================] - 7s 45ms/step - loss: 0.1239 - acc: 0.9591 - val_loss: 0.3648 - val_acc: 0.8750\n"
     ]
    }
   ],
   "source": [
    "model = Sequential()\n",
    "model.add(layers.Embedding(max_features, 32))\n",
    "model.add(layers.Bidirectional(layers.LSTM(32)))\n",
    "model.add(layers.Dense(1, activation='sigmoid'))\n",
    "\n",
    "model.compile(optimizer='rmsprop', loss='binary_crossentropy', metrics=['acc'])\n",
    "history = model.fit(x_train, y_train, epochs=10, batch_size=128, validation_split=0.2)"
   ]
  },
  {
   "cell_type": "markdown",
   "metadata": {
    "id": "PFzzBwhtooRf"
   },
   "source": [
    "It performs slightly better than the regular LSTM we tried in the previous section, going above 88% validation accuracy. It also seems to overfit faster, which is unsurprising since a bidirectional layer has twice more parameters than a chronological LSTM. With some regularization, the bidirectional approach would likely be a strong performer on this task.\n",
    "\n",
    "Now let's try the same approach on the weather prediction task:\n",
    "\n",
    "*Onceki bolumde gordugumuz normal LSTM'den biraz daha iyi bir performans gosteriyor. Ama daha hizli asiri uydurdugunu gorebilirsiniz ve bu supriz olmamali. Cunku iki yonlu katman kronolojik sirali LSTM nin iki kati parametre kullaniyor. Biraz duzenlilestirmeyle iki yonlu yaklasim bu gorevde daha iyi performans gostermeye adaydir.*\n",
    "\n",
    "*Simdi de bu yaklasimi hava sicakligi tahmin gorevinde deneyelim.*"
   ]
  },
  {
   "cell_type": "code",
   "execution_count": 33,
   "metadata": {
    "id": "_oz0EPSP4AZl"
   },
   "outputs": [
    {
     "name": "stdout",
     "output_type": "stream",
     "text": [
      "Epoch 1/40\n",
      "500/500 [==============================] - 14s 29ms/step - loss: 0.2887 - val_loss: 0.2737\n",
      "Epoch 2/40\n",
      "500/500 [==============================] - 13s 27ms/step - loss: 0.2730 - val_loss: 0.2839\n",
      "Epoch 3/40\n",
      "500/500 [==============================] - 13s 26ms/step - loss: 0.2687 - val_loss: 0.2720\n",
      "Epoch 4/40\n",
      "500/500 [==============================] - 13s 26ms/step - loss: 0.2642 - val_loss: 0.2709\n",
      "Epoch 5/40\n",
      "500/500 [==============================] - 13s 27ms/step - loss: 0.2556 - val_loss: 0.2721\n",
      "Epoch 6/40\n",
      "500/500 [==============================] - 13s 26ms/step - loss: 0.2526 - val_loss: 0.2796\n",
      "Epoch 7/40\n",
      "500/500 [==============================] - 13s 26ms/step - loss: 0.2448 - val_loss: 0.2785\n",
      "Epoch 8/40\n",
      "500/500 [==============================] - 13s 27ms/step - loss: 0.2370 - val_loss: 0.2753\n",
      "Epoch 9/40\n",
      "500/500 [==============================] - 13s 27ms/step - loss: 0.2324 - val_loss: 0.2821\n",
      "Epoch 10/40\n",
      "500/500 [==============================] - 14s 27ms/step - loss: 0.2245 - val_loss: 0.2921\n",
      "Epoch 11/40\n",
      "500/500 [==============================] - 13s 27ms/step - loss: 0.2201 - val_loss: 0.2910\n",
      "Epoch 12/40\n",
      "500/500 [==============================] - 14s 27ms/step - loss: 0.2130 - val_loss: 0.2906\n",
      "Epoch 13/40\n",
      "500/500 [==============================] - 13s 27ms/step - loss: 0.2074 - val_loss: 0.2999\n",
      "Epoch 14/40\n",
      "500/500 [==============================] - 13s 27ms/step - loss: 0.2013 - val_loss: 0.2972\n",
      "Epoch 15/40\n",
      "500/500 [==============================] - 14s 27ms/step - loss: 0.1962 - val_loss: 0.3043\n",
      "Epoch 16/40\n",
      "500/500 [==============================] - 14s 28ms/step - loss: 0.1936 - val_loss: 0.3026\n",
      "Epoch 17/40\n",
      "500/500 [==============================] - 14s 28ms/step - loss: 0.1874 - val_loss: 0.3072\n",
      "Epoch 18/40\n",
      "500/500 [==============================] - 14s 28ms/step - loss: 0.1849 - val_loss: 0.3063\n",
      "Epoch 19/40\n",
      "500/500 [==============================] - 14s 28ms/step - loss: 0.1803 - val_loss: 0.3097\n",
      "Epoch 20/40\n",
      "500/500 [==============================] - 14s 27ms/step - loss: 0.1747 - val_loss: 0.3122\n",
      "Epoch 21/40\n",
      "500/500 [==============================] - 14s 27ms/step - loss: 0.1718 - val_loss: 0.3183\n",
      "Epoch 22/40\n",
      "500/500 [==============================] - 13s 27ms/step - loss: 0.1691 - val_loss: 0.3148\n",
      "Epoch 23/40\n",
      "500/500 [==============================] - 14s 27ms/step - loss: 0.1654 - val_loss: 0.3239\n",
      "Epoch 24/40\n",
      "500/500 [==============================] - 14s 27ms/step - loss: 0.1631 - val_loss: 0.3194\n",
      "Epoch 25/40\n",
      "500/500 [==============================] - 14s 27ms/step - loss: 0.1595 - val_loss: 0.3207\n",
      "Epoch 26/40\n",
      "500/500 [==============================] - 14s 27ms/step - loss: 0.1572 - val_loss: 0.3232\n",
      "Epoch 27/40\n",
      "500/500 [==============================] - 14s 27ms/step - loss: 0.1552 - val_loss: 0.3246\n",
      "Epoch 28/40\n",
      "500/500 [==============================] - 14s 27ms/step - loss: 0.1518 - val_loss: 0.3245\n",
      "Epoch 29/40\n",
      "500/500 [==============================] - 14s 27ms/step - loss: 0.1502 - val_loss: 0.3296\n",
      "Epoch 30/40\n",
      "500/500 [==============================] - 14s 27ms/step - loss: 0.1487 - val_loss: 0.3333\n",
      "Epoch 31/40\n",
      "500/500 [==============================] - 13s 27ms/step - loss: 0.1460 - val_loss: 0.3297\n",
      "Epoch 32/40\n",
      "500/500 [==============================] - 14s 27ms/step - loss: 0.1444 - val_loss: 0.3324\n",
      "Epoch 33/40\n",
      "500/500 [==============================] - 13s 27ms/step - loss: 0.1436 - val_loss: 0.3399\n",
      "Epoch 34/40\n",
      "500/500 [==============================] - 13s 27ms/step - loss: 0.1412 - val_loss: 0.3410\n",
      "Epoch 35/40\n",
      "500/500 [==============================] - 13s 27ms/step - loss: 0.1400 - val_loss: 0.3365\n",
      "Epoch 36/40\n",
      "500/500 [==============================] - 13s 27ms/step - loss: 0.1374 - val_loss: 0.3436\n",
      "Epoch 37/40\n",
      "500/500 [==============================] - 13s 27ms/step - loss: 0.1367 - val_loss: 0.3408\n",
      "Epoch 38/40\n",
      "500/500 [==============================] - 14s 27ms/step - loss: 0.1350 - val_loss: 0.3358\n",
      "Epoch 39/40\n",
      "500/500 [==============================] - 14s 27ms/step - loss: 0.1334 - val_loss: 0.3405\n",
      "Epoch 40/40\n",
      "500/500 [==============================] - 13s 26ms/step - loss: 0.1330 - val_loss: 0.3421\n"
     ]
    }
   ],
   "source": [
    "from keras.models import Sequential\n",
    "from keras import layers\n",
    "from keras.optimizers import RMSprop\n",
    "\n",
    "model = Sequential()\n",
    "model.add(layers.Bidirectional(layers.GRU(32), input_shape=(None, float_data.shape[-1])))\n",
    "model.add(layers.Dense(1))\n",
    "\n",
    "model.compile(optimizer=RMSprop(), loss='mae')\n",
    "history = model.fit_generator(train_gen,\n",
    "                              steps_per_epoch=500,\n",
    "                              epochs=40,\n",
    "                              validation_data=val_gen,\n",
    "                              validation_steps=val_steps)"
   ]
  },
  {
   "cell_type": "markdown",
   "metadata": {
    "id": "1N_05N6SpRsT"
   },
   "source": [
    "It performs about as well as the regular GRU layer. It's easy to understand why: all of the predictive capacity must be coming from the chronological half of the network, since the anti-chronological half is known to be severely underperforming on this task (again, because the recent past matters much more than the distant past in this case).\n",
    "\n",
    "*Bu da normal GRU katmaniyla benzer sonuclar elde ediyor. Neden oldugunu anlamak kolay: Bu gorevde tahmin kapasitesinin yarisi kornolojik agdan yarisiysa bu gorevde basarisiz olan ters sirali agdan geliyor (unutmayin yakin gecmis uzak gexmisten daha onemli bir veri setinde)*"
   ]
  },
  {
   "cell_type": "markdown",
   "metadata": {
    "id": "vY4ogSnIppIz"
   },
   "source": [
    "### **Going even further**"
   ]
  },
  {
   "cell_type": "markdown",
   "metadata": {
    "id": "vdGuC7mzpta9"
   },
   "source": [
    "At this stage, there are still many other things you could try in order to improve performance on our weather forecasting problem:\n",
    "\n",
    "- Adjust the number of units in each recurrent layer in the stacked setup. Our current choices are largely arbitrary and thus likely suboptimal.\n",
    "- Adjust the learning rate used by our RMSprop optimizer.\n",
    "- Try using LSTM layers instead of GRU layers.\n",
    "- Try using a bigger densely-connected regressor on top of the recurrent layers, i.e. a bigger Dense layer or even a stack of Dense layers.\n",
    "- Don't forget to eventually run the best performing models (in terms of validation MAE) on the test set! Least you start developing architectures that are overfitting to the validation set.\n",
    "As usual: deep learning is more an art than a science, and while we can provide guidelines as to what is likely to work or not work on a given problem, ultimately every problem is unique and you will have to try and evaluate different strategies empirically. There is currently no theory that will tell you in advance precisely what you should do to optimally solve a problem. You must try and iterate.\n",
    "\n",
    "*Hava sicakligi tahmin probleminde deneyebileceginiz daha baska seyler de var:*\n",
    "\n",
    "- *Ust uste yinelemeli katman yapisinda katmanlardaki birim sayisini degistirin. Su anki secim tamamen rastgele ve muhtemelen de en iyisi degil.*\n",
    "- *RMSprop algoritmasinin ogrenme oranini degistirin.*\n",
    "- *GRU yerine LSTM katmani kullanin.*\n",
    "- *Yinelemeli katmanlarin uzerinde tamamen bagli Dense baglanim katmani kullanin. Hatta ust uste Dense katmanlari kullanin.*\n",
    "- *En iyi modelinizi test veri setinde calistirmayi unutmayin (dogrulama MAE skoruna gore en iyisini) Aksi halde dogruama veri detine asiri uyduran bir model elde edersiniz. *"
   ]
  },
  {
   "cell_type": "markdown",
   "metadata": {
    "id": "BOpWC8Zg1PFI"
   },
   "source": [
    "### **Wrapping up**"
   ]
  },
  {
   "cell_type": "markdown",
   "metadata": {
    "id": "depoSVln1Y6l"
   },
   "source": [
    "Here's what you should take away from this section:\n",
    "\n",
    "- As you first learned in Chapter 4, when approaching a new problem, it is good to first establish common sense baselines for your metric of choice. If you don't have a baseline to beat, you can't tell if you are making any real progress.\n",
    "- Try simple models before expensive ones, to justify the additional expense. Sometimes a simple model will turn out to be your best option.\n",
    "- On data where temporal ordering matters, recurrent networks are a great fit and easily outperform models that first flatten the temporal data.\n",
    "- To use dropout with recurrent networks, one should use a time-constant dropout mask and recurrent dropout mask. This is built into Keras recurrent layers, so all you have to do is use the dropout and recurrent_dropout arguments of recurrent layers.\n",
    "- Stacked RNNs provide more representational power than a single RNN layer. They are also much more expensive, and thus not always worth it. While they offer clear gains on complex problems (e.g. machine translation), they might not always be relevant to smaller, simpler problems.\n",
    "- Bidirectional RNNs, which look at a sequence both ways, are very useful on natural language processing problems. However, they will not be strong performers on sequence data where the recent past is much more informative than the beginning of the sequence.\n",
    "\n",
    "Note there are two important concepts that we will not cover in detail here: recurrent \"attention\", and sequence masking. Both tend to be especially relevant for natural language processing, and are not particularly applicable to our temperature forecasting problem. We will leave them for future study outside of this book.\n",
    "\n",
    "- *Yeni bir probleme yaklasirken temel bir model ve olcum kriterlerinizi belirlemelisiniz. Eger yeneceginiz bir temel model yoksa gercekten ilerleme kaydedip kaydetmediginizi bilmezsiniz.*\n",
    "- *Basit modelleri maliyetli modellerden once deneyerek arti cabaya degip degmedigini belirleyin.*\n",
    "- *Zamansal siranin onemli oldugu problemlerde yinelemeli modeller veriyi duzlestiren modellerden cok daha basarilidir.*\n",
    "- *Yinelemeli aglarda iletim sonumu kuallanirken, zamanda sabit bir ileti sonumu maskesi ve yinelemeli iletim sonumu maskesi kullanamazsiniz. Keras'ta bunun icin yinelemeli katmanlarda iki parametre kullanilir. dropout ve recurrent_droput*\n",
    "- *Ust uste RNN'ler tek RNN katmanindan cok daha guclu gosterimler saglarlar. Ancak yuksek maliyetlerinden dolayi her zaman kullanmaya degmeyebilirler. Makine cevirisi gibi karmasik problemlerde kazanimlar getirse de kucuk ve basit problemler icin gereksizdir.*\n",
    "- *Veriye her iki yonden de bakan iki yonlu RNN'ler dogal dil isleme problemlerinde kullanislidir. Ama yakin gecmisin uzak gecmisten daha onemli oldugu dizi problemlerinde o kadar da iyi degillerdir.*"
   ]
  }
 ],
 "metadata": {
  "accelerator": "GPU",
  "colab": {
   "authorship_tag": "ABX9TyPcGygsCC8m8g+mTj4U+fMG",
   "mount_file_id": "1z1UVM3MXxZbMAUIuMBO7RTQNvZqD0LRF",
   "name": "Advanced use of recurrent neural networks.ipynb",
   "provenance": []
  },
  "kernelspec": {
   "display_name": "Python 3",
   "language": "python",
   "name": "python3"
  },
  "language_info": {
   "codemirror_mode": {
    "name": "ipython",
    "version": 3
   },
   "file_extension": ".py",
   "mimetype": "text/x-python",
   "name": "python",
   "nbconvert_exporter": "python",
   "pygments_lexer": "ipython3",
   "version": "3.8.5"
  }
 },
 "nbformat": 4,
 "nbformat_minor": 4
}
